{
 "cells": [
  {
   "cell_type": "code",
   "execution_count": 1,
   "metadata": {},
   "outputs": [],
   "source": [
    "import os\n",
    "import numpy as np\n",
    "import pandas as pd"
   ]
  },
  {
   "cell_type": "code",
   "execution_count": 99,
   "metadata": {},
   "outputs": [],
   "source": [
    "import matplotlib.pyplot as plt\n",
    "%matplotlib inline\n",
    "import seaborn as sns\n",
    "sns.set()"
   ]
  },
  {
   "cell_type": "code",
   "execution_count": 108,
   "metadata": {},
   "outputs": [],
   "source": [
    "df = pd.read_csv(r'C:\\Users\\lilie\\OneDrive\\Bureau\\ironHack\\dataset\\fake_real_final.csv')"
   ]
  },
  {
   "cell_type": "code",
   "execution_count": 110,
   "metadata": {},
   "outputs": [
    {
     "data": {
      "text/html": [
       "<div>\n",
       "<style scoped>\n",
       "    .dataframe tbody tr th:only-of-type {\n",
       "        vertical-align: middle;\n",
       "    }\n",
       "\n",
       "    .dataframe tbody tr th {\n",
       "        vertical-align: top;\n",
       "    }\n",
       "\n",
       "    .dataframe thead th {\n",
       "        text-align: right;\n",
       "    }\n",
       "</style>\n",
       "<table border=\"1\" class=\"dataframe\">\n",
       "  <thead>\n",
       "    <tr style=\"text-align: right;\">\n",
       "      <th></th>\n",
       "      <th>label_REAL</th>\n",
       "      <th>txt</th>\n",
       "    </tr>\n",
       "  </thead>\n",
       "  <tbody>\n",
       "    <tr>\n",
       "      <th>0</th>\n",
       "      <td>0</td>\n",
       "      <td>You Can Smell Hillary’s Fear Daniel Greenfield...</td>\n",
       "    </tr>\n",
       "    <tr>\n",
       "      <th>1</th>\n",
       "      <td>0</td>\n",
       "      <td>Watch The Exact Moment Paul Ryan Committed Pol...</td>\n",
       "    </tr>\n",
       "    <tr>\n",
       "      <th>2</th>\n",
       "      <td>1</td>\n",
       "      <td>Kerry to go to Paris in gesture of sympathy U....</td>\n",
       "    </tr>\n",
       "    <tr>\n",
       "      <th>3</th>\n",
       "      <td>0</td>\n",
       "      <td>Bernie supporters on Twitter erupt in anger ag...</td>\n",
       "    </tr>\n",
       "    <tr>\n",
       "      <th>4</th>\n",
       "      <td>1</td>\n",
       "      <td>The Battle of New York: Why This Primary Matte...</td>\n",
       "    </tr>\n",
       "  </tbody>\n",
       "</table>\n",
       "</div>"
      ],
      "text/plain": [
       "   label_REAL                                                txt\n",
       "0           0  You Can Smell Hillary’s Fear Daniel Greenfield...\n",
       "1           0  Watch The Exact Moment Paul Ryan Committed Pol...\n",
       "2           1  Kerry to go to Paris in gesture of sympathy U....\n",
       "3           0  Bernie supporters on Twitter erupt in anger ag...\n",
       "4           1  The Battle of New York: Why This Primary Matte..."
      ]
     },
     "execution_count": 110,
     "metadata": {},
     "output_type": "execute_result"
    }
   ],
   "source": [
    "df['txt'] = df['title'] + \" \" + df['text']\n",
    "df = df.drop(columns = ['title', 'text','subject','date'])\n",
    "df = df.loc[~df['txt'].isna()]\n",
    "df.head()"
   ]
  },
  {
   "cell_type": "code",
   "execution_count": 4,
   "metadata": {},
   "outputs": [],
   "source": [
    "from nltk.corpus import stopwords\n",
    "from nltk.stem import WordNetLemmatizer\n",
    "from nltk.tokenize import word_tokenize, RegexpTokenizer"
   ]
  },
  {
   "cell_type": "markdown",
   "metadata": {},
   "source": [
    "# Lemmatization - test on sample"
   ]
  },
  {
   "cell_type": "code",
   "execution_count": 22,
   "metadata": {},
   "outputs": [
    {
     "data": {
      "text/html": [
       "<div>\n",
       "<style scoped>\n",
       "    .dataframe tbody tr th:only-of-type {\n",
       "        vertical-align: middle;\n",
       "    }\n",
       "\n",
       "    .dataframe tbody tr th {\n",
       "        vertical-align: top;\n",
       "    }\n",
       "\n",
       "    .dataframe thead th {\n",
       "        text-align: right;\n",
       "    }\n",
       "</style>\n",
       "<table border=\"1\" class=\"dataframe\">\n",
       "  <thead>\n",
       "    <tr style=\"text-align: right;\">\n",
       "      <th></th>\n",
       "      <th>label_REAL</th>\n",
       "      <th>txt</th>\n",
       "    </tr>\n",
       "  </thead>\n",
       "  <tbody>\n",
       "    <tr>\n",
       "      <th>0</th>\n",
       "      <td>0</td>\n",
       "      <td>You Can Smell Hillary’s Fear Daniel Greenfield...</td>\n",
       "    </tr>\n",
       "    <tr>\n",
       "      <th>1</th>\n",
       "      <td>0</td>\n",
       "      <td>Watch The Exact Moment Paul Ryan Committed Pol...</td>\n",
       "    </tr>\n",
       "    <tr>\n",
       "      <th>2</th>\n",
       "      <td>1</td>\n",
       "      <td>Kerry to go to Paris in gesture of sympathy U....</td>\n",
       "    </tr>\n",
       "    <tr>\n",
       "      <th>3</th>\n",
       "      <td>0</td>\n",
       "      <td>Bernie supporters on Twitter erupt in anger ag...</td>\n",
       "    </tr>\n",
       "    <tr>\n",
       "      <th>4</th>\n",
       "      <td>1</td>\n",
       "      <td>The Battle of New York: Why This Primary Matte...</td>\n",
       "    </tr>\n",
       "  </tbody>\n",
       "</table>\n",
       "</div>"
      ],
      "text/plain": [
       "   label_REAL                                                txt\n",
       "0           0  You Can Smell Hillary’s Fear Daniel Greenfield...\n",
       "1           0  Watch The Exact Moment Paul Ryan Committed Pol...\n",
       "2           1  Kerry to go to Paris in gesture of sympathy U....\n",
       "3           0  Bernie supporters on Twitter erupt in anger ag...\n",
       "4           1  The Battle of New York: Why This Primary Matte..."
      ]
     },
     "execution_count": 22,
     "metadata": {},
     "output_type": "execute_result"
    }
   ],
   "source": [
    "df_sample = df.head(100).copy()\n",
    "df_sample.head()"
   ]
  },
  {
   "cell_type": "code",
   "execution_count": 14,
   "metadata": {},
   "outputs": [],
   "source": [
    "#stopwords (17:29 to 17:30)\n",
    "#df_sample['txt_without_stopwords'] = df_sample['txt'].apply(lambda x: ' '.join([word for word in x.lower().split() if word not in (set(stopwords.words('english')))]))"
   ]
  },
  {
   "cell_type": "code",
   "execution_count": 23,
   "metadata": {},
   "outputs": [
    {
     "data": {
      "text/html": [
       "<div>\n",
       "<style scoped>\n",
       "    .dataframe tbody tr th:only-of-type {\n",
       "        vertical-align: middle;\n",
       "    }\n",
       "\n",
       "    .dataframe tbody tr th {\n",
       "        vertical-align: top;\n",
       "    }\n",
       "\n",
       "    .dataframe thead th {\n",
       "        text-align: right;\n",
       "    }\n",
       "</style>\n",
       "<table border=\"1\" class=\"dataframe\">\n",
       "  <thead>\n",
       "    <tr style=\"text-align: right;\">\n",
       "      <th></th>\n",
       "      <th>label_REAL</th>\n",
       "      <th>txt</th>\n",
       "      <th>txt_lower</th>\n",
       "    </tr>\n",
       "  </thead>\n",
       "  <tbody>\n",
       "    <tr>\n",
       "      <th>0</th>\n",
       "      <td>0</td>\n",
       "      <td>You Can Smell Hillary’s Fear Daniel Greenfield...</td>\n",
       "      <td>you can smell hillary’s fear daniel greenfield...</td>\n",
       "    </tr>\n",
       "    <tr>\n",
       "      <th>1</th>\n",
       "      <td>0</td>\n",
       "      <td>Watch The Exact Moment Paul Ryan Committed Pol...</td>\n",
       "      <td>watch the exact moment paul ryan committed pol...</td>\n",
       "    </tr>\n",
       "    <tr>\n",
       "      <th>2</th>\n",
       "      <td>1</td>\n",
       "      <td>Kerry to go to Paris in gesture of sympathy U....</td>\n",
       "      <td>kerry to go to paris in gesture of sympathy u....</td>\n",
       "    </tr>\n",
       "    <tr>\n",
       "      <th>3</th>\n",
       "      <td>0</td>\n",
       "      <td>Bernie supporters on Twitter erupt in anger ag...</td>\n",
       "      <td>bernie supporters on twitter erupt in anger ag...</td>\n",
       "    </tr>\n",
       "    <tr>\n",
       "      <th>4</th>\n",
       "      <td>1</td>\n",
       "      <td>The Battle of New York: Why This Primary Matte...</td>\n",
       "      <td>the battle of new york: why this primary matte...</td>\n",
       "    </tr>\n",
       "  </tbody>\n",
       "</table>\n",
       "</div>"
      ],
      "text/plain": [
       "   label_REAL                                                txt  \\\n",
       "0           0  You Can Smell Hillary’s Fear Daniel Greenfield...   \n",
       "1           0  Watch The Exact Moment Paul Ryan Committed Pol...   \n",
       "2           1  Kerry to go to Paris in gesture of sympathy U....   \n",
       "3           0  Bernie supporters on Twitter erupt in anger ag...   \n",
       "4           1  The Battle of New York: Why This Primary Matte...   \n",
       "\n",
       "                                           txt_lower  \n",
       "0  you can smell hillary’s fear daniel greenfield...  \n",
       "1  watch the exact moment paul ryan committed pol...  \n",
       "2  kerry to go to paris in gesture of sympathy u....  \n",
       "3  bernie supporters on twitter erupt in anger ag...  \n",
       "4  the battle of new york: why this primary matte...  "
      ]
     },
     "execution_count": 23,
     "metadata": {},
     "output_type": "execute_result"
    }
   ],
   "source": [
    "# text lower\n",
    "df_sample['txt_lower'] = df_sample['txt'].apply(lambda x: x.lower())\n",
    "df_sample.head()"
   ]
  },
  {
   "cell_type": "code",
   "execution_count": 24,
   "metadata": {},
   "outputs": [
    {
     "data": {
      "text/html": [
       "<div>\n",
       "<style scoped>\n",
       "    .dataframe tbody tr th:only-of-type {\n",
       "        vertical-align: middle;\n",
       "    }\n",
       "\n",
       "    .dataframe tbody tr th {\n",
       "        vertical-align: top;\n",
       "    }\n",
       "\n",
       "    .dataframe thead th {\n",
       "        text-align: right;\n",
       "    }\n",
       "</style>\n",
       "<table border=\"1\" class=\"dataframe\">\n",
       "  <thead>\n",
       "    <tr style=\"text-align: right;\">\n",
       "      <th></th>\n",
       "      <th>label_REAL</th>\n",
       "      <th>txt</th>\n",
       "      <th>txt_lower</th>\n",
       "      <th>tokenised_txt</th>\n",
       "    </tr>\n",
       "  </thead>\n",
       "  <tbody>\n",
       "    <tr>\n",
       "      <th>0</th>\n",
       "      <td>0</td>\n",
       "      <td>You Can Smell Hillary’s Fear Daniel Greenfield...</td>\n",
       "      <td>you can smell hillary’s fear daniel greenfield...</td>\n",
       "      <td>[you, can, smell, hillary, s, fear, daniel, gr...</td>\n",
       "    </tr>\n",
       "    <tr>\n",
       "      <th>1</th>\n",
       "      <td>0</td>\n",
       "      <td>Watch The Exact Moment Paul Ryan Committed Pol...</td>\n",
       "      <td>watch the exact moment paul ryan committed pol...</td>\n",
       "      <td>[watch, the, exact, moment, paul, ryan, commit...</td>\n",
       "    </tr>\n",
       "    <tr>\n",
       "      <th>2</th>\n",
       "      <td>1</td>\n",
       "      <td>Kerry to go to Paris in gesture of sympathy U....</td>\n",
       "      <td>kerry to go to paris in gesture of sympathy u....</td>\n",
       "      <td>[kerry, to, go, to, paris, in, gesture, of, sy...</td>\n",
       "    </tr>\n",
       "    <tr>\n",
       "      <th>3</th>\n",
       "      <td>0</td>\n",
       "      <td>Bernie supporters on Twitter erupt in anger ag...</td>\n",
       "      <td>bernie supporters on twitter erupt in anger ag...</td>\n",
       "      <td>[bernie, supporters, on, twitter, erupt, in, a...</td>\n",
       "    </tr>\n",
       "    <tr>\n",
       "      <th>4</th>\n",
       "      <td>1</td>\n",
       "      <td>The Battle of New York: Why This Primary Matte...</td>\n",
       "      <td>the battle of new york: why this primary matte...</td>\n",
       "      <td>[the, battle, of, new, york, why, this, primar...</td>\n",
       "    </tr>\n",
       "  </tbody>\n",
       "</table>\n",
       "</div>"
      ],
      "text/plain": [
       "   label_REAL                                                txt  \\\n",
       "0           0  You Can Smell Hillary’s Fear Daniel Greenfield...   \n",
       "1           0  Watch The Exact Moment Paul Ryan Committed Pol...   \n",
       "2           1  Kerry to go to Paris in gesture of sympathy U....   \n",
       "3           0  Bernie supporters on Twitter erupt in anger ag...   \n",
       "4           1  The Battle of New York: Why This Primary Matte...   \n",
       "\n",
       "                                           txt_lower  \\\n",
       "0  you can smell hillary’s fear daniel greenfield...   \n",
       "1  watch the exact moment paul ryan committed pol...   \n",
       "2  kerry to go to paris in gesture of sympathy u....   \n",
       "3  bernie supporters on twitter erupt in anger ag...   \n",
       "4  the battle of new york: why this primary matte...   \n",
       "\n",
       "                                       tokenised_txt  \n",
       "0  [you, can, smell, hillary, s, fear, daniel, gr...  \n",
       "1  [watch, the, exact, moment, paul, ryan, commit...  \n",
       "2  [kerry, to, go, to, paris, in, gesture, of, sy...  \n",
       "3  [bernie, supporters, on, twitter, erupt, in, a...  \n",
       "4  [the, battle, of, new, york, why, this, primar...  "
      ]
     },
     "execution_count": 24,
     "metadata": {},
     "output_type": "execute_result"
    }
   ],
   "source": [
    "#tokenization\n",
    "#tt = TweetTokenizer()\n",
    "#df_sample['tokenised_txt'] = df_sample['txt_without_stopwords'].apply(tt.tokenize)\n",
    "df_sample['tokenised_txt'] = df_sample['txt_lower'].apply(lambda x: RegexpTokenizer(r'\\w+').tokenize(x))\n",
    "df_sample.head()"
   ]
  },
  {
   "cell_type": "code",
   "execution_count": 25,
   "metadata": {},
   "outputs": [
    {
     "data": {
      "text/html": [
       "<div>\n",
       "<style scoped>\n",
       "    .dataframe tbody tr th:only-of-type {\n",
       "        vertical-align: middle;\n",
       "    }\n",
       "\n",
       "    .dataframe tbody tr th {\n",
       "        vertical-align: top;\n",
       "    }\n",
       "\n",
       "    .dataframe thead th {\n",
       "        text-align: right;\n",
       "    }\n",
       "</style>\n",
       "<table border=\"1\" class=\"dataframe\">\n",
       "  <thead>\n",
       "    <tr style=\"text-align: right;\">\n",
       "      <th></th>\n",
       "      <th>label_REAL</th>\n",
       "      <th>txt</th>\n",
       "      <th>txt_lower</th>\n",
       "      <th>tokenised_txt</th>\n",
       "      <th>txt_without_stopwords</th>\n",
       "    </tr>\n",
       "  </thead>\n",
       "  <tbody>\n",
       "    <tr>\n",
       "      <th>0</th>\n",
       "      <td>0</td>\n",
       "      <td>You Can Smell Hillary’s Fear Daniel Greenfield...</td>\n",
       "      <td>you can smell hillary’s fear daniel greenfield...</td>\n",
       "      <td>[you, can, smell, hillary, s, fear, daniel, gr...</td>\n",
       "      <td>[smell, hillary, fear, daniel, greenfield, shi...</td>\n",
       "    </tr>\n",
       "    <tr>\n",
       "      <th>1</th>\n",
       "      <td>0</td>\n",
       "      <td>Watch The Exact Moment Paul Ryan Committed Pol...</td>\n",
       "      <td>watch the exact moment paul ryan committed pol...</td>\n",
       "      <td>[watch, the, exact, moment, paul, ryan, commit...</td>\n",
       "      <td>[watch, exact, moment, paul, ryan, committed, ...</td>\n",
       "    </tr>\n",
       "    <tr>\n",
       "      <th>2</th>\n",
       "      <td>1</td>\n",
       "      <td>Kerry to go to Paris in gesture of sympathy U....</td>\n",
       "      <td>kerry to go to paris in gesture of sympathy u....</td>\n",
       "      <td>[kerry, to, go, to, paris, in, gesture, of, sy...</td>\n",
       "      <td>[kerry, go, paris, gesture, sympathy, u, secre...</td>\n",
       "    </tr>\n",
       "    <tr>\n",
       "      <th>3</th>\n",
       "      <td>0</td>\n",
       "      <td>Bernie supporters on Twitter erupt in anger ag...</td>\n",
       "      <td>bernie supporters on twitter erupt in anger ag...</td>\n",
       "      <td>[bernie, supporters, on, twitter, erupt, in, a...</td>\n",
       "      <td>[bernie, supporters, twitter, erupt, anger, dn...</td>\n",
       "    </tr>\n",
       "    <tr>\n",
       "      <th>4</th>\n",
       "      <td>1</td>\n",
       "      <td>The Battle of New York: Why This Primary Matte...</td>\n",
       "      <td>the battle of new york: why this primary matte...</td>\n",
       "      <td>[the, battle, of, new, york, why, this, primar...</td>\n",
       "      <td>[battle, new, york, primary, matters, primary,...</td>\n",
       "    </tr>\n",
       "  </tbody>\n",
       "</table>\n",
       "</div>"
      ],
      "text/plain": [
       "   label_REAL                                                txt  \\\n",
       "0           0  You Can Smell Hillary’s Fear Daniel Greenfield...   \n",
       "1           0  Watch The Exact Moment Paul Ryan Committed Pol...   \n",
       "2           1  Kerry to go to Paris in gesture of sympathy U....   \n",
       "3           0  Bernie supporters on Twitter erupt in anger ag...   \n",
       "4           1  The Battle of New York: Why This Primary Matte...   \n",
       "\n",
       "                                           txt_lower  \\\n",
       "0  you can smell hillary’s fear daniel greenfield...   \n",
       "1  watch the exact moment paul ryan committed pol...   \n",
       "2  kerry to go to paris in gesture of sympathy u....   \n",
       "3  bernie supporters on twitter erupt in anger ag...   \n",
       "4  the battle of new york: why this primary matte...   \n",
       "\n",
       "                                       tokenised_txt  \\\n",
       "0  [you, can, smell, hillary, s, fear, daniel, gr...   \n",
       "1  [watch, the, exact, moment, paul, ryan, commit...   \n",
       "2  [kerry, to, go, to, paris, in, gesture, of, sy...   \n",
       "3  [bernie, supporters, on, twitter, erupt, in, a...   \n",
       "4  [the, battle, of, new, york, why, this, primar...   \n",
       "\n",
       "                               txt_without_stopwords  \n",
       "0  [smell, hillary, fear, daniel, greenfield, shi...  \n",
       "1  [watch, exact, moment, paul, ryan, committed, ...  \n",
       "2  [kerry, go, paris, gesture, sympathy, u, secre...  \n",
       "3  [bernie, supporters, twitter, erupt, anger, dn...  \n",
       "4  [battle, new, york, primary, matters, primary,...  "
      ]
     },
     "execution_count": 25,
     "metadata": {},
     "output_type": "execute_result"
    }
   ],
   "source": [
    "#removing stopwords\n",
    "stops = stopwords.words('english')\n",
    "df_sample['txt_without_stopwords'] = df_sample['tokenised_txt'].apply(lambda x: [w for w in x if not w.isdigit() and not w in stops])\n",
    "df_sample.head()"
   ]
  },
  {
   "cell_type": "code",
   "execution_count": 26,
   "metadata": {},
   "outputs": [
    {
     "data": {
      "text/html": [
       "<div>\n",
       "<style scoped>\n",
       "    .dataframe tbody tr th:only-of-type {\n",
       "        vertical-align: middle;\n",
       "    }\n",
       "\n",
       "    .dataframe tbody tr th {\n",
       "        vertical-align: top;\n",
       "    }\n",
       "\n",
       "    .dataframe thead th {\n",
       "        text-align: right;\n",
       "    }\n",
       "</style>\n",
       "<table border=\"1\" class=\"dataframe\">\n",
       "  <thead>\n",
       "    <tr style=\"text-align: right;\">\n",
       "      <th></th>\n",
       "      <th>label_REAL</th>\n",
       "      <th>txt</th>\n",
       "      <th>txt_lower</th>\n",
       "      <th>tokenised_txt</th>\n",
       "      <th>txt_without_stopwords</th>\n",
       "      <th>lemmatized_txt</th>\n",
       "    </tr>\n",
       "  </thead>\n",
       "  <tbody>\n",
       "    <tr>\n",
       "      <th>0</th>\n",
       "      <td>0</td>\n",
       "      <td>You Can Smell Hillary’s Fear Daniel Greenfield...</td>\n",
       "      <td>you can smell hillary’s fear daniel greenfield...</td>\n",
       "      <td>[you, can, smell, hillary, s, fear, daniel, gr...</td>\n",
       "      <td>[smell, hillary, fear, daniel, greenfield, shi...</td>\n",
       "      <td>[smell, hillary, fear, daniel, greenfield, shi...</td>\n",
       "    </tr>\n",
       "    <tr>\n",
       "      <th>1</th>\n",
       "      <td>0</td>\n",
       "      <td>Watch The Exact Moment Paul Ryan Committed Pol...</td>\n",
       "      <td>watch the exact moment paul ryan committed pol...</td>\n",
       "      <td>[watch, the, exact, moment, paul, ryan, commit...</td>\n",
       "      <td>[watch, exact, moment, paul, ryan, committed, ...</td>\n",
       "      <td>[watch, exact, moment, paul, ryan, committed, ...</td>\n",
       "    </tr>\n",
       "    <tr>\n",
       "      <th>2</th>\n",
       "      <td>1</td>\n",
       "      <td>Kerry to go to Paris in gesture of sympathy U....</td>\n",
       "      <td>kerry to go to paris in gesture of sympathy u....</td>\n",
       "      <td>[kerry, to, go, to, paris, in, gesture, of, sy...</td>\n",
       "      <td>[kerry, go, paris, gesture, sympathy, u, secre...</td>\n",
       "      <td>[kerry, go, paris, gesture, sympathy, u, secre...</td>\n",
       "    </tr>\n",
       "    <tr>\n",
       "      <th>3</th>\n",
       "      <td>0</td>\n",
       "      <td>Bernie supporters on Twitter erupt in anger ag...</td>\n",
       "      <td>bernie supporters on twitter erupt in anger ag...</td>\n",
       "      <td>[bernie, supporters, on, twitter, erupt, in, a...</td>\n",
       "      <td>[bernie, supporters, twitter, erupt, anger, dn...</td>\n",
       "      <td>[bernie, supporter, twitter, erupt, anger, dnc...</td>\n",
       "    </tr>\n",
       "    <tr>\n",
       "      <th>4</th>\n",
       "      <td>1</td>\n",
       "      <td>The Battle of New York: Why This Primary Matte...</td>\n",
       "      <td>the battle of new york: why this primary matte...</td>\n",
       "      <td>[the, battle, of, new, york, why, this, primar...</td>\n",
       "      <td>[battle, new, york, primary, matters, primary,...</td>\n",
       "      <td>[battle, new, york, primary, matter, primary, ...</td>\n",
       "    </tr>\n",
       "  </tbody>\n",
       "</table>\n",
       "</div>"
      ],
      "text/plain": [
       "   label_REAL                                                txt  \\\n",
       "0           0  You Can Smell Hillary’s Fear Daniel Greenfield...   \n",
       "1           0  Watch The Exact Moment Paul Ryan Committed Pol...   \n",
       "2           1  Kerry to go to Paris in gesture of sympathy U....   \n",
       "3           0  Bernie supporters on Twitter erupt in anger ag...   \n",
       "4           1  The Battle of New York: Why This Primary Matte...   \n",
       "\n",
       "                                           txt_lower  \\\n",
       "0  you can smell hillary’s fear daniel greenfield...   \n",
       "1  watch the exact moment paul ryan committed pol...   \n",
       "2  kerry to go to paris in gesture of sympathy u....   \n",
       "3  bernie supporters on twitter erupt in anger ag...   \n",
       "4  the battle of new york: why this primary matte...   \n",
       "\n",
       "                                       tokenised_txt  \\\n",
       "0  [you, can, smell, hillary, s, fear, daniel, gr...   \n",
       "1  [watch, the, exact, moment, paul, ryan, commit...   \n",
       "2  [kerry, to, go, to, paris, in, gesture, of, sy...   \n",
       "3  [bernie, supporters, on, twitter, erupt, in, a...   \n",
       "4  [the, battle, of, new, york, why, this, primar...   \n",
       "\n",
       "                               txt_without_stopwords  \\\n",
       "0  [smell, hillary, fear, daniel, greenfield, shi...   \n",
       "1  [watch, exact, moment, paul, ryan, committed, ...   \n",
       "2  [kerry, go, paris, gesture, sympathy, u, secre...   \n",
       "3  [bernie, supporters, twitter, erupt, anger, dn...   \n",
       "4  [battle, new, york, primary, matters, primary,...   \n",
       "\n",
       "                                      lemmatized_txt  \n",
       "0  [smell, hillary, fear, daniel, greenfield, shi...  \n",
       "1  [watch, exact, moment, paul, ryan, committed, ...  \n",
       "2  [kerry, go, paris, gesture, sympathy, u, secre...  \n",
       "3  [bernie, supporter, twitter, erupt, anger, dnc...  \n",
       "4  [battle, new, york, primary, matter, primary, ...  "
      ]
     },
     "execution_count": 26,
     "metadata": {},
     "output_type": "execute_result"
    }
   ],
   "source": [
    "#lemmatization\n",
    "lm = WordNetLemmatizer()\n",
    "df_sample['lemmatized_txt'] = df_sample['txt_without_stopwords'].apply(lambda x:[lm.lemmatize(word) for word in x])\n",
    "df_sample.head()"
   ]
  },
  {
   "cell_type": "code",
   "execution_count": 76,
   "metadata": {},
   "outputs": [
    {
     "data": {
      "text/plain": [
       "0     [smell, hillary, fear, daniel, greenfield, shi...\n",
       "1     [watch, exact, moment, paul, ryan, committed, ...\n",
       "2     [kerry, go, paris, gesture, sympathy, u, secre...\n",
       "3     [bernie, supporter, twitter, erupt, anger, dnc...\n",
       "4     [battle, new, york, primary, matter, primary, ...\n",
       "                            ...                        \n",
       "95    [mandela, effect, made, one, overlooked, year,...\n",
       "96    [cnn, one, voter, make, difference, voting, re...\n",
       "97    [give, social, security, recipient, ceo, style...\n",
       "98    [firework, erupt, trump, bush, rubio, cruz, go...\n",
       "99    [obama, sounding, like, critic, admits, comple...\n",
       "Name: lemmatized_txt, Length: 100, dtype: object"
      ]
     },
     "execution_count": 76,
     "metadata": {},
     "output_type": "execute_result"
    }
   ],
   "source": [
    "df_sample['lemmatized_txt'].replace({'\\[':''}, regex=True)"
   ]
  },
  {
   "cell_type": "code",
   "execution_count": null,
   "metadata": {},
   "outputs": [],
   "source": [
    "\"\"\"\n",
    "not working\n",
    "\"\"\"\n",
    "def lemmatization_without_stopwords(text):\n",
    "    txt_lm = []\n",
    "    #sotpwords\n",
    "    stop_words = set(stopwords.words('english'))\n",
    "    text = text.apply(lambda x: ' '.join([word for word in x.lower().split() if word not in (stop_words)]))\n",
    "    #tokenization\n",
    "    tt = TweetTokenizer()\n",
    "    text = text.apply(tt.tokenize)\n",
    "    #lemmatization\n",
    "    lm = WordNetLemmatizer()\n",
    "    text = text.apply(lambda x:[lm.lemmatize(word) for word in x])\n",
    "    txt_lm.append(text)\n",
    "    return txt_lm\n",
    "\n",
    "lemmatization_without_stopwords(df_sample2)"
   ]
  },
  {
   "cell_type": "code",
   "execution_count": null,
   "metadata": {},
   "outputs": [],
   "source": [
    "\"\"\"\n",
    "not working\n",
    "\"\"\"\n",
    "#stopwords + lemmatization\n",
    "lm = WordNetLemmatizer()\n",
    "def clean_text(text_in):\n",
    "    texts = []\n",
    "    for value in text_in:\n",
    "        value = value.lower()\n",
    "        value = \n",
    "        value = value.split()\n",
    "        value = [lm.lemmatize(word) for word in value if word not in set(stopwords.words('english'))]\n",
    "        texts.append(' '.join(value))\n",
    "    return texts"
   ]
  },
  {
   "cell_type": "markdown",
   "metadata": {},
   "source": [
    "# Lemmatization - on the DF"
   ]
  },
  {
   "cell_type": "code",
   "execution_count": null,
   "metadata": {},
   "outputs": [],
   "source": [
    "#removing stop_words\n",
    "#df['txt_without_stopwords'] = df['txt'].apply(lambda x: ' '.join([word for word in x.lower().split() if word not in (set(stopwords.words('english')))]))"
   ]
  },
  {
   "cell_type": "code",
   "execution_count": 111,
   "metadata": {},
   "outputs": [
    {
     "data": {
      "text/html": [
       "<div>\n",
       "<style scoped>\n",
       "    .dataframe tbody tr th:only-of-type {\n",
       "        vertical-align: middle;\n",
       "    }\n",
       "\n",
       "    .dataframe tbody tr th {\n",
       "        vertical-align: top;\n",
       "    }\n",
       "\n",
       "    .dataframe thead th {\n",
       "        text-align: right;\n",
       "    }\n",
       "</style>\n",
       "<table border=\"1\" class=\"dataframe\">\n",
       "  <thead>\n",
       "    <tr style=\"text-align: right;\">\n",
       "      <th></th>\n",
       "      <th>label_REAL</th>\n",
       "      <th>txt</th>\n",
       "      <th>txt_lower</th>\n",
       "    </tr>\n",
       "  </thead>\n",
       "  <tbody>\n",
       "    <tr>\n",
       "      <th>0</th>\n",
       "      <td>0</td>\n",
       "      <td>You Can Smell Hillary’s Fear Daniel Greenfield...</td>\n",
       "      <td>you can smell hillary’s fear daniel greenfield...</td>\n",
       "    </tr>\n",
       "    <tr>\n",
       "      <th>1</th>\n",
       "      <td>0</td>\n",
       "      <td>Watch The Exact Moment Paul Ryan Committed Pol...</td>\n",
       "      <td>watch the exact moment paul ryan committed pol...</td>\n",
       "    </tr>\n",
       "    <tr>\n",
       "      <th>2</th>\n",
       "      <td>1</td>\n",
       "      <td>Kerry to go to Paris in gesture of sympathy U....</td>\n",
       "      <td>kerry to go to paris in gesture of sympathy u....</td>\n",
       "    </tr>\n",
       "    <tr>\n",
       "      <th>3</th>\n",
       "      <td>0</td>\n",
       "      <td>Bernie supporters on Twitter erupt in anger ag...</td>\n",
       "      <td>bernie supporters on twitter erupt in anger ag...</td>\n",
       "    </tr>\n",
       "    <tr>\n",
       "      <th>4</th>\n",
       "      <td>1</td>\n",
       "      <td>The Battle of New York: Why This Primary Matte...</td>\n",
       "      <td>the battle of new york: why this primary matte...</td>\n",
       "    </tr>\n",
       "  </tbody>\n",
       "</table>\n",
       "</div>"
      ],
      "text/plain": [
       "   label_REAL                                                txt  \\\n",
       "0           0  You Can Smell Hillary’s Fear Daniel Greenfield...   \n",
       "1           0  Watch The Exact Moment Paul Ryan Committed Pol...   \n",
       "2           1  Kerry to go to Paris in gesture of sympathy U....   \n",
       "3           0  Bernie supporters on Twitter erupt in anger ag...   \n",
       "4           1  The Battle of New York: Why This Primary Matte...   \n",
       "\n",
       "                                           txt_lower  \n",
       "0  you can smell hillary’s fear daniel greenfield...  \n",
       "1  watch the exact moment paul ryan committed pol...  \n",
       "2  kerry to go to paris in gesture of sympathy u....  \n",
       "3  bernie supporters on twitter erupt in anger ag...  \n",
       "4  the battle of new york: why this primary matte...  "
      ]
     },
     "execution_count": 111,
     "metadata": {},
     "output_type": "execute_result"
    }
   ],
   "source": [
    "df['txt_lower'] = df['txt'].apply(lambda x: x.lower())\n",
    "df.head()"
   ]
  },
  {
   "cell_type": "code",
   "execution_count": 112,
   "metadata": {},
   "outputs": [],
   "source": [
    "#tokenization without punctuation\n",
    "df['tokenised_txt'] = df['txt_lower'].apply(lambda x: RegexpTokenizer(r'\\w+').tokenize(x))"
   ]
  },
  {
   "cell_type": "code",
   "execution_count": 30,
   "metadata": {},
   "outputs": [
    {
     "data": {
      "text/html": [
       "<div>\n",
       "<style scoped>\n",
       "    .dataframe tbody tr th:only-of-type {\n",
       "        vertical-align: middle;\n",
       "    }\n",
       "\n",
       "    .dataframe tbody tr th {\n",
       "        vertical-align: top;\n",
       "    }\n",
       "\n",
       "    .dataframe thead th {\n",
       "        text-align: right;\n",
       "    }\n",
       "</style>\n",
       "<table border=\"1\" class=\"dataframe\">\n",
       "  <thead>\n",
       "    <tr style=\"text-align: right;\">\n",
       "      <th></th>\n",
       "      <th>label_REAL</th>\n",
       "      <th>txt</th>\n",
       "      <th>txt_lower</th>\n",
       "      <th>tokenised_txt</th>\n",
       "      <th>txt_without_stopwords</th>\n",
       "    </tr>\n",
       "  </thead>\n",
       "  <tbody>\n",
       "    <tr>\n",
       "      <th>0</th>\n",
       "      <td>0</td>\n",
       "      <td>You Can Smell Hillary’s Fear Daniel Greenfield...</td>\n",
       "      <td>you can smell hillary’s fear daniel greenfield...</td>\n",
       "      <td>[you, can, smell, hillary, s, fear, daniel, gr...</td>\n",
       "      <td>[smell, hillary, fear, daniel, greenfield, shi...</td>\n",
       "    </tr>\n",
       "    <tr>\n",
       "      <th>1</th>\n",
       "      <td>0</td>\n",
       "      <td>Watch The Exact Moment Paul Ryan Committed Pol...</td>\n",
       "      <td>watch the exact moment paul ryan committed pol...</td>\n",
       "      <td>[watch, the, exact, moment, paul, ryan, commit...</td>\n",
       "      <td>[watch, exact, moment, paul, ryan, committed, ...</td>\n",
       "    </tr>\n",
       "    <tr>\n",
       "      <th>2</th>\n",
       "      <td>1</td>\n",
       "      <td>Kerry to go to Paris in gesture of sympathy U....</td>\n",
       "      <td>kerry to go to paris in gesture of sympathy u....</td>\n",
       "      <td>[kerry, to, go, to, paris, in, gesture, of, sy...</td>\n",
       "      <td>[kerry, go, paris, gesture, sympathy, u, secre...</td>\n",
       "    </tr>\n",
       "    <tr>\n",
       "      <th>3</th>\n",
       "      <td>0</td>\n",
       "      <td>Bernie supporters on Twitter erupt in anger ag...</td>\n",
       "      <td>bernie supporters on twitter erupt in anger ag...</td>\n",
       "      <td>[bernie, supporters, on, twitter, erupt, in, a...</td>\n",
       "      <td>[bernie, supporters, twitter, erupt, anger, dn...</td>\n",
       "    </tr>\n",
       "    <tr>\n",
       "      <th>4</th>\n",
       "      <td>1</td>\n",
       "      <td>The Battle of New York: Why This Primary Matte...</td>\n",
       "      <td>the battle of new york: why this primary matte...</td>\n",
       "      <td>[the, battle, of, new, york, why, this, primar...</td>\n",
       "      <td>[battle, new, york, primary, matters, primary,...</td>\n",
       "    </tr>\n",
       "  </tbody>\n",
       "</table>\n",
       "</div>"
      ],
      "text/plain": [
       "   label_REAL                                                txt  \\\n",
       "0           0  You Can Smell Hillary’s Fear Daniel Greenfield...   \n",
       "1           0  Watch The Exact Moment Paul Ryan Committed Pol...   \n",
       "2           1  Kerry to go to Paris in gesture of sympathy U....   \n",
       "3           0  Bernie supporters on Twitter erupt in anger ag...   \n",
       "4           1  The Battle of New York: Why This Primary Matte...   \n",
       "\n",
       "                                           txt_lower  \\\n",
       "0  you can smell hillary’s fear daniel greenfield...   \n",
       "1  watch the exact moment paul ryan committed pol...   \n",
       "2  kerry to go to paris in gesture of sympathy u....   \n",
       "3  bernie supporters on twitter erupt in anger ag...   \n",
       "4  the battle of new york: why this primary matte...   \n",
       "\n",
       "                                       tokenised_txt  \\\n",
       "0  [you, can, smell, hillary, s, fear, daniel, gr...   \n",
       "1  [watch, the, exact, moment, paul, ryan, commit...   \n",
       "2  [kerry, to, go, to, paris, in, gesture, of, sy...   \n",
       "3  [bernie, supporters, on, twitter, erupt, in, a...   \n",
       "4  [the, battle, of, new, york, why, this, primar...   \n",
       "\n",
       "                               txt_without_stopwords  \n",
       "0  [smell, hillary, fear, daniel, greenfield, shi...  \n",
       "1  [watch, exact, moment, paul, ryan, committed, ...  \n",
       "2  [kerry, go, paris, gesture, sympathy, u, secre...  \n",
       "3  [bernie, supporters, twitter, erupt, anger, dn...  \n",
       "4  [battle, new, york, primary, matters, primary,...  "
      ]
     },
     "execution_count": 30,
     "metadata": {},
     "output_type": "execute_result"
    }
   ],
   "source": [
    "#removing stop words\n",
    "stops = stopwords.words('english')\n",
    "df['txt_without_stopwords'] = df['tokenised_txt'].apply(lambda x: [w for w in x if not w.isdigit() and not w in stops])\n",
    "df.head()"
   ]
  },
  {
   "cell_type": "code",
   "execution_count": 31,
   "metadata": {},
   "outputs": [
    {
     "data": {
      "text/html": [
       "<div>\n",
       "<style scoped>\n",
       "    .dataframe tbody tr th:only-of-type {\n",
       "        vertical-align: middle;\n",
       "    }\n",
       "\n",
       "    .dataframe tbody tr th {\n",
       "        vertical-align: top;\n",
       "    }\n",
       "\n",
       "    .dataframe thead th {\n",
       "        text-align: right;\n",
       "    }\n",
       "</style>\n",
       "<table border=\"1\" class=\"dataframe\">\n",
       "  <thead>\n",
       "    <tr style=\"text-align: right;\">\n",
       "      <th></th>\n",
       "      <th>label_REAL</th>\n",
       "      <th>txt</th>\n",
       "      <th>txt_lower</th>\n",
       "      <th>tokenised_txt</th>\n",
       "      <th>txt_without_stopwords</th>\n",
       "      <th>lemmatized_txt</th>\n",
       "    </tr>\n",
       "  </thead>\n",
       "  <tbody>\n",
       "    <tr>\n",
       "      <th>0</th>\n",
       "      <td>0</td>\n",
       "      <td>You Can Smell Hillary’s Fear Daniel Greenfield...</td>\n",
       "      <td>you can smell hillary’s fear daniel greenfield...</td>\n",
       "      <td>[you, can, smell, hillary, s, fear, daniel, gr...</td>\n",
       "      <td>[smell, hillary, fear, daniel, greenfield, shi...</td>\n",
       "      <td>[smell, hillary, fear, daniel, greenfield, shi...</td>\n",
       "    </tr>\n",
       "    <tr>\n",
       "      <th>1</th>\n",
       "      <td>0</td>\n",
       "      <td>Watch The Exact Moment Paul Ryan Committed Pol...</td>\n",
       "      <td>watch the exact moment paul ryan committed pol...</td>\n",
       "      <td>[watch, the, exact, moment, paul, ryan, commit...</td>\n",
       "      <td>[watch, exact, moment, paul, ryan, committed, ...</td>\n",
       "      <td>[watch, exact, moment, paul, ryan, committed, ...</td>\n",
       "    </tr>\n",
       "    <tr>\n",
       "      <th>2</th>\n",
       "      <td>1</td>\n",
       "      <td>Kerry to go to Paris in gesture of sympathy U....</td>\n",
       "      <td>kerry to go to paris in gesture of sympathy u....</td>\n",
       "      <td>[kerry, to, go, to, paris, in, gesture, of, sy...</td>\n",
       "      <td>[kerry, go, paris, gesture, sympathy, u, secre...</td>\n",
       "      <td>[kerry, go, paris, gesture, sympathy, u, secre...</td>\n",
       "    </tr>\n",
       "    <tr>\n",
       "      <th>3</th>\n",
       "      <td>0</td>\n",
       "      <td>Bernie supporters on Twitter erupt in anger ag...</td>\n",
       "      <td>bernie supporters on twitter erupt in anger ag...</td>\n",
       "      <td>[bernie, supporters, on, twitter, erupt, in, a...</td>\n",
       "      <td>[bernie, supporters, twitter, erupt, anger, dn...</td>\n",
       "      <td>[bernie, supporter, twitter, erupt, anger, dnc...</td>\n",
       "    </tr>\n",
       "    <tr>\n",
       "      <th>4</th>\n",
       "      <td>1</td>\n",
       "      <td>The Battle of New York: Why This Primary Matte...</td>\n",
       "      <td>the battle of new york: why this primary matte...</td>\n",
       "      <td>[the, battle, of, new, york, why, this, primar...</td>\n",
       "      <td>[battle, new, york, primary, matters, primary,...</td>\n",
       "      <td>[battle, new, york, primary, matter, primary, ...</td>\n",
       "    </tr>\n",
       "  </tbody>\n",
       "</table>\n",
       "</div>"
      ],
      "text/plain": [
       "   label_REAL                                                txt  \\\n",
       "0           0  You Can Smell Hillary’s Fear Daniel Greenfield...   \n",
       "1           0  Watch The Exact Moment Paul Ryan Committed Pol...   \n",
       "2           1  Kerry to go to Paris in gesture of sympathy U....   \n",
       "3           0  Bernie supporters on Twitter erupt in anger ag...   \n",
       "4           1  The Battle of New York: Why This Primary Matte...   \n",
       "\n",
       "                                           txt_lower  \\\n",
       "0  you can smell hillary’s fear daniel greenfield...   \n",
       "1  watch the exact moment paul ryan committed pol...   \n",
       "2  kerry to go to paris in gesture of sympathy u....   \n",
       "3  bernie supporters on twitter erupt in anger ag...   \n",
       "4  the battle of new york: why this primary matte...   \n",
       "\n",
       "                                       tokenised_txt  \\\n",
       "0  [you, can, smell, hillary, s, fear, daniel, gr...   \n",
       "1  [watch, the, exact, moment, paul, ryan, commit...   \n",
       "2  [kerry, to, go, to, paris, in, gesture, of, sy...   \n",
       "3  [bernie, supporters, on, twitter, erupt, in, a...   \n",
       "4  [the, battle, of, new, york, why, this, primar...   \n",
       "\n",
       "                               txt_without_stopwords  \\\n",
       "0  [smell, hillary, fear, daniel, greenfield, shi...   \n",
       "1  [watch, exact, moment, paul, ryan, committed, ...   \n",
       "2  [kerry, go, paris, gesture, sympathy, u, secre...   \n",
       "3  [bernie, supporters, twitter, erupt, anger, dn...   \n",
       "4  [battle, new, york, primary, matters, primary,...   \n",
       "\n",
       "                                      lemmatized_txt  \n",
       "0  [smell, hillary, fear, daniel, greenfield, shi...  \n",
       "1  [watch, exact, moment, paul, ryan, committed, ...  \n",
       "2  [kerry, go, paris, gesture, sympathy, u, secre...  \n",
       "3  [bernie, supporter, twitter, erupt, anger, dnc...  \n",
       "4  [battle, new, york, primary, matter, primary, ...  "
      ]
     },
     "execution_count": 31,
     "metadata": {},
     "output_type": "execute_result"
    }
   ],
   "source": [
    "#lemmatization\n",
    "lm = WordNetLemmatizer()\n",
    "df['lemmatized_txt'] = df['txt_without_stopwords'].apply(lambda x:[lm.lemmatize(word) for word in x])\n",
    "df.head()"
   ]
  },
  {
   "cell_type": "code",
   "execution_count": 115,
   "metadata": {},
   "outputs": [],
   "source": [
    "df_filtered = df.drop(['txt','txt_lower','tokenised_txt'], axis=1).copy()"
   ]
  },
  {
   "cell_type": "code",
   "execution_count": 88,
   "metadata": {},
   "outputs": [
    {
     "name": "stdout",
     "output_type": "stream",
     "text": [
      "<class 'list'>\n"
     ]
    }
   ],
   "source": [
    "print(type(df_filtered.loc[0, 'lemmatized_txt']))"
   ]
  },
  {
   "cell_type": "code",
   "execution_count": 117,
   "metadata": {},
   "outputs": [],
   "source": [
    "df_filtered['lemmatized_txt'] = df_filtered['lemmatized_txt'].str.join(',')"
   ]
  },
  {
   "cell_type": "code",
   "execution_count": 91,
   "metadata": {},
   "outputs": [
    {
     "data": {
      "text/html": [
       "<div>\n",
       "<style scoped>\n",
       "    .dataframe tbody tr th:only-of-type {\n",
       "        vertical-align: middle;\n",
       "    }\n",
       "\n",
       "    .dataframe tbody tr th {\n",
       "        vertical-align: top;\n",
       "    }\n",
       "\n",
       "    .dataframe thead th {\n",
       "        text-align: right;\n",
       "    }\n",
       "</style>\n",
       "<table border=\"1\" class=\"dataframe\">\n",
       "  <thead>\n",
       "    <tr style=\"text-align: right;\">\n",
       "      <th></th>\n",
       "      <th>label_REAL</th>\n",
       "      <th>lemmatized_txt</th>\n",
       "    </tr>\n",
       "  </thead>\n",
       "  <tbody>\n",
       "    <tr>\n",
       "      <th>0</th>\n",
       "      <td>0</td>\n",
       "      <td>smell,hillary,fear,daniel,greenfield,shillman,...</td>\n",
       "    </tr>\n",
       "    <tr>\n",
       "      <th>1</th>\n",
       "      <td>0</td>\n",
       "      <td>watch,exact,moment,paul,ryan,committed,politic...</td>\n",
       "    </tr>\n",
       "    <tr>\n",
       "      <th>2</th>\n",
       "      <td>1</td>\n",
       "      <td>kerry,go,paris,gesture,sympathy,u,secretary,st...</td>\n",
       "    </tr>\n",
       "    <tr>\n",
       "      <th>3</th>\n",
       "      <td>0</td>\n",
       "      <td>bernie,supporter,twitter,erupt,anger,dnc,tried...</td>\n",
       "    </tr>\n",
       "    <tr>\n",
       "      <th>4</th>\n",
       "      <td>1</td>\n",
       "      <td>battle,new,york,primary,matter,primary,day,new...</td>\n",
       "    </tr>\n",
       "    <tr>\n",
       "      <th>...</th>\n",
       "      <td>...</td>\n",
       "      <td>...</td>\n",
       "    </tr>\n",
       "    <tr>\n",
       "      <th>50990</th>\n",
       "      <td>1</td>\n",
       "      <td>fully,committed,nato,back,new,u,approach,afgha...</td>\n",
       "    </tr>\n",
       "    <tr>\n",
       "      <th>50991</th>\n",
       "      <td>1</td>\n",
       "      <td>lexisnexis,withdrew,two,product,chinese,market...</td>\n",
       "    </tr>\n",
       "    <tr>\n",
       "      <th>50992</th>\n",
       "      <td>1</td>\n",
       "      <td>minsk,cultural,hub,becomes,authority,minsk,reu...</td>\n",
       "    </tr>\n",
       "    <tr>\n",
       "      <th>50993</th>\n",
       "      <td>1</td>\n",
       "      <td>vatican,upbeat,possibility,pope,francis,visiti...</td>\n",
       "    </tr>\n",
       "    <tr>\n",
       "      <th>50994</th>\n",
       "      <td>1</td>\n",
       "      <td>indonesia,buy,billion,worth,russian,jet,jakart...</td>\n",
       "    </tr>\n",
       "  </tbody>\n",
       "</table>\n",
       "<p>50995 rows × 2 columns</p>\n",
       "</div>"
      ],
      "text/plain": [
       "       label_REAL                                     lemmatized_txt\n",
       "0               0  smell,hillary,fear,daniel,greenfield,shillman,...\n",
       "1               0  watch,exact,moment,paul,ryan,committed,politic...\n",
       "2               1  kerry,go,paris,gesture,sympathy,u,secretary,st...\n",
       "3               0  bernie,supporter,twitter,erupt,anger,dnc,tried...\n",
       "4               1  battle,new,york,primary,matter,primary,day,new...\n",
       "...           ...                                                ...\n",
       "50990           1  fully,committed,nato,back,new,u,approach,afgha...\n",
       "50991           1  lexisnexis,withdrew,two,product,chinese,market...\n",
       "50992           1  minsk,cultural,hub,becomes,authority,minsk,reu...\n",
       "50993           1  vatican,upbeat,possibility,pope,francis,visiti...\n",
       "50994           1  indonesia,buy,billion,worth,russian,jet,jakart...\n",
       "\n",
       "[50995 rows x 2 columns]"
      ]
     },
     "execution_count": 91,
     "metadata": {},
     "output_type": "execute_result"
    }
   ],
   "source": [
    "df_filtered"
   ]
  },
  {
   "cell_type": "code",
   "execution_count": 96,
   "metadata": {},
   "outputs": [],
   "source": [
    "df_filtered.to_csv(r'C:\\Users\\lilie\\GitHubProjects\\IronEstelle\\FinalProject\\datasets\\df_lemmatized.csv', index = False)"
   ]
  },
  {
   "cell_type": "markdown",
   "metadata": {},
   "source": [
    "# Split train & test"
   ]
  },
  {
   "cell_type": "code",
   "execution_count": 119,
   "metadata": {},
   "outputs": [],
   "source": [
    "X = df_filtered.lemmatized_txt\n",
    "y= df_filtered.label_REAL"
   ]
  },
  {
   "cell_type": "code",
   "execution_count": 120,
   "metadata": {},
   "outputs": [],
   "source": [
    "from sklearn.model_selection import train_test_split\n",
    "X_train, X_test, y_train, y_test = train_test_split(X,y, test_size=0.3, random_state=0)"
   ]
  },
  {
   "cell_type": "markdown",
   "metadata": {},
   "source": [
    "# Tf-idf on lemmatized text"
   ]
  },
  {
   "cell_type": "code",
   "execution_count": 94,
   "metadata": {},
   "outputs": [],
   "source": [
    "from sklearn.feature_extraction.text import TfidfVectorizer"
   ]
  },
  {
   "cell_type": "code",
   "execution_count": 95,
   "metadata": {},
   "outputs": [],
   "source": [
    "### tf-idf\n",
    "tfidf_vectorizer = TfidfVectorizer(stop_words='english', max_df=0.7)\n",
    "\n",
    "X_tfidf_train = tfidf_vectorizer.fit_transform(X_train) \n",
    "X_tfidf_test = tfidf_vectorizer.transform(X_test)"
   ]
  },
  {
   "cell_type": "code",
   "execution_count": 121,
   "metadata": {},
   "outputs": [],
   "source": [
    "tfidf_vectorizer2 = TfidfVectorizer(stop_words='english', max_df=0.7)\n",
    "\n",
    "X_tfidf_train2 = tfidf_vectorizer2.fit_transform(X_train) \n",
    "X_tfidf_test2 = tfidf_vectorizer.transform(X_test)"
   ]
  },
  {
   "cell_type": "markdown",
   "metadata": {},
   "source": [
    "# Modelling"
   ]
  },
  {
   "cell_type": "code",
   "execution_count": 102,
   "metadata": {},
   "outputs": [],
   "source": [
    "from sklearn.metrics import accuracy_score, confusion_matrix, precision_score, recall_score, f1_score, roc_auc_score\n",
    "from sklearn.linear_model import PassiveAggressiveClassifier\n",
    "from sklearn.tree import DecisionTreeClassifier\n",
    "from sklearn.naive_bayes import MultinomialNB"
   ]
  },
  {
   "cell_type": "code",
   "execution_count": 103,
   "metadata": {
    "scrolled": true
   },
   "outputs": [
    {
     "data": {
      "text/plain": [
       "array([[7796,  192],\n",
       "       [ 236, 7075]], dtype=int64)"
      ]
     },
     "metadata": {},
     "output_type": "display_data"
    },
    {
     "name": "stdout",
     "output_type": "stream",
     "text": [
      "Accuracy is 0.9729\n",
      "Precision is 0.9749\n",
      "Recall is 0.9681\n",
      "F1 is 0.9715\n"
     ]
    }
   ],
   "source": [
    "#passive aggressive \n",
    "clf = PassiveAggressiveClassifier(n_iter_no_change=50)\n",
    "clf.fit(X_tfidf_train, y_train)\n",
    "y_pred = clf.predict(X_tfidf_test)\n",
    "\n",
    "display(cm)\n",
    "print('Accuracy is', accuracy_score(y_test, y_pred).round(4))\n",
    "print('Precision is', precision_score(y_test, y_pred).round(4))\n",
    "print('Recall is', recall_score(y_test, y_pred).round(4))\n",
    "print('F1 is', f1_score(y_test, y_pred).round(4))"
   ]
  },
  {
   "cell_type": "code",
   "execution_count": 104,
   "metadata": {},
   "outputs": [
    {
     "data": {
      "text/plain": [
       "array([[7796,  192],\n",
       "       [ 236, 7075]], dtype=int64)"
      ]
     },
     "metadata": {},
     "output_type": "display_data"
    },
    {
     "name": "stdout",
     "output_type": "stream",
     "text": [
      "Accuracy is 0.9497\n",
      "Precision is 0.9533\n",
      "Recall is 0.9409\n",
      "F1 is 0.9471\n"
     ]
    }
   ],
   "source": [
    "#decision tree\n",
    "dtc = DecisionTreeClassifier(criterion='entropy')\n",
    "dtc.fit(X_tfidf_train, y_train)\n",
    "y_pred=dtc.predict(X_tfidf_test)\n",
    "\n",
    "display(cm)\n",
    "print('Accuracy is', accuracy_score(y_test, y_pred).round(4))\n",
    "print('Precision is', precision_score(y_test, y_pred).round(4))\n",
    "print('Recall is', recall_score(y_test, y_pred).round(4))\n",
    "print('F1 is', f1_score(y_test, y_pred).round(4))"
   ]
  },
  {
   "cell_type": "code",
   "execution_count": 106,
   "metadata": {},
   "outputs": [
    {
     "data": {
      "text/plain": [
       "array([[7796,  192],\n",
       "       [ 236, 7075]], dtype=int64)"
      ]
     },
     "metadata": {},
     "output_type": "display_data"
    },
    {
     "name": "stdout",
     "output_type": "stream",
     "text": [
      "Accuracy is 0.9497\n",
      "Precision is 0.9533\n",
      "Recall is 0.9409\n",
      "F1 is 0.9471\n"
     ]
    }
   ],
   "source": [
    "#naive bayes\n",
    "classifier=MultinomialNB()\n",
    "classifier.fit(X_tfidf_train, y_train)\n",
    "y_pred2 = classifier.predict(X_tfidf_test)\n",
    "\n",
    "display(cm)\n",
    "print('Accuracy is', accuracy_score(y_test, y_pred).round(4))\n",
    "print('Precision is', precision_score(y_test, y_pred).round(4))\n",
    "print('Recall is', recall_score(y_test, y_pred).round(4))\n",
    "print('F1 is', f1_score(y_test, y_pred).round(4))"
   ]
  },
  {
   "cell_type": "markdown",
   "metadata": {},
   "source": [
    "# Conclusion"
   ]
  },
  {
   "cell_type": "markdown",
   "metadata": {},
   "source": [
    "Lemmatization doesn't add any extra precision:\n",
    "   *  lemmatization + tfidf vectorizer - passive aggressive classifier -> precision = 0.9749\n",
    "   *  tfidf vectorizer - passive aggressive classifier -> precision > 0.9755\n",
    "   \n",
    "Applying tfidf only is enought to get good precision."
   ]
  }
 ],
 "metadata": {
  "kernelspec": {
   "display_name": "Python 3",
   "language": "python",
   "name": "python3"
  },
  "language_info": {
   "codemirror_mode": {
    "name": "ipython",
    "version": 3
   },
   "file_extension": ".py",
   "mimetype": "text/x-python",
   "name": "python",
   "nbconvert_exporter": "python",
   "pygments_lexer": "ipython3",
   "version": "3.8.3"
  }
 },
 "nbformat": 4,
 "nbformat_minor": 4
}
