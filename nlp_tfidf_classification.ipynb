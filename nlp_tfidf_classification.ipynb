{
 "cells": [
  {
   "cell_type": "code",
   "execution_count": 3,
   "metadata": {},
   "outputs": [],
   "source": [
    "import os\n",
    "import numpy as np\n",
    "import pandas as pd"
   ]
  },
  {
   "cell_type": "code",
   "execution_count": 4,
   "metadata": {},
   "outputs": [],
   "source": [
    "import matplotlib.pyplot as plt\n",
    "%matplotlib inline\n",
    "import seaborn as sns\n",
    "sns.set()"
   ]
  },
  {
   "cell_type": "code",
   "execution_count": 5,
   "metadata": {},
   "outputs": [],
   "source": [
    "df = pd.read_csv(r'C:\\Users\\lilie\\OneDrive\\Bureau\\ironHack\\dataset\\fake_real_final.csv')"
   ]
  },
  {
   "cell_type": "code",
   "execution_count": 5,
   "metadata": {},
   "outputs": [
    {
     "data": {
      "text/html": [
       "<div>\n",
       "<style scoped>\n",
       "    .dataframe tbody tr th:only-of-type {\n",
       "        vertical-align: middle;\n",
       "    }\n",
       "\n",
       "    .dataframe tbody tr th {\n",
       "        vertical-align: top;\n",
       "    }\n",
       "\n",
       "    .dataframe thead th {\n",
       "        text-align: right;\n",
       "    }\n",
       "</style>\n",
       "<table border=\"1\" class=\"dataframe\">\n",
       "  <thead>\n",
       "    <tr style=\"text-align: right;\">\n",
       "      <th></th>\n",
       "      <th>title</th>\n",
       "      <th>text</th>\n",
       "      <th>label_REAL</th>\n",
       "      <th>subject</th>\n",
       "      <th>date</th>\n",
       "    </tr>\n",
       "  </thead>\n",
       "  <tbody>\n",
       "    <tr>\n",
       "      <th>0</th>\n",
       "      <td>You Can Smell Hillary’s Fear</td>\n",
       "      <td>Daniel Greenfield, a Shillman Journalism Fello...</td>\n",
       "      <td>0</td>\n",
       "      <td>NaN</td>\n",
       "      <td>NaN</td>\n",
       "    </tr>\n",
       "    <tr>\n",
       "      <th>1</th>\n",
       "      <td>Watch The Exact Moment Paul Ryan Committed Pol...</td>\n",
       "      <td>Google Pinterest Digg Linkedin Reddit Stumbleu...</td>\n",
       "      <td>0</td>\n",
       "      <td>NaN</td>\n",
       "      <td>NaN</td>\n",
       "    </tr>\n",
       "    <tr>\n",
       "      <th>2</th>\n",
       "      <td>Kerry to go to Paris in gesture of sympathy</td>\n",
       "      <td>U.S. Secretary of State John F. Kerry said Mon...</td>\n",
       "      <td>1</td>\n",
       "      <td>NaN</td>\n",
       "      <td>NaN</td>\n",
       "    </tr>\n",
       "    <tr>\n",
       "      <th>3</th>\n",
       "      <td>Bernie supporters on Twitter erupt in anger ag...</td>\n",
       "      <td>— Kaydee King (@KaydeeKing) November 9, 2016 T...</td>\n",
       "      <td>0</td>\n",
       "      <td>NaN</td>\n",
       "      <td>NaN</td>\n",
       "    </tr>\n",
       "    <tr>\n",
       "      <th>4</th>\n",
       "      <td>The Battle of New York: Why This Primary Matters</td>\n",
       "      <td>It's primary day in New York and front-runners...</td>\n",
       "      <td>1</td>\n",
       "      <td>NaN</td>\n",
       "      <td>NaN</td>\n",
       "    </tr>\n",
       "    <tr>\n",
       "      <th>...</th>\n",
       "      <td>...</td>\n",
       "      <td>...</td>\n",
       "      <td>...</td>\n",
       "      <td>...</td>\n",
       "      <td>...</td>\n",
       "    </tr>\n",
       "    <tr>\n",
       "      <th>50990</th>\n",
       "      <td>'Fully committed' NATO backs new U.S. approach...</td>\n",
       "      <td>BRUSSELS (Reuters) - NATO allies on Tuesday we...</td>\n",
       "      <td>1</td>\n",
       "      <td>worldnews</td>\n",
       "      <td>08-22-2017-</td>\n",
       "    </tr>\n",
       "    <tr>\n",
       "      <th>50991</th>\n",
       "      <td>LexisNexis withdrew two products from Chinese ...</td>\n",
       "      <td>LONDON (Reuters) - LexisNexis, a provider of l...</td>\n",
       "      <td>1</td>\n",
       "      <td>worldnews</td>\n",
       "      <td>08-22-2017-</td>\n",
       "    </tr>\n",
       "    <tr>\n",
       "      <th>50992</th>\n",
       "      <td>Minsk cultural hub becomes haven from authorities</td>\n",
       "      <td>MINSK (Reuters) - In the shadow of disused Sov...</td>\n",
       "      <td>1</td>\n",
       "      <td>worldnews</td>\n",
       "      <td>08-22-2017-</td>\n",
       "    </tr>\n",
       "    <tr>\n",
       "      <th>50993</th>\n",
       "      <td>Vatican upbeat on possibility of Pope Francis ...</td>\n",
       "      <td>MOSCOW (Reuters) - Vatican Secretary of State ...</td>\n",
       "      <td>1</td>\n",
       "      <td>worldnews</td>\n",
       "      <td>08-22-2017-</td>\n",
       "    </tr>\n",
       "    <tr>\n",
       "      <th>50994</th>\n",
       "      <td>Indonesia to buy $1.14 billion worth of Russia...</td>\n",
       "      <td>JAKARTA (Reuters) - Indonesia will buy 11 Sukh...</td>\n",
       "      <td>1</td>\n",
       "      <td>worldnews</td>\n",
       "      <td>08-22-2017-</td>\n",
       "    </tr>\n",
       "  </tbody>\n",
       "</table>\n",
       "<p>50995 rows × 5 columns</p>\n",
       "</div>"
      ],
      "text/plain": [
       "                                                   title  \\\n",
       "0                           You Can Smell Hillary’s Fear   \n",
       "1      Watch The Exact Moment Paul Ryan Committed Pol...   \n",
       "2            Kerry to go to Paris in gesture of sympathy   \n",
       "3      Bernie supporters on Twitter erupt in anger ag...   \n",
       "4       The Battle of New York: Why This Primary Matters   \n",
       "...                                                  ...   \n",
       "50990  'Fully committed' NATO backs new U.S. approach...   \n",
       "50991  LexisNexis withdrew two products from Chinese ...   \n",
       "50992  Minsk cultural hub becomes haven from authorities   \n",
       "50993  Vatican upbeat on possibility of Pope Francis ...   \n",
       "50994  Indonesia to buy $1.14 billion worth of Russia...   \n",
       "\n",
       "                                                    text  label_REAL  \\\n",
       "0      Daniel Greenfield, a Shillman Journalism Fello...           0   \n",
       "1      Google Pinterest Digg Linkedin Reddit Stumbleu...           0   \n",
       "2      U.S. Secretary of State John F. Kerry said Mon...           1   \n",
       "3      — Kaydee King (@KaydeeKing) November 9, 2016 T...           0   \n",
       "4      It's primary day in New York and front-runners...           1   \n",
       "...                                                  ...         ...   \n",
       "50990  BRUSSELS (Reuters) - NATO allies on Tuesday we...           1   \n",
       "50991  LONDON (Reuters) - LexisNexis, a provider of l...           1   \n",
       "50992  MINSK (Reuters) - In the shadow of disused Sov...           1   \n",
       "50993  MOSCOW (Reuters) - Vatican Secretary of State ...           1   \n",
       "50994  JAKARTA (Reuters) - Indonesia will buy 11 Sukh...           1   \n",
       "\n",
       "         subject         date  \n",
       "0            NaN          NaN  \n",
       "1            NaN          NaN  \n",
       "2            NaN          NaN  \n",
       "3            NaN          NaN  \n",
       "4            NaN          NaN  \n",
       "...          ...          ...  \n",
       "50990  worldnews  08-22-2017-  \n",
       "50991  worldnews  08-22-2017-  \n",
       "50992  worldnews  08-22-2017-  \n",
       "50993  worldnews  08-22-2017-  \n",
       "50994  worldnews  08-22-2017-  \n",
       "\n",
       "[50995 rows x 5 columns]"
      ]
     },
     "execution_count": 5,
     "metadata": {},
     "output_type": "execute_result"
    }
   ],
   "source": [
    "df"
   ]
  },
  {
   "cell_type": "code",
   "execution_count": 8,
   "metadata": {
    "scrolled": true
   },
   "outputs": [
    {
     "data": {
      "text/plain": [
       "0    0.522208\n",
       "1    0.477792\n",
       "Name: label_REAL, dtype: float64"
      ]
     },
     "execution_count": 8,
     "metadata": {},
     "output_type": "execute_result"
    }
   ],
   "source": [
    "df.label_REAL.value_counts(normalize=True)"
   ]
  },
  {
   "cell_type": "code",
   "execution_count": 11,
   "metadata": {},
   "outputs": [
    {
     "data": {
      "text/plain": [
       "<matplotlib.axes._subplots.AxesSubplot at 0x17b45c45f40>"
      ]
     },
     "execution_count": 11,
     "metadata": {},
     "output_type": "execute_result"
    },
    {
     "data": {
      "image/png": "[encoded data removed]",
      "text/plain": [
       "<Figure size 432x288 with 1 Axes>"
      ]
     },
     "metadata": {},
     "output_type": "display_data"
    }
   ],
   "source": [
    "sns.countplot(df.label_REAL)"
   ]
  },
  {
   "cell_type": "code",
   "execution_count": 6,
   "metadata": {
    "scrolled": true
   },
   "outputs": [
    {
     "data": {
      "text/html": [
       "<div>\n",
       "<style scoped>\n",
       "    .dataframe tbody tr th:only-of-type {\n",
       "        vertical-align: middle;\n",
       "    }\n",
       "\n",
       "    .dataframe tbody tr th {\n",
       "        vertical-align: top;\n",
       "    }\n",
       "\n",
       "    .dataframe thead th {\n",
       "        text-align: right;\n",
       "    }\n",
       "</style>\n",
       "<table border=\"1\" class=\"dataframe\">\n",
       "  <thead>\n",
       "    <tr style=\"text-align: right;\">\n",
       "      <th></th>\n",
       "      <th>label_REAL</th>\n",
       "      <th>txt</th>\n",
       "    </tr>\n",
       "  </thead>\n",
       "  <tbody>\n",
       "    <tr>\n",
       "      <th>0</th>\n",
       "      <td>0</td>\n",
       "      <td>You Can Smell Hillary’s Fear Daniel Greenfield...</td>\n",
       "    </tr>\n",
       "    <tr>\n",
       "      <th>1</th>\n",
       "      <td>0</td>\n",
       "      <td>Watch The Exact Moment Paul Ryan Committed Pol...</td>\n",
       "    </tr>\n",
       "    <tr>\n",
       "      <th>2</th>\n",
       "      <td>1</td>\n",
       "      <td>Kerry to go to Paris in gesture of sympathy U....</td>\n",
       "    </tr>\n",
       "    <tr>\n",
       "      <th>3</th>\n",
       "      <td>0</td>\n",
       "      <td>Bernie supporters on Twitter erupt in anger ag...</td>\n",
       "    </tr>\n",
       "    <tr>\n",
       "      <th>4</th>\n",
       "      <td>1</td>\n",
       "      <td>The Battle of New York: Why This Primary Matte...</td>\n",
       "    </tr>\n",
       "  </tbody>\n",
       "</table>\n",
       "</div>"
      ],
      "text/plain": [
       "   label_REAL                                                txt\n",
       "0           0  You Can Smell Hillary’s Fear Daniel Greenfield...\n",
       "1           0  Watch The Exact Moment Paul Ryan Committed Pol...\n",
       "2           1  Kerry to go to Paris in gesture of sympathy U....\n",
       "3           0  Bernie supporters on Twitter erupt in anger ag...\n",
       "4           1  The Battle of New York: Why This Primary Matte..."
      ]
     },
     "execution_count": 6,
     "metadata": {},
     "output_type": "execute_result"
    }
   ],
   "source": [
    "df['txt'] = df['title'] + \" \" + df['text']\n",
    "df = df.drop(columns = ['title', 'text','subject','date'])\n",
    "df = df.loc[~df['txt'].isna()]\n",
    "df.head()"
   ]
  },
  {
   "cell_type": "code",
   "execution_count": 250,
   "metadata": {},
   "outputs": [
    {
     "data": {
      "image/png": "[encoded data removed]",
      "text/plain": [
       "<Figure size 720x576 with 2 Axes>"
      ]
     },
     "metadata": {},
     "output_type": "display_data"
    }
   ],
   "source": [
    "fig,(ax1,ax2)=plt.subplots(1,2,figsize=(10,8))\n",
    "\n",
    "text_len = df[df.label_REAL==0]['txt'].str.split().map(lambda x: len(x))\n",
    "ax1.hist(text_len, bins = 20)\n",
    "ax1.set_title('Fake news')\n",
    "\n",
    "text_len = df[df.label_REAL==1]['txt'].str.split().map(lambda x: len(x))\n",
    "ax2.hist(text_len, bins = 20)\n",
    "ax2.set_title('Real news')\n",
    "\n",
    "fig.suptitle('Number of words in texts', y=0)\n",
    "fig.show()"
   ]
  },
  {
   "cell_type": "code",
   "execution_count": 253,
   "metadata": {},
   "outputs": [
    {
     "data": {
      "text/plain": [
       "<matplotlib.axes._subplots.AxesSubplot at 0x17b96efbc10>"
      ]
     },
     "execution_count": 253,
     "metadata": {},
     "output_type": "execute_result"
    },
    {
     "data": {
      "image/png": "[encoded data removed]",
      "text/plain": [
       "<Figure size 432x288 with 1 Axes>"
      ]
     },
     "metadata": {},
     "output_type": "display_data"
    }
   ],
   "source": [
    "df[df.label_REAL==0]['txt'].str.split().map(lambda x: len(x)).hist() #blue\n",
    "df[df.label_REAL==1]['txt'].str.split().map(lambda x: len(x)).hist() #orange"
   ]
  },
  {
   "cell_type": "markdown",
   "metadata": {},
   "source": [
    "# Split train-test"
   ]
  },
  {
   "cell_type": "code",
   "execution_count": 7,
   "metadata": {},
   "outputs": [
    {
     "data": {
      "text/plain": [
       "0    You Can Smell Hillary’s Fear Daniel Greenfield...\n",
       "1    Watch The Exact Moment Paul Ryan Committed Pol...\n",
       "2    Kerry to go to Paris in gesture of sympathy U....\n",
       "3    Bernie supporters on Twitter erupt in anger ag...\n",
       "4    The Battle of New York: Why This Primary Matte...\n",
       "Name: txt, dtype: object"
      ]
     },
     "execution_count": 7,
     "metadata": {},
     "output_type": "execute_result"
    }
   ],
   "source": [
    "X = df.txt\n",
    "y = df.label_REAL\n",
    "X.head()"
   ]
  },
  {
   "cell_type": "code",
   "execution_count": 8,
   "metadata": {},
   "outputs": [],
   "source": [
    "from sklearn.model_selection import train_test_split\n",
    "X_train, X_test, y_train, y_test = train_test_split(X,y, test_size=0.3, random_state=0)"
   ]
  },
  {
   "cell_type": "markdown",
   "metadata": {},
   "source": [
    "# Preprocessing - 1st approach (tfidf)"
   ]
  },
  {
   "cell_type": "code",
   "execution_count": 9,
   "metadata": {},
   "outputs": [],
   "source": [
    "from sklearn.feature_extraction.text import TfidfVectorizer"
   ]
  },
  {
   "cell_type": "code",
   "execution_count": 2,
   "metadata": {},
   "outputs": [
    {
     "ename": "NameError",
     "evalue": "name 'X_train' is not defined",
     "output_type": "error",
     "traceback": [
      "\u001b[1;31m---------------------------------------------------------------------------\u001b[0m",
      "\u001b[1;31mNameError\u001b[0m                                 Traceback (most recent call last)",
      "\u001b[1;32m<ipython-input-2-56ae6f1f086b>\u001b[0m in \u001b[0;36m<module>\u001b[1;34m\u001b[0m\n\u001b[0;32m      4\u001b[0m \u001b[0mtfidf_vectorizer\u001b[0m \u001b[1;33m=\u001b[0m \u001b[0mTfidfVectorizer\u001b[0m\u001b[1;33m(\u001b[0m\u001b[0mstrip_accents\u001b[0m\u001b[1;33m=\u001b[0m\u001b[0mascii\u001b[0m\u001b[1;33m,\u001b[0m \u001b[0mstop_words\u001b[0m\u001b[1;33m=\u001b[0m\u001b[1;34m'english'\u001b[0m\u001b[1;33m,\u001b[0m \u001b[0mmax_df\u001b[0m\u001b[1;33m=\u001b[0m\u001b[1;36m0.7\u001b[0m\u001b[1;33m)\u001b[0m\u001b[1;33m\u001b[0m\u001b[1;33m\u001b[0m\u001b[0m\n\u001b[0;32m      5\u001b[0m \u001b[1;33m\u001b[0m\u001b[0m\n\u001b[1;32m----> 6\u001b[1;33m \u001b[0mX_tfidf_train\u001b[0m \u001b[1;33m=\u001b[0m \u001b[0mtfidf_vectorizer\u001b[0m\u001b[1;33m.\u001b[0m\u001b[0mfit_transform\u001b[0m\u001b[1;33m(\u001b[0m\u001b[0mX_train\u001b[0m\u001b[1;33m)\u001b[0m\u001b[1;33m\u001b[0m\u001b[1;33m\u001b[0m\u001b[0m\n\u001b[0m\u001b[0;32m      7\u001b[0m \u001b[0mX_tfidf_test\u001b[0m \u001b[1;33m=\u001b[0m \u001b[0mtfidf_vectorizer\u001b[0m\u001b[1;33m.\u001b[0m\u001b[0mtransform\u001b[0m\u001b[1;33m(\u001b[0m\u001b[0mX_test\u001b[0m\u001b[1;33m)\u001b[0m\u001b[1;33m\u001b[0m\u001b[1;33m\u001b[0m\u001b[0m\n",
      "\u001b[1;31mNameError\u001b[0m: name 'X_train' is not defined"
     ]
    }
   ],
   "source": [
    "### tf-idf\n",
    "tfidf_vectorizer = TfidfVectorizer(strip_accents=ascii, stop_words='english', max_df=0.7)\n",
    "\n",
    "X_tfidf_train = tfidf_vectorizer.fit_transform(X_train) \n",
    "X_tfidf_test = tfidf_vectorizer.transform(X_test)"
   ]
  },
  {
   "cell_type": "markdown",
   "metadata": {},
   "source": [
    "# Preprocessing - 2nd approach (tfidf n-grams=1,3)"
   ]
  },
  {
   "cell_type": "code",
   "execution_count": 8,
   "metadata": {},
   "outputs": [],
   "source": [
    "### tf-idf with n-grams\n",
    "tfidf_vectorizer2 = TfidfVectorizer(ngram_range=(1, 3),stop_words='english', max_df=0.7)\n",
    "\n",
    "X_tfidf_train2 = tfidf_vectorizer.fit_transform(X_train) \n",
    "X_tfidf_test2 = tfidf_vectorizer.transform(X_test)"
   ]
  },
  {
   "cell_type": "markdown",
   "metadata": {},
   "source": [
    "# Modelling"
   ]
  },
  {
   "cell_type": "code",
   "execution_count": 52,
   "metadata": {},
   "outputs": [],
   "source": [
    "from sklearn.metrics import accuracy_score, confusion_matrix, precision_score, recall_score, f1_score, roc_auc_score"
   ]
  },
  {
   "cell_type": "markdown",
   "metadata": {},
   "source": [
    "## passiveAggressive "
   ]
  },
  {
   "cell_type": "code",
   "execution_count": 53,
   "metadata": {},
   "outputs": [],
   "source": [
    "from sklearn.linear_model import PassiveAggressiveClassifier"
   ]
  },
  {
   "cell_type": "markdown",
   "metadata": {},
   "source": [
    "### 1. tf-idf"
   ]
  },
  {
   "cell_type": "code",
   "execution_count": 19,
   "metadata": {},
   "outputs": [
    {
     "data": {
      "text/plain": [
       "array([[7823,  165],\n",
       "       [ 172, 7139]], dtype=int64)"
      ]
     },
     "metadata": {},
     "output_type": "display_data"
    },
    {
     "name": "stdout",
     "output_type": "stream",
     "text": [
      "Accuracy is 0.978\n",
      "Precision is 0.9774\n",
      "Recall is 0.9765\n",
      "F1 is 0.9769\n"
     ]
    }
   ],
   "source": [
    "clf = PassiveAggressiveClassifier(n_iter_no_change=100)\n",
    "clf.fit(X_tfidf_train, y_train)\n",
    "y_pred = clf.predict(X_tfidf_test)\n",
    "\n",
    "cm = confusion_matrix(y_test, y_pred)\n",
    "display(cm)\n",
    "print('Accuracy is', accuracy_score(y_test, y_pred).round(4))\n",
    "print('Precision is', precision_score(y_test, y_pred).round(4))\n",
    "print('Recall is', recall_score(y_test, y_pred).round(4))\n",
    "print('F1 is', f1_score(y_test, y_pred).round(4))"
   ]
  },
  {
   "cell_type": "code",
   "execution_count": 17,
   "metadata": {
    "scrolled": true
   },
   "outputs": [
    {
     "data": {
      "text/plain": [
       "<matplotlib.axes._subplots.AxesSubplot at 0x16e8301c5e0>"
      ]
     },
     "execution_count": 17,
     "metadata": {},
     "output_type": "execute_result"
    },
    {
     "data": {
      "image/png": "[encoded data removed]",
      "text/plain": [
       "<Figure size 432x288 with 2 Axes>"
      ]
     },
     "metadata": {},
     "output_type": "display_data"
    }
   ],
   "source": [
    "cm = confusion_matrix(y_test, y_pred)\n",
    "cm_matrix = pd.DataFrame(data=cm, columns=['Actual Pos', 'Actual Neg'], \n",
    "                                 index=['Predict Pos', 'Predict Neg'])\n",
    "\n",
    "sns.heatmap(cm_matrix, annot=True, fmt='d', cmap='YlGnBu')"
   ]
  },
  {
   "cell_type": "markdown",
   "metadata": {},
   "source": [
    "### 2. tf-idf n-grams "
   ]
  },
  {
   "cell_type": "code",
   "execution_count": 259,
   "metadata": {},
   "outputs": [
    {
     "data": {
      "text/plain": [
       "array([[7337,  651],\n",
       "       [ 792, 6519]], dtype=int64)"
      ]
     },
     "metadata": {},
     "output_type": "display_data"
    },
    {
     "name": "stdout",
     "output_type": "stream",
     "text": [
      "Accuracy is 0.9722\n",
      "Precision is 0.9755\n",
      "Recall is 0.9659\n",
      "F1 is 0.9707\n"
     ]
    }
   ],
   "source": [
    "clf = PassiveAggressiveClassifier(n_iter_no_change=50)\n",
    "clf.fit(X_tfidf_train2, y_train)\n",
    "y_pred2 = clf.predict(X_tfidf_test2)\n",
    "\n",
    "display(cm)\n",
    "print('Accuracy is', accuracy_score(y_test, y_pred).round(4))\n",
    "print('Precision is', precision_score(y_test, y_pred).round(4))\n",
    "print('Recall is', recall_score(y_test, y_pred).round(4))\n",
    "print('F1 is', f1_score(y_test, y_pred).round(4))"
   ]
  },
  {
   "cell_type": "code",
   "execution_count": 164,
   "metadata": {},
   "outputs": [
    {
     "data": {
      "text/plain": [
       "<matplotlib.axes._subplots.AxesSubplot at 0x17b80b93c10>"
      ]
     },
     "execution_count": 164,
     "metadata": {},
     "output_type": "execute_result"
    },
    {
     "data": {
      "image/png": "[encoded data removed]",
      "text/plain": [
       "<Figure size 432x288 with 2 Axes>"
      ]
     },
     "metadata": {},
     "output_type": "display_data"
    }
   ],
   "source": [
    "cm = confusion_matrix(y_test, y_pred)\n",
    "cm_matrix = pd.DataFrame(data=cm, columns=['Actual Pos', 'Actual Neg'], \n",
    "                                 index=['Predict Pos', 'Predict Neg'])\n",
    "\n",
    "sns.heatmap(cm_matrix, annot=True, fmt='d', cmap='YlGnBu')"
   ]
  },
  {
   "cell_type": "markdown",
   "metadata": {},
   "source": [
    "## Decision tree"
   ]
  },
  {
   "cell_type": "code",
   "execution_count": 40,
   "metadata": {},
   "outputs": [],
   "source": [
    "from sklearn.tree import DecisionTreeClassifier"
   ]
  },
  {
   "cell_type": "markdown",
   "metadata": {},
   "source": [
    "### 1. tf-idf"
   ]
  },
  {
   "cell_type": "code",
   "execution_count": 260,
   "metadata": {},
   "outputs": [
    {
     "name": "stdout",
     "output_type": "stream",
     "text": [
      "Accuracy is 0.951\n",
      "Precision is 0.9573\n",
      "Recall is 0.9393\n",
      "F1 is 0.9482\n"
     ]
    }
   ],
   "source": [
    "dtc = DecisionTreeClassifier(criterion='entropy')\n",
    "dtc.fit(X_tfidf_train, y_train)\n",
    "y_pred=dtc.predict(X_tfidf_test)\n",
    "\n",
    "print('Accuracy is', accuracy_score(y_test, y_pred).round(4))\n",
    "print('Precision is', precision_score(y_test, y_pred).round(4))\n",
    "print('Recall is', recall_score(y_test, y_pred).round(4))\n",
    "print('F1 is', f1_score(y_test, y_pred).round(4))"
   ]
  },
  {
   "cell_type": "code",
   "execution_count": 46,
   "metadata": {},
   "outputs": [
    {
     "data": {
      "text/plain": [
       "<matplotlib.axes._subplots.AxesSubplot at 0x17b80af13a0>"
      ]
     },
     "execution_count": 46,
     "metadata": {},
     "output_type": "execute_result"
    },
    {
     "data": {
      "image/png": "[encoded data removed]",
      "text/plain": [
       "<Figure size 432x288 with 2 Axes>"
      ]
     },
     "metadata": {},
     "output_type": "display_data"
    }
   ],
   "source": [
    "cm = confusion_matrix(y_test, y_pred)\n",
    "cm_matrix = pd.DataFrame(data=cm, columns=['Actual Pos', 'Actual Neg'], \n",
    "                                 index=['Predict Pos', 'Predict Neg'])\n",
    "\n",
    "sns.heatmap(cm_matrix, annot=True, fmt='d', cmap='YlGnBu')"
   ]
  },
  {
   "cell_type": "markdown",
   "metadata": {},
   "source": [
    "### 2. tf-idf n-grams"
   ]
  },
  {
   "cell_type": "code",
   "execution_count": 261,
   "metadata": {},
   "outputs": [
    {
     "name": "stdout",
     "output_type": "stream",
     "text": [
      "Accuracy is 0.951\n",
      "Precision is 0.9573\n",
      "Recall is 0.9393\n",
      "F1 is 0.9482\n"
     ]
    }
   ],
   "source": [
    "dtc.fit(X_tfidf_train2, y_train)\n",
    "y_pred2=dtc.predict(X_tfidf_test2)\n",
    "\n",
    "print('Accuracy is', accuracy_score(y_test, y_pred).round(4))\n",
    "print('Precision is', precision_score(y_test, y_pred).round(4))\n",
    "print('Recall is', recall_score(y_test, y_pred).round(4))\n",
    "print('F1 is', f1_score(y_test, y_pred).round(4))"
   ]
  },
  {
   "cell_type": "code",
   "execution_count": 167,
   "metadata": {},
   "outputs": [
    {
     "data": {
      "text/plain": [
       "<matplotlib.axes._subplots.AxesSubplot at 0x17b579d8850>"
      ]
     },
     "execution_count": 167,
     "metadata": {},
     "output_type": "execute_result"
    },
    {
     "data": {
      "image/png": "[encoded data removed]",
      "text/plain": [
       "<Figure size 432x288 with 2 Axes>"
      ]
     },
     "metadata": {},
     "output_type": "display_data"
    }
   ],
   "source": [
    "cm = confusion_matrix(y_test, y_pred)\n",
    "cm_matrix = pd.DataFrame(data=cm, columns=['Actual Pos', 'Actual Neg'], \n",
    "                                 index=['Predict Pos', 'Predict Neg'])\n",
    "\n",
    "sns.heatmap(cm_matrix, annot=True, fmt='d', cmap='YlGnBu')"
   ]
  },
  {
   "cell_type": "markdown",
   "metadata": {},
   "source": [
    "## Naive Bayes"
   ]
  },
  {
   "cell_type": "code",
   "execution_count": 47,
   "metadata": {},
   "outputs": [],
   "source": [
    "from sklearn.naive_bayes import MultinomialNB"
   ]
  },
  {
   "cell_type": "markdown",
   "metadata": {},
   "source": [
    "### 1. tf-idf"
   ]
  },
  {
   "cell_type": "code",
   "execution_count": 262,
   "metadata": {},
   "outputs": [
    {
     "name": "stdout",
     "output_type": "stream",
     "text": [
      "Accuracy is 0.9057\n",
      "Precision is 0.9092\n",
      "Recall is 0.8917\n",
      "F1 is 0.9004\n"
     ]
    }
   ],
   "source": [
    "classifier=MultinomialNB()\n",
    "classifier.fit(X_tfidf_train, y_train)\n",
    "y_pred = classifier.predict(X_tfidf_test)\n",
    "\n",
    "print('Accuracy is', accuracy_score(y_test, y_pred).round(4))\n",
    "print('Precision is', precision_score(y_test, y_pred).round(4))\n",
    "print('Recall is', recall_score(y_test, y_pred).round(4))\n",
    "print('F1 is', f1_score(y_test, y_pred).round(4))"
   ]
  },
  {
   "cell_type": "code",
   "execution_count": 51,
   "metadata": {},
   "outputs": [
    {
     "data": {
      "text/plain": [
       "<matplotlib.axes._subplots.AxesSubplot at 0x17b80b512b0>"
      ]
     },
     "execution_count": 51,
     "metadata": {},
     "output_type": "execute_result"
    },
    {
     "data": {
      "image/png": "[encoded data removed]",
      "text/plain": [
       "<Figure size 432x288 with 2 Axes>"
      ]
     },
     "metadata": {},
     "output_type": "display_data"
    }
   ],
   "source": [
    "cm = confusion_matrix(y_test, y_pred)\n",
    "cm_matrix = pd.DataFrame(data=cm, columns=['Actual Pos', 'Actual Neg'], \n",
    "                                 index=['Predict Pos', 'Predict Neg'])\n",
    "\n",
    "sns.heatmap(cm_matrix, annot=True, fmt='d', cmap='YlGnBu')"
   ]
  },
  {
   "cell_type": "markdown",
   "metadata": {},
   "source": [
    "### 2. tf-idf n-grams"
   ]
  },
  {
   "cell_type": "code",
   "execution_count": 263,
   "metadata": {},
   "outputs": [
    {
     "name": "stdout",
     "output_type": "stream",
     "text": [
      "Accuracy is 0.9057\n",
      "Precision is 0.9092\n",
      "Recall is 0.8917\n",
      "F1 is 0.9004\n"
     ]
    }
   ],
   "source": [
    "classifier=MultinomialNB()\n",
    "classifier.fit(X_tfidf_train2, y_train)\n",
    "y_pred2 = classifier.predict(X_tfidf_test2)\n",
    "\n",
    "print('Accuracy is', accuracy_score(y_test, y_pred).round(4))\n",
    "print('Precision is', precision_score(y_test, y_pred).round(4))\n",
    "print('Recall is', recall_score(y_test, y_pred).round(4))\n",
    "print('F1 is', f1_score(y_test, y_pred).round(4))"
   ]
  },
  {
   "cell_type": "code",
   "execution_count": 169,
   "metadata": {},
   "outputs": [
    {
     "data": {
      "text/plain": [
       "<matplotlib.axes._subplots.AxesSubplot at 0x17b82a659a0>"
      ]
     },
     "execution_count": 169,
     "metadata": {},
     "output_type": "execute_result"
    },
    {
     "data": {
      "image/png": "[encoded data removed]",
      "text/plain": [
       "<Figure size 432x288 with 2 Axes>"
      ]
     },
     "metadata": {},
     "output_type": "display_data"
    }
   ],
   "source": [
    "cm = confusion_matrix(y_test, y_pred)\n",
    "cm_matrix = pd.DataFrame(data=cm, columns=['Actual Pos', 'Actual Neg'], \n",
    "                                 index=['Predict Pos', 'Predict Neg'])\n",
    "\n",
    "sns.heatmap(cm_matrix, annot=True, fmt='d', cmap='YlGnBu')"
   ]
  },
  {
   "cell_type": "markdown",
   "metadata": {},
   "source": [
    "## random forest"
   ]
  },
  {
   "cell_type": "code",
   "execution_count": 19,
   "metadata": {},
   "outputs": [],
   "source": [
    "from sklearn.ensemble import RandomForestClassifier"
   ]
  },
  {
   "cell_type": "code",
   "execution_count": 20,
   "metadata": {},
   "outputs": [
    {
     "name": "stdout",
     "output_type": "stream",
     "text": [
      "Accuracy is 0.9645\n",
      "Precision is 0.9717\n",
      "Recall is 0.9535\n",
      "F1 is 0.9625\n"
     ]
    }
   ],
   "source": [
    "rf = RandomForestClassifier()\n",
    "rf.fit(X_tfidf_train,y_train)\n",
    "y_pred = rf.predict(X_tfidf_test)\n",
    "\n",
    "print('Accuracy is', accuracy_score(y_test, y_pred).round(4))\n",
    "print('Precision is', precision_score(y_test, y_pred).round(4))\n",
    "print('Recall is', recall_score(y_test, y_pred).round(4))\n",
    "print('F1 is', f1_score(y_test, y_pred).round(4))"
   ]
  },
  {
   "cell_type": "code",
   "execution_count": 22,
   "metadata": {},
   "outputs": [
    {
     "data": {
      "text/plain": [
       "<matplotlib.axes._subplots.AxesSubplot at 0x16e83f46cd0>"
      ]
     },
     "execution_count": 22,
     "metadata": {},
     "output_type": "execute_result"
    },
    {
     "data": {
      "image/png": "[encoded data removed]",
      "text/plain": [
       "<Figure size 432x288 with 2 Axes>"
      ]
     },
     "metadata": {},
     "output_type": "display_data"
    }
   ],
   "source": [
    "cm = confusion_matrix(y_test, y_pred)\n",
    "cm_matrix = pd.DataFrame(data=cm, columns=['Actual Pos', 'Actual Neg'], \n",
    "                                 index=['Predict Pos', 'Predict Neg'])\n",
    "\n",
    "sns.heatmap(cm_matrix, annot=True, fmt='d', cmap='YlGnBu')"
   ]
  },
  {
   "cell_type": "markdown",
   "metadata": {},
   "source": [
    "# SVM (too long)"
   ]
  },
  {
   "cell_type": "code",
   "execution_count": 21,
   "metadata": {},
   "outputs": [],
   "source": [
    "from sklearn.svm import SVC"
   ]
  },
  {
   "cell_type": "code",
   "execution_count": null,
   "metadata": {},
   "outputs": [],
   "source": [
    "SVM = SVC(kernel = 'linear')\n",
    "SVMClassifier = SVM.fit(X_tfidf_train, y_train)\n",
    "y_pred = SVMClassifier.predict(X_tfidf_test)\n",
    "\n",
    "print('Accuracy is', accuracy_score(y_test, y_pred).round(4))\n",
    "print('Precision is', precision_score(y_test, y_pred).round(4))\n",
    "print('Recall is', recall_score(y_test, y_pred).round(4))\n",
    "print('F1 is', f1_score(y_test, y_pred).round(4))"
   ]
  },
  {
   "cell_type": "markdown",
   "metadata": {},
   "source": [
    "# SGD Classifier"
   ]
  },
  {
   "cell_type": "code",
   "execution_count": 23,
   "metadata": {},
   "outputs": [],
   "source": [
    "from sklearn.linear_model import SGDClassifier"
   ]
  },
  {
   "cell_type": "code",
   "execution_count": 24,
   "metadata": {},
   "outputs": [],
   "source": [
    "SGD = SGDClassifier(loss = 'modified_huber')\n",
    "SGDC = SGD.fit(X_tfidf_train, y_train)\n",
    "y_pred = SGDC.predict(X_tfidf_test)"
   ]
  },
  {
   "cell_type": "code",
   "execution_count": 25,
   "metadata": {},
   "outputs": [
    {
     "name": "stdout",
     "output_type": "stream",
     "text": [
      "Accuracy is 0.9759\n",
      "Precision is 0.9763\n",
      "Recall is 0.9733\n",
      "F1 is 0.9748\n"
     ]
    }
   ],
   "source": [
    "print('Accuracy is', accuracy_score(y_test, y_pred).round(4))\n",
    "print('Precision is', precision_score(y_test, y_pred).round(4))\n",
    "print('Recall is', recall_score(y_test, y_pred).round(4))\n",
    "print('F1 is', f1_score(y_test, y_pred).round(4))"
   ]
  },
  {
   "cell_type": "markdown",
   "metadata": {},
   "source": [
    "## TFIDF and PassiveAggressive classifier features selection"
   ]
  },
  {
   "cell_type": "code",
   "execution_count": 22,
   "metadata": {},
   "outputs": [
    {
     "data": {
      "text/plain": [
       "array([[7830,  158],\n",
       "       [ 166, 7145]], dtype=int64)"
      ]
     },
     "metadata": {},
     "output_type": "display_data"
    },
    {
     "name": "stdout",
     "output_type": "stream",
     "text": [
      "Precision is 0.9784\n"
     ]
    }
   ],
   "source": [
    "tfidf_vectorizer = TfidfVectorizer(strip_accents=ascii, stop_words='english', max_df=0.7)\n",
    "X_tfidf_train = tfidf_vectorizer.fit_transform(X_train) \n",
    "X_tfidf_test = tfidf_vectorizer.transform(X_test)\n",
    "\n",
    "clf = PassiveAggressiveClassifier(n_iter_no_change=100)\n",
    "clf.fit(X_tfidf_train, y_train)\n",
    "y_pred = clf.predict(X_tfidf_test)\n",
    "\n",
    "display(confusion_matrix(y_test, y_pred))\n",
    "print('Precision is', precision_score(y_test, y_pred).round(4))"
   ]
  },
  {
   "cell_type": "code",
   "execution_count": 30,
   "metadata": {},
   "outputs": [
    {
     "data": {
      "text/plain": [
       "array([[7805,  183],\n",
       "       [ 228, 7083]], dtype=int64)"
      ]
     },
     "metadata": {},
     "output_type": "display_data"
    },
    {
     "name": "stdout",
     "output_type": "stream",
     "text": [
      "Precision is 0.9748\n"
     ]
    }
   ],
   "source": [
    "tfidf_vectorizer2 = TfidfVectorizer(stop_words='english')\n",
    "X_tfidf_train2 = tfidf_vectorizer2.fit_transform(X_train) \n",
    "X_tfidf_test2 = tfidf_vectorizer2.transform(X_test)\n",
    "\n",
    "clf.fit(X_tfidf_train2, y_train)\n",
    "y_pred2 = clf.predict(X_tfidf_test2)\n",
    "\n",
    "display(confusion_matrix(y_test, y_pred2))\n",
    "print('Precision is', precision_score(y_test, y_pred2).round(4))"
   ]
  },
  {
   "cell_type": "code",
   "execution_count": 31,
   "metadata": {},
   "outputs": [
    {
     "data": {
      "text/plain": [
       "array([[7831,  157],\n",
       "       [ 168, 7143]], dtype=int64)"
      ]
     },
     "metadata": {},
     "output_type": "display_data"
    },
    {
     "name": "stdout",
     "output_type": "stream",
     "text": [
      "Precision is 0.9785\n"
     ]
    }
   ],
   "source": [
    "tfidf_vectorizer3 = TfidfVectorizer(strip_accents=ascii, stop_words='english')\n",
    "X_tfidf_train3 = tfidf_vectorizer3.fit_transform(X_train) \n",
    "X_tfidf_test3 = tfidf_vectorizer3.transform(X_test)\n",
    "\n",
    "clf.fit(X_tfidf_train3, y_train)\n",
    "y_pred3 = clf.predict(X_tfidf_test3)\n",
    "\n",
    "display(confusion_matrix(y_test, y_pred3))\n",
    "print('Precision is', precision_score(y_test, y_pred3).round(4))"
   ]
  },
  {
   "cell_type": "code",
   "execution_count": 33,
   "metadata": {},
   "outputs": [
    {
     "data": {
      "text/plain": [
       "array([[7446,  542],\n",
       "       [ 390, 6921]], dtype=int64)"
      ]
     },
     "metadata": {},
     "output_type": "display_data"
    },
    {
     "name": "stdout",
     "output_type": "stream",
     "text": [
      "Precision is 0.9274\n"
     ]
    }
   ],
   "source": [
    "tfidf_vectorizer5 = TfidfVectorizer(strip_accents=ascii, stop_words='english', min_df=0.1, max_df=0.9)\n",
    "X_tfidf_train5 = tfidf_vectorizer5.fit_transform(X_train) \n",
    "X_tfidf_test5 = tfidf_vectorizer5.transform(X_test)\n",
    "\n",
    "clf.fit(X_tfidf_train5, y_train)\n",
    "y_pred5 = clf.predict(X_tfidf_test5)\n",
    "\n",
    "display(confusion_matrix(y_test, y_pred5))\n",
    "print('Precision is', precision_score(y_test, y_pred5).round(4))"
   ]
  },
  {
   "cell_type": "markdown",
   "metadata": {},
   "source": [
    "### Best prediction"
   ]
  },
  {
   "cell_type": "code",
   "execution_count": 54,
   "metadata": {},
   "outputs": [
    {
     "data": {
      "text/plain": [
       "array([[7842,  146],\n",
       "       [ 175, 7136]], dtype=int64)"
      ]
     },
     "metadata": {},
     "output_type": "display_data"
    },
    {
     "name": "stdout",
     "output_type": "stream",
     "text": [
      "Accuracy is 0.979\n",
      "Precision is 0.98\n",
      "Recall is 0.9761\n",
      "F1 is 0.978\n"
     ]
    }
   ],
   "source": [
    "tfidf_vectorizer4 = TfidfVectorizer(strip_accents=ascii, stop_words='english', max_df=0.9)\n",
    "X_tfidf_train4 = tfidf_vectorizer4.fit_transform(X_train) \n",
    "X_tfidf_test4 = tfidf_vectorizer4.transform(X_test)\n",
    "\n",
    "clf.fit(X_tfidf_train4, y_train)\n",
    "y_pred4 = clf.predict(X_tfidf_test4)\n",
    "\n",
    "display(confusion_matrix(y_test, y_pred4))\n",
    "print('Accuracy is', accuracy_score(y_test, y_pred4).round(4))\n",
    "print('Precision is', precision_score(y_test, y_pred4).round(4))\n",
    "print('Recall is', recall_score(y_test, y_pred4).round(4))\n",
    "print('F1 is', f1_score(y_test, y_pred4).round(4))"
   ]
  },
  {
   "cell_type": "code",
   "execution_count": 55,
   "metadata": {
    "scrolled": false
   },
   "outputs": [
    {
     "data": {
      "text/plain": [
       "[('dallas', 30220),\n",
       " ('maidan', 66949),\n",
       " ('staged', 107263),\n",
       " ('snipers', 105469),\n",
       " ('designed', 32471),\n",
       " ('inflict', 54805),\n",
       " ('u2018strategy', 119086),\n",
       " ('tension', 111794),\n",
       " ('u2019', 119433),\n",
       " ('daily', 30160),\n",
       " ('shooter', 103505),\n",
       " ('21st', 3825),\n",
       " ('century', 23293),\n",
       " ('wirelast', 135302),\n",
       " ('night', 78116)]"
      ]
     },
     "execution_count": 55,
     "metadata": {},
     "output_type": "execute_result"
    }
   ],
   "source": [
    "tfidf_items = tfidf_vectorizer4.vocabulary_.items()\n",
    "list(tfidf_items)[:15]"
   ]
  },
  {
   "cell_type": "markdown",
   "metadata": {},
   "source": [
    "# Tf-idf for Real and Fake news"
   ]
  },
  {
   "cell_type": "code",
   "execution_count": 10,
   "metadata": {},
   "outputs": [
    {
     "data": {
      "text/plain": [
       "(24365, 2)"
      ]
     },
     "execution_count": 10,
     "metadata": {},
     "output_type": "execute_result"
    }
   ],
   "source": [
    "df_real = df.loc[df.label_REAL==1]\n",
    "df_fake = df.loc[df.label_REAL==0]\n",
    "df_real.shape"
   ]
  },
  {
   "cell_type": "code",
   "execution_count": 130,
   "metadata": {},
   "outputs": [],
   "source": [
    "dic = tfidf_real.vocabulary_\n",
    "dic = sorted(dic.items(), key=lambda x:x[1], reverse=False)\n",
    "sortdict = dict(dic)\n",
    "print(sortdict)"
   ]
  },
  {
   "cell_type": "code",
   "execution_count": 32,
   "metadata": {},
   "outputs": [],
   "source": [
    "tfidf_fake = TfidfVectorizer(strip_accents=ascii, stop_words='english', max_df=0.7)\n",
    "X_tfidf_fake_train = tfidf_fake.fit_transform(X_train) \n",
    "X_tfidf_fake_test = tfidf_fake.transform(X_test)"
   ]
  },
  {
   "cell_type": "code",
   "execution_count": null,
   "metadata": {},
   "outputs": [],
   "source": []
  },
  {
   "cell_type": "code",
   "execution_count": 147,
   "metadata": {},
   "outputs": [
    {
     "data": {
      "text/plain": [
       "[(-8.758666841968838, 'featured'),\n",
       " (-8.582790942878637, 'image'),\n",
       " (-8.23763629974966, 'breaking'),\n",
       " (-7.209746417521291, 'video'),\n",
       " (-7.1929940812639, 'read'),\n",
       " (-7.081565221704481, 'nwearing'),\n",
       " (-5.956205996383033, 'getty'),\n",
       " (-5.745642103493524, 'watch'),\n",
       " (-5.449278070570245, 'hillary'),\n",
       " (-5.377934252232653, 'ipsos')]"
      ]
     },
     "execution_count": 147,
     "metadata": {},
     "output_type": "execute_result"
    }
   ],
   "source": [
    "#top 30 fake news\n",
    "topn_class1=sorted(zip(clf.coef_[0], tfidf_vectorizer4.get_feature_names()))[:10]\n",
    "for coef, feat in topn_class1:\n",
    "        print(clf.classes_[1], coef, feat)"
   ]
  },
  {
   "cell_type": "code",
   "execution_count": 151,
   "metadata": {},
   "outputs": [
    {
     "name": "stdout",
     "output_type": "stream",
     "text": [
      "0 3.840119954733524 washington\n",
      "0 3.876693725188236 monday\n",
      "0 4.0698036605270556 tuesday\n",
      "0 4.320603222169065 factbox\n",
      "0 4.498842022114984 xa0the\n",
      "0 4.777451158816453 thursday\n",
      "0 6.879067088642821 nbut\n",
      "0 7.152852727363315 xa0\n",
      "0 7.408257834416797 said\n",
      "0 25.507878117854734 reuters\n"
     ]
    }
   ],
   "source": [
    "#top 30 real news\n",
    "topn_class2=sorted(zip(clf.coef_[0], tfidf_vectorizer4.get_feature_names()))[-10:]\n",
    "for coef, feat in topn_class2:\n",
    "        print(clf.classes_[0], coef, feat)"
   ]
  },
  {
   "cell_type": "code",
   "execution_count": 146,
   "metadata": {},
   "outputs": [
    {
     "name": "stdout",
     "output_type": "stream",
     "text": [
      "0 -8.758666841968838 featured\n",
      "0 -8.582790942878637 image\n",
      "0 -8.23763629974966 breaking\n",
      "0 -7.209746417521291 video\n",
      "0 -7.1929940812639 read\n",
      "0 -7.081565221704481 nwearing\n",
      "0 -5.956205996383033 getty\n",
      "0 -5.745642103493524 watch\n",
      "0 -5.449278070570245 hillary\n",
      "0 -5.377934252232653 ipsos\n",
      "0 -5.30180119751959 nothers\n",
      "0 -4.870707139664385 u201c\n",
      "0 -4.6725622894696 com\n",
      "0 -4.643606017056696 neven\n",
      "0 -4.471121128948189 october\n",
      "0 -4.284619452185391 just\n",
      "0 -4.253637420942676 breitbart\n",
      "0 -4.160897057460708 pic\n",
      "0 -4.11141018392776 u2026\n",
      "0 -4.036556884570469 entire\n",
      "0 -4.003923143602376 flickr\n",
      "0 -3.8882005088203417 photo\n",
      "0 -3.851508061597044 mr\n",
      "0 -3.839295794195911 wfb\n",
      "0 -3.802374496667736 2016\n",
      "0 -3.7472316154173453 nation\n",
      "0 -3.731594936349467 https\n",
      "0 -3.707608382136202 statesofthenation\n",
      "0 -3.5979787987244403 ap\n",
      "0 -3.5927061530925117 images\n",
      "\n",
      "1 25.507878117854734 reuters\n",
      "1 7.408257834416797 said\n",
      "1 7.152852727363315 xa0\n",
      "1 6.879067088642821 nbut\n",
      "1 4.777451158816453 thursday\n",
      "1 4.498842022114984 xa0the\n",
      "1 4.320603222169065 factbox\n",
      "1 4.0698036605270556 tuesday\n",
      "1 3.876693725188236 monday\n",
      "1 3.840119954733524 washington\n",
      "1 3.6507768931205358 nthat\n",
      "1 3.6496935017253467 friday\n",
      "1 3.4682988335248197 wednesday\n",
      "1 3.440592604217255 saying\n",
      "1 3.2692874636708056 u2019s\n",
      "1 3.2172804873654264 nov\n",
      "1 3.2131147427562654 et\n",
      "1 3.0607597974321132 long\n",
      "1 3.0331832940549464 u2014\n",
      "1 2.9040344297921603 nwhat\n",
      "1 2.8801321922563665 bucket\n",
      "1 2.879906612789722 xa0and\n",
      "1 2.818100314400022 showed\n",
      "1 2.766044968770933 rezaian\n",
      "1 2.6616918294248917 nobama\n",
      "1 2.651192606293408 suspected\n",
      "1 2.618524311383193 u201ci\n",
      "1 2.594296100278133 contributed\n",
      "1 2.579674682228441 xa0a\n",
      "1 2.5370265598342936 sept\n"
     ]
    }
   ],
   "source": [
    "#top 20 vectors for fake and real news\n",
    "def most_informative_feature_for_binary_classification(vectorizer, classifier, n=100):\n",
    "    \"\"\"\n",
    "    See: https://stackoverflow.com/a/26980472\n",
    "    Identify most important features if given a vectorizer and binary classifier. Set n to the number\n",
    "    of weighted features you would like to show. (Note: current implementation merely prints and does not \n",
    "    return top classes.)\n",
    "    \"\"\"\n",
    "    class_labels = classifier.classes_\n",
    "    feature_names = vectorizer.get_feature_names()\n",
    "    topn_class1 = sorted(zip(classifier.coef_[0], feature_names))[:n]\n",
    "    topn_class2 = sorted(zip(classifier.coef_[0], feature_names))[-n:]\n",
    "\n",
    "    for coef, feat in topn_class1:\n",
    "        print(class_labels[0], coef, feat)\n",
    "\n",
    "    print()\n",
    "\n",
    "    for coef, feat in reversed(topn_class2):\n",
    "        print(class_labels[1], coef, feat)\n",
    "        \n",
    "most_informative_feature_for_binary_classification(tfidf_vectorizer4, clf, n=30)"
   ]
  },
  {
   "cell_type": "markdown",
   "metadata": {},
   "source": [
    "# Predictions on scraped data"
   ]
  },
  {
   "cell_type": "code",
   "execution_count": 104,
   "metadata": {},
   "outputs": [],
   "source": [
    "df_infowars = pd.read_csv(r'C:\\Users\\lilie\\GitHubProjects\\IronEstelle\\Fake_News\\data\\df_infowars.csv')\n",
    "df_reuters = pd.read_csv(r'C:\\Users\\lilie\\GitHubProjects\\IronEstelle\\Fake_News\\data\\df_reuters.csv')"
   ]
  },
  {
   "cell_type": "code",
   "execution_count": 105,
   "metadata": {},
   "outputs": [
    {
     "name": "stdout",
     "output_type": "stream",
     "text": [
      "(89, 3)\n",
      "(82, 2)\n"
     ]
    }
   ],
   "source": [
    "print(df_infowars.shape)\n",
    "print(df_reuters.shape)"
   ]
  },
  {
   "cell_type": "code",
   "execution_count": 106,
   "metadata": {},
   "outputs": [
    {
     "data": {
      "text/html": [
       "<div>\n",
       "<style scoped>\n",
       "    .dataframe tbody tr th:only-of-type {\n",
       "        vertical-align: middle;\n",
       "    }\n",
       "\n",
       "    .dataframe tbody tr th {\n",
       "        vertical-align: top;\n",
       "    }\n",
       "\n",
       "    .dataframe thead th {\n",
       "        text-align: right;\n",
       "    }\n",
       "</style>\n",
       "<table border=\"1\" class=\"dataframe\">\n",
       "  <thead>\n",
       "    <tr style=\"text-align: right;\">\n",
       "      <th></th>\n",
       "      <th>Unnamed: 0</th>\n",
       "      <th>txt</th>\n",
       "    </tr>\n",
       "  </thead>\n",
       "  <tbody>\n",
       "    <tr>\n",
       "      <th>0</th>\n",
       "      <td>0</td>\n",
       "      <td>Watch Live: New Fauci Emails Contain Damning D...</td>\n",
       "    </tr>\n",
       "    <tr>\n",
       "      <th>1</th>\n",
       "      <td>1</td>\n",
       "      <td>Scientist At Center Of Lab Leak Controversy Pu...</td>\n",
       "    </tr>\n",
       "    <tr>\n",
       "      <th>2</th>\n",
       "      <td>2</td>\n",
       "      <td>Poll: Majority Of Americans Believe COVID Came...</td>\n",
       "    </tr>\n",
       "    <tr>\n",
       "      <th>3</th>\n",
       "      <td>3</td>\n",
       "      <td>German Study Finds Lockdown ‘Had No Effect’ on...</td>\n",
       "    </tr>\n",
       "    <tr>\n",
       "      <th>4</th>\n",
       "      <td>4</td>\n",
       "      <td>50-Year-Old Mother Charged With ‘Transphobic H...</td>\n",
       "    </tr>\n",
       "  </tbody>\n",
       "</table>\n",
       "</div>"
      ],
      "text/plain": [
       "   Unnamed: 0                                                txt\n",
       "0           0  Watch Live: New Fauci Emails Contain Damning D...\n",
       "1           1  Scientist At Center Of Lab Leak Controversy Pu...\n",
       "2           2  Poll: Majority Of Americans Believe COVID Came...\n",
       "3           3  German Study Finds Lockdown ‘Had No Effect’ on...\n",
       "4           4  50-Year-Old Mother Charged With ‘Transphobic H..."
      ]
     },
     "execution_count": 106,
     "metadata": {},
     "output_type": "execute_result"
    }
   ],
   "source": [
    "df_infowars['txt'] = df_infowars['title'] + \" \" + df_infowars['text']\n",
    "df_infowars = df_infowars.drop(columns = ['title', 'text'])\n",
    "df_infowars = df_infowars.loc[~df_infowars['txt'].isna()]\n",
    "df_infowars.head()"
   ]
  },
  {
   "cell_type": "code",
   "execution_count": 107,
   "metadata": {},
   "outputs": [
    {
     "data": {
      "text/html": [
       "<div>\n",
       "<style scoped>\n",
       "    .dataframe tbody tr th:only-of-type {\n",
       "        vertical-align: middle;\n",
       "    }\n",
       "\n",
       "    .dataframe tbody tr th {\n",
       "        vertical-align: top;\n",
       "    }\n",
       "\n",
       "    .dataframe thead th {\n",
       "        text-align: right;\n",
       "    }\n",
       "</style>\n",
       "<table border=\"1\" class=\"dataframe\">\n",
       "  <thead>\n",
       "    <tr style=\"text-align: right;\">\n",
       "      <th></th>\n",
       "      <th>txt</th>\n",
       "    </tr>\n",
       "  </thead>\n",
       "  <tbody>\n",
       "    <tr>\n",
       "      <th>0</th>\n",
       "      <td>Mexican rulers' lower house majority to shrink...</td>\n",
       "    </tr>\n",
       "    <tr>\n",
       "      <th>1</th>\n",
       "      <td>China administered total of 777.88 mln doses o...</td>\n",
       "    </tr>\n",
       "    <tr>\n",
       "      <th>2</th>\n",
       "      <td>Thailand starts long awaited COVID-19 vaccinat...</td>\n",
       "    </tr>\n",
       "    <tr>\n",
       "      <th>3</th>\n",
       "      <td>Afghan schoolgirl determined to return to scho...</td>\n",
       "    </tr>\n",
       "    <tr>\n",
       "      <th>4</th>\n",
       "      <td>Swiss to vote on whether to become first Europ...</td>\n",
       "    </tr>\n",
       "  </tbody>\n",
       "</table>\n",
       "</div>"
      ],
      "text/plain": [
       "                                                 txt\n",
       "0  Mexican rulers' lower house majority to shrink...\n",
       "1  China administered total of 777.88 mln doses o...\n",
       "2  Thailand starts long awaited COVID-19 vaccinat...\n",
       "3  Afghan schoolgirl determined to return to scho...\n",
       "4  Swiss to vote on whether to become first Europ..."
      ]
     },
     "execution_count": 107,
     "metadata": {},
     "output_type": "execute_result"
    }
   ],
   "source": [
    "df_reuters['txt'] = df_reuters['title'] + \" \" + df_reuters['text']\n",
    "df_reuters = df_reuters.drop(columns = ['title', 'text'])\n",
    "df_reuters = df_reuters.loc[~df_reuters['txt'].isna()]\n",
    "df_reuters.head()"
   ]
  },
  {
   "cell_type": "code",
   "execution_count": 108,
   "metadata": {},
   "outputs": [],
   "source": [
    "del df_infowars['Unnamed: 0']"
   ]
  },
  {
   "cell_type": "code",
   "execution_count": 109,
   "metadata": {},
   "outputs": [],
   "source": [
    "df_reuters['label_REAL']=1\n",
    "df_infowars['label_REAL']=0"
   ]
  },
  {
   "cell_type": "code",
   "execution_count": 110,
   "metadata": {},
   "outputs": [
    {
     "data": {
      "text/html": [
       "<div>\n",
       "<style scoped>\n",
       "    .dataframe tbody tr th:only-of-type {\n",
       "        vertical-align: middle;\n",
       "    }\n",
       "\n",
       "    .dataframe tbody tr th {\n",
       "        vertical-align: top;\n",
       "    }\n",
       "\n",
       "    .dataframe thead th {\n",
       "        text-align: right;\n",
       "    }\n",
       "</style>\n",
       "<table border=\"1\" class=\"dataframe\">\n",
       "  <thead>\n",
       "    <tr style=\"text-align: right;\">\n",
       "      <th></th>\n",
       "      <th>txt</th>\n",
       "      <th>label_REAL</th>\n",
       "    </tr>\n",
       "  </thead>\n",
       "  <tbody>\n",
       "    <tr>\n",
       "      <th>0</th>\n",
       "      <td>Mexican rulers' lower house majority to shrink...</td>\n",
       "      <td>1</td>\n",
       "    </tr>\n",
       "    <tr>\n",
       "      <th>1</th>\n",
       "      <td>China administered total of 777.88 mln doses o...</td>\n",
       "      <td>1</td>\n",
       "    </tr>\n",
       "    <tr>\n",
       "      <th>2</th>\n",
       "      <td>Thailand starts long awaited COVID-19 vaccinat...</td>\n",
       "      <td>1</td>\n",
       "    </tr>\n",
       "    <tr>\n",
       "      <th>3</th>\n",
       "      <td>Afghan schoolgirl determined to return to scho...</td>\n",
       "      <td>1</td>\n",
       "    </tr>\n",
       "    <tr>\n",
       "      <th>4</th>\n",
       "      <td>Swiss to vote on whether to become first Europ...</td>\n",
       "      <td>1</td>\n",
       "    </tr>\n",
       "  </tbody>\n",
       "</table>\n",
       "</div>"
      ],
      "text/plain": [
       "                                                 txt  label_REAL\n",
       "0  Mexican rulers' lower house majority to shrink...           1\n",
       "1  China administered total of 777.88 mln doses o...           1\n",
       "2  Thailand starts long awaited COVID-19 vaccinat...           1\n",
       "3  Afghan schoolgirl determined to return to scho...           1\n",
       "4  Swiss to vote on whether to become first Europ...           1"
      ]
     },
     "execution_count": 110,
     "metadata": {},
     "output_type": "execute_result"
    }
   ],
   "source": [
    "df_scraped =  pd.concat([df_reuters, df_infowars], axis = 0)\n",
    "df_scraped.head()"
   ]
  },
  {
   "cell_type": "markdown",
   "metadata": {},
   "source": [
    "## pred"
   ]
  },
  {
   "cell_type": "code",
   "execution_count": 111,
   "metadata": {},
   "outputs": [],
   "source": [
    "X_test_scraped = df_scraped.txt\n",
    "y_test_scraped = df_scraped.label_REAL"
   ]
  },
  {
   "cell_type": "code",
   "execution_count": 112,
   "metadata": {},
   "outputs": [
    {
     "data": {
      "text/plain": [
       "0     Mexican rulers' lower house majority to shrink...\n",
       "1     China administered total of 777.88 mln doses o...\n",
       "2     Thailand starts long awaited COVID-19 vaccinat...\n",
       "3     Afghan schoolgirl determined to return to scho...\n",
       "4     Swiss to vote on whether to become first Europ...\n",
       "                            ...                        \n",
       "84    The Origins of Keynesian Economics: How Did It...\n",
       "85    UK Tells Big Tech to Censor Videos ‘Glamorizin...\n",
       "86    Why Corporate Lobbyists and Special Interest G...\n",
       "87    AMC stock soars over 20% as Reddit-fueled rall...\n",
       "88    China’s vast foreign reserves grow to $3.22 TR...\n",
       "Name: txt, Length: 170, dtype: object"
      ]
     },
     "execution_count": 112,
     "metadata": {},
     "output_type": "execute_result"
    }
   ],
   "source": [
    "X_test_scraped"
   ]
  },
  {
   "cell_type": "code",
   "execution_count": 61,
   "metadata": {},
   "outputs": [
    {
     "data": {
      "text/plain": [
       "array([[57, 31],\n",
       "       [ 1, 45]], dtype=int64)"
      ]
     },
     "metadata": {},
     "output_type": "display_data"
    },
    {
     "name": "stdout",
     "output_type": "stream",
     "text": [
      "Accuracy is 0.7612\n",
      "Precision is 0.5921\n",
      "Recall is 0.9783\n",
      "F1 is 0.7377\n"
     ]
    }
   ],
   "source": [
    "#pour rappel\n",
    "#tfidf_vectorizer4 = TfidfVectorizer(strip_accents=ascii, stop_words='english', max_df=0.9)\n",
    "#X_tfidf_train4 = tfidf_vectorizer4.fit_transform(X_train) \n",
    "\n",
    "X_test_scraped_tfidf = tfidf_vectorizer4.transform(X_test_scraped)\n",
    "#clf.fit(X_tfidf_train4, y_train)\n",
    "\n",
    "y_pred_scraped = clf.predict(X_test_scraped_tfidf)\n",
    "\n",
    "display(confusion_matrix(y_test_scraped, y_pred_scraped))\n",
    "print('Accuracy is', accuracy_score(y_test_scraped, y_pred_scraped).round(4))\n",
    "print('Precision is', precision_score(y_test_scraped, y_pred_scraped).round(4))\n",
    "print('Recall is', recall_score(y_test_scraped, y_pred_scraped).round(4))\n",
    "print('F1 is', f1_score(y_test_scraped, y_pred_scraped).round(4))"
   ]
  },
  {
   "cell_type": "code",
   "execution_count": 90,
   "metadata": {
    "scrolled": true
   },
   "outputs": [
    {
     "data": {
      "text/plain": [
       "<matplotlib.axes._subplots.AxesSubplot at 0x19d859b69a0>"
      ]
     },
     "execution_count": 90,
     "metadata": {},
     "output_type": "execute_result"
    },
    {
     "data": {
      "image/png": "[encoded data removed]",
      "text/plain": [
       "<Figure size 432x288 with 2 Axes>"
      ]
     },
     "metadata": {},
     "output_type": "display_data"
    }
   ],
   "source": [
    "cm = confusion_matrix(y_test_scraped, y_pred_scraped)\n",
    "cm_matrix = pd.DataFrame(data=cm, columns=['Actual Pos', 'Actual Neg'], \n",
    "                                 index=['Predict Pos', 'Predict Neg'])\n",
    "\n",
    "sns.heatmap(cm_matrix, annot=True, fmt='d', cmap='YlGnBu')"
   ]
  },
  {
   "cell_type": "code",
   "execution_count": 70,
   "metadata": {},
   "outputs": [],
   "source": [
    "df_X_test_scraped = pd.DataFrame(X_test_scraped)\n",
    "df_y_test_scraped = pd.DataFrame(y_test_scraped)\n",
    "df_y_pred_scraped = pd.DataFrame(y_pred_scraped)"
   ]
  },
  {
   "cell_type": "code",
   "execution_count": 122,
   "metadata": {},
   "outputs": [],
   "source": [
    "df_X_test_scraped['label'] = df_y_test_scraped\n",
    "df_X_test_scraped['predictions']= df_y_pred_scraped"
   ]
  },
  {
   "cell_type": "code",
   "execution_count": 125,
   "metadata": {},
   "outputs": [
    {
     "data": {
      "text/html": [
       "<div>\n",
       "<style scoped>\n",
       "    .dataframe tbody tr th:only-of-type {\n",
       "        vertical-align: middle;\n",
       "    }\n",
       "\n",
       "    .dataframe tbody tr th {\n",
       "        vertical-align: top;\n",
       "    }\n",
       "\n",
       "    .dataframe thead th {\n",
       "        text-align: right;\n",
       "    }\n",
       "</style>\n",
       "<table border=\"1\" class=\"dataframe\">\n",
       "  <thead>\n",
       "    <tr style=\"text-align: right;\">\n",
       "      <th></th>\n",
       "      <th>txt</th>\n",
       "      <th>label</th>\n",
       "      <th>predictions</th>\n",
       "    </tr>\n",
       "  </thead>\n",
       "  <tbody>\n",
       "    <tr>\n",
       "      <th>0</th>\n",
       "      <td>Mexican rulers' lower house majority to shrink...</td>\n",
       "      <td>1</td>\n",
       "      <td>1</td>\n",
       "    </tr>\n",
       "    <tr>\n",
       "      <th>1</th>\n",
       "      <td>China administered total of 777.88 mln doses o...</td>\n",
       "      <td>1</td>\n",
       "      <td>1</td>\n",
       "    </tr>\n",
       "    <tr>\n",
       "      <th>2</th>\n",
       "      <td>Thailand starts long awaited COVID-19 vaccinat...</td>\n",
       "      <td>1</td>\n",
       "      <td>1</td>\n",
       "    </tr>\n",
       "    <tr>\n",
       "      <th>3</th>\n",
       "      <td>Afghan schoolgirl determined to return to scho...</td>\n",
       "      <td>1</td>\n",
       "      <td>1</td>\n",
       "    </tr>\n",
       "    <tr>\n",
       "      <th>4</th>\n",
       "      <td>Swiss to vote on whether to become first Europ...</td>\n",
       "      <td>1</td>\n",
       "      <td>1</td>\n",
       "    </tr>\n",
       "    <tr>\n",
       "      <th>...</th>\n",
       "      <td>...</td>\n",
       "      <td>...</td>\n",
       "      <td>...</td>\n",
       "    </tr>\n",
       "    <tr>\n",
       "      <th>84</th>\n",
       "      <td>The Origins of Keynesian Economics: How Did It...</td>\n",
       "      <td>0</td>\n",
       "      <td>0</td>\n",
       "    </tr>\n",
       "    <tr>\n",
       "      <th>85</th>\n",
       "      <td>UK Tells Big Tech to Censor Videos ‘Glamorizin...</td>\n",
       "      <td>0</td>\n",
       "      <td>0</td>\n",
       "    </tr>\n",
       "    <tr>\n",
       "      <th>86</th>\n",
       "      <td>Why Corporate Lobbyists and Special Interest G...</td>\n",
       "      <td>0</td>\n",
       "      <td>0</td>\n",
       "    </tr>\n",
       "    <tr>\n",
       "      <th>87</th>\n",
       "      <td>AMC stock soars over 20% as Reddit-fueled rall...</td>\n",
       "      <td>0</td>\n",
       "      <td>0</td>\n",
       "    </tr>\n",
       "    <tr>\n",
       "      <th>88</th>\n",
       "      <td>China’s vast foreign reserves grow to $3.22 TR...</td>\n",
       "      <td>0</td>\n",
       "      <td>0</td>\n",
       "    </tr>\n",
       "  </tbody>\n",
       "</table>\n",
       "<p>134 rows × 3 columns</p>\n",
       "</div>"
      ],
      "text/plain": [
       "                                                  txt  label  predictions\n",
       "0   Mexican rulers' lower house majority to shrink...      1            1\n",
       "1   China administered total of 777.88 mln doses o...      1            1\n",
       "2   Thailand starts long awaited COVID-19 vaccinat...      1            1\n",
       "3   Afghan schoolgirl determined to return to scho...      1            1\n",
       "4   Swiss to vote on whether to become first Europ...      1            1\n",
       "..                                                ...    ...          ...\n",
       "84  The Origins of Keynesian Economics: How Did It...      0            0\n",
       "85  UK Tells Big Tech to Censor Videos ‘Glamorizin...      0            0\n",
       "86  Why Corporate Lobbyists and Special Interest G...      0            0\n",
       "87  AMC stock soars over 20% as Reddit-fueled rall...      0            0\n",
       "88  China’s vast foreign reserves grow to $3.22 TR...      0            0\n",
       "\n",
       "[134 rows x 3 columns]"
      ]
     },
     "execution_count": 125,
     "metadata": {},
     "output_type": "execute_result"
    }
   ],
   "source": [
    "df_X_test_scraped"
   ]
  },
  {
   "cell_type": "code",
   "execution_count": 127,
   "metadata": {},
   "outputs": [],
   "source": [
    "df_X_test_scraped.to_csv(r'C:\\Users\\lilie\\GitHubProjects\\IronEstelle\\Fake_News\\data\\pred1.csv', index = False)"
   ]
  },
  {
   "cell_type": "code",
   "execution_count": 114,
   "metadata": {},
   "outputs": [
    {
     "data": {
      "text/plain": [
       "array([[57, 31],\n",
       "       [ 4, 78]], dtype=int64)"
      ]
     },
     "metadata": {},
     "output_type": "display_data"
    },
    {
     "name": "stdout",
     "output_type": "stream",
     "text": [
      "Accuracy is 0.7941\n",
      "Precision is 0.7156\n",
      "Recall is 0.9512\n",
      "F1 is 0.8168\n"
     ]
    }
   ],
   "source": [
    "##2 try\n",
    "X_test_scraped_tfidf = tfidf_vectorizer4.transform(X_test_scraped)\n",
    "\n",
    "y_pred_scraped2 = clf.predict(X_test_scraped_tfidf)\n",
    "\n",
    "display(confusion_matrix(y_test_scraped, y_pred_scraped2))\n",
    "print('Accuracy is', accuracy_score(y_test_scraped, y_pred_scraped2).round(4))\n",
    "print('Precision is', precision_score(y_test_scraped, y_pred_scraped2).round(4))\n",
    "print('Recall is', recall_score(y_test_scraped, y_pred_scraped2).round(4))\n",
    "print('F1 is', f1_score(y_test_scraped, y_pred_scraped2).round(4))"
   ]
  },
  {
   "cell_type": "code",
   "execution_count": 115,
   "metadata": {},
   "outputs": [],
   "source": [
    "#df_X_test_scraped = pd.DataFrame(X_test_scraped)\n",
    "#df_y_test_scraped = pd.DataFrame(y_test_scraped)\n",
    "df_y_pred_scraped2 = pd.DataFrame(y_pred_scraped2)"
   ]
  },
  {
   "cell_type": "code",
   "execution_count": 126,
   "metadata": {},
   "outputs": [
    {
     "data": {
      "text/html": [
       "<div>\n",
       "<style scoped>\n",
       "    .dataframe tbody tr th:only-of-type {\n",
       "        vertical-align: middle;\n",
       "    }\n",
       "\n",
       "    .dataframe tbody tr th {\n",
       "        vertical-align: top;\n",
       "    }\n",
       "\n",
       "    .dataframe thead th {\n",
       "        text-align: right;\n",
       "    }\n",
       "</style>\n",
       "<table border=\"1\" class=\"dataframe\">\n",
       "  <thead>\n",
       "    <tr style=\"text-align: right;\">\n",
       "      <th></th>\n",
       "      <th>txt</th>\n",
       "      <th>label</th>\n",
       "      <th>predictions</th>\n",
       "    </tr>\n",
       "  </thead>\n",
       "  <tbody>\n",
       "    <tr>\n",
       "      <th>0</th>\n",
       "      <td>Mexican rulers' lower house majority to shrink...</td>\n",
       "      <td>1</td>\n",
       "      <td>1</td>\n",
       "    </tr>\n",
       "    <tr>\n",
       "      <th>1</th>\n",
       "      <td>China administered total of 777.88 mln doses o...</td>\n",
       "      <td>1</td>\n",
       "      <td>1</td>\n",
       "    </tr>\n",
       "    <tr>\n",
       "      <th>2</th>\n",
       "      <td>Thailand starts long awaited COVID-19 vaccinat...</td>\n",
       "      <td>1</td>\n",
       "      <td>1</td>\n",
       "    </tr>\n",
       "    <tr>\n",
       "      <th>3</th>\n",
       "      <td>Afghan schoolgirl determined to return to scho...</td>\n",
       "      <td>1</td>\n",
       "      <td>1</td>\n",
       "    </tr>\n",
       "    <tr>\n",
       "      <th>4</th>\n",
       "      <td>Swiss to vote on whether to become first Europ...</td>\n",
       "      <td>1</td>\n",
       "      <td>1</td>\n",
       "    </tr>\n",
       "  </tbody>\n",
       "</table>\n",
       "</div>"
      ],
      "text/plain": [
       "                                                 txt  label  predictions\n",
       "0  Mexican rulers' lower house majority to shrink...      1            1\n",
       "1  China administered total of 777.88 mln doses o...      1            1\n",
       "2  Thailand starts long awaited COVID-19 vaccinat...      1            1\n",
       "3  Afghan schoolgirl determined to return to scho...      1            1\n",
       "4  Swiss to vote on whether to become first Europ...      1            1"
      ]
     },
     "execution_count": 126,
     "metadata": {},
     "output_type": "execute_result"
    }
   ],
   "source": [
    "df_X_test_scraped2 = df_X_test_scraped.copy()\n",
    "df_X_test_scraped2['label'] = df_y_test_scraped\n",
    "df_X_test_scraped2['predictions']= df_y_pred_scraped2\n",
    "df_X_test_scraped2.head()"
   ]
  },
  {
   "cell_type": "code",
   "execution_count": 128,
   "metadata": {},
   "outputs": [],
   "source": [
    "df_X_test_scraped2.to_csv(r'C:\\Users\\lilie\\GitHubProjects\\IronEstelle\\Fake_News\\data\\pred2.csv', index = False)"
   ]
  },
  {
   "cell_type": "code",
   "execution_count": null,
   "metadata": {},
   "outputs": [],
   "source": []
  },
  {
   "cell_type": "code",
   "execution_count": null,
   "metadata": {},
   "outputs": [],
   "source": []
  },
  {
   "cell_type": "code",
   "execution_count": null,
   "metadata": {},
   "outputs": [],
   "source": []
  },
  {
   "cell_type": "code",
   "execution_count": null,
   "metadata": {},
   "outputs": [],
   "source": []
  }
 ],
 "metadata": {
  "kernelspec": {
   "display_name": "Python 3",
   "language": "python",
   "name": "python3"
  },
  "language_info": {
   "codemirror_mode": {
    "name": "ipython",
    "version": 3
   },
   "file_extension": ".py",
   "mimetype": "text/x-python",
   "name": "python",
   "nbconvert_exporter": "python",
   "pygments_lexer": "ipython3",
   "version": "3.8.3"
  }
 },
 "nbformat": 4,
 "nbformat_minor": 4
}
