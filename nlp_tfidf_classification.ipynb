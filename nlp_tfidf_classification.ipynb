{
 "cells": [
  {
   "cell_type": "code",
   "execution_count": 1,
   "metadata": {},
   "outputs": [],
   "source": [
    "import os\n",
    "import numpy as np\n",
    "import pandas as pd\n",
    "from sklearn.metrics import accuracy_score, confusion_matrix, precision_score, recall_score, f1_score, roc_auc_score"
   ]
  },
  {
   "cell_type": "code",
   "execution_count": 2,
   "metadata": {},
   "outputs": [],
   "source": [
    "import matplotlib.pyplot as plt\n",
    "%matplotlib inline\n",
    "import seaborn as sns\n",
    "sns.set()"
   ]
  },
  {
   "cell_type": "code",
   "execution_count": 3,
   "metadata": {},
   "outputs": [
    {
     "data": {
      "text/html": [
       "<div>\n",
       "<style scoped>\n",
       "    .dataframe tbody tr th:only-of-type {\n",
       "        vertical-align: middle;\n",
       "    }\n",
       "\n",
       "    .dataframe tbody tr th {\n",
       "        vertical-align: top;\n",
       "    }\n",
       "\n",
       "    .dataframe thead th {\n",
       "        text-align: right;\n",
       "    }\n",
       "</style>\n",
       "<table border=\"1\" class=\"dataframe\">\n",
       "  <thead>\n",
       "    <tr style=\"text-align: right;\">\n",
       "      <th></th>\n",
       "      <th>title</th>\n",
       "      <th>text</th>\n",
       "      <th>label_REAL</th>\n",
       "      <th>subject</th>\n",
       "      <th>date</th>\n",
       "    </tr>\n",
       "  </thead>\n",
       "  <tbody>\n",
       "    <tr>\n",
       "      <th>0</th>\n",
       "      <td>You Can Smell Hillary’s Fear</td>\n",
       "      <td>Daniel Greenfield, a Shillman Journalism Fello...</td>\n",
       "      <td>0</td>\n",
       "      <td>NaN</td>\n",
       "      <td>NaN</td>\n",
       "    </tr>\n",
       "    <tr>\n",
       "      <th>1</th>\n",
       "      <td>Watch The Exact Moment Paul Ryan Committed Pol...</td>\n",
       "      <td>Google Pinterest Digg Linkedin Reddit Stumbleu...</td>\n",
       "      <td>0</td>\n",
       "      <td>NaN</td>\n",
       "      <td>NaN</td>\n",
       "    </tr>\n",
       "    <tr>\n",
       "      <th>2</th>\n",
       "      <td>Kerry to go to Paris in gesture of sympathy</td>\n",
       "      <td>U.S. Secretary of State John F. Kerry said Mon...</td>\n",
       "      <td>1</td>\n",
       "      <td>NaN</td>\n",
       "      <td>NaN</td>\n",
       "    </tr>\n",
       "    <tr>\n",
       "      <th>3</th>\n",
       "      <td>Bernie supporters on Twitter erupt in anger ag...</td>\n",
       "      <td>— Kaydee King (@KaydeeKing) November 9, 2016 T...</td>\n",
       "      <td>0</td>\n",
       "      <td>NaN</td>\n",
       "      <td>NaN</td>\n",
       "    </tr>\n",
       "    <tr>\n",
       "      <th>4</th>\n",
       "      <td>The Battle of New York: Why This Primary Matters</td>\n",
       "      <td>It's primary day in New York and front-runners...</td>\n",
       "      <td>1</td>\n",
       "      <td>NaN</td>\n",
       "      <td>NaN</td>\n",
       "    </tr>\n",
       "  </tbody>\n",
       "</table>\n",
       "</div>"
      ],
      "text/plain": [
       "                                               title  \\\n",
       "0                       You Can Smell Hillary’s Fear   \n",
       "1  Watch The Exact Moment Paul Ryan Committed Pol...   \n",
       "2        Kerry to go to Paris in gesture of sympathy   \n",
       "3  Bernie supporters on Twitter erupt in anger ag...   \n",
       "4   The Battle of New York: Why This Primary Matters   \n",
       "\n",
       "                                                text  label_REAL subject date  \n",
       "0  Daniel Greenfield, a Shillman Journalism Fello...           0     NaN  NaN  \n",
       "1  Google Pinterest Digg Linkedin Reddit Stumbleu...           0     NaN  NaN  \n",
       "2  U.S. Secretary of State John F. Kerry said Mon...           1     NaN  NaN  \n",
       "3  — Kaydee King (@KaydeeKing) November 9, 2016 T...           0     NaN  NaN  \n",
       "4  It's primary day in New York and front-runners...           1     NaN  NaN  "
      ]
     },
     "execution_count": 3,
     "metadata": {},
     "output_type": "execute_result"
    }
   ],
   "source": [
    "df = pd.read_csv(r'C:\\Users\\lilie\\OneDrive\\Bureau\\ironHack\\dataset\\fake_real_final.csv')\n",
    "df.head()"
   ]
  },
  {
   "cell_type": "code",
   "execution_count": 8,
   "metadata": {
    "scrolled": true
   },
   "outputs": [
    {
     "data": {
      "text/plain": [
       "0    0.522208\n",
       "1    0.477792\n",
       "Name: label_REAL, dtype: float64"
      ]
     },
     "execution_count": 8,
     "metadata": {},
     "output_type": "execute_result"
    }
   ],
   "source": [
    "df.label_REAL.value_counts(normalize=True)"
   ]
  },
  {
   "cell_type": "code",
   "execution_count": 82,
   "metadata": {},
   "outputs": [
    {
     "name": "stderr",
     "output_type": "stream",
     "text": [
      "No handles with labels found to put in legend.\n"
     ]
    },
    {
     "data": {
      "image/png": "[encoded data removed]",
      "text/plain": [
       "<Figure size 432x288 with 1 Axes>"
      ]
     },
     "metadata": {},
     "output_type": "display_data"
    }
   ],
   "source": [
    "sns.set(style=\"darkgrid\")\n",
    "\n",
    "fig, ax = plt.subplots()\n",
    "\n",
    "#clrs = ['red' if x==0 else 'blue' for x in df.Label_REAL]\n",
    "sns.countplot(df.label_REAL)\n",
    "plt.title(\"Distribution of Real and Fake News\", fontsize=20)\n",
    "plt.legend()\n",
    "\n",
    "ax.set_xticklabels(['Fake','Real'])\n",
    "plt.xlabel('Label', fontsize=15)\n",
    "plt.ylabel('Num of Articles', fontsize=15)\n",
    "\n",
    "plt.show()"
   ]
  },
  {
   "cell_type": "code",
   "execution_count": 5,
   "metadata": {
    "scrolled": true
   },
   "outputs": [
    {
     "data": {
      "text/html": [
       "<div>\n",
       "<style scoped>\n",
       "    .dataframe tbody tr th:only-of-type {\n",
       "        vertical-align: middle;\n",
       "    }\n",
       "\n",
       "    .dataframe tbody tr th {\n",
       "        vertical-align: top;\n",
       "    }\n",
       "\n",
       "    .dataframe thead th {\n",
       "        text-align: right;\n",
       "    }\n",
       "</style>\n",
       "<table border=\"1\" class=\"dataframe\">\n",
       "  <thead>\n",
       "    <tr style=\"text-align: right;\">\n",
       "      <th></th>\n",
       "      <th>label_REAL</th>\n",
       "      <th>txt</th>\n",
       "    </tr>\n",
       "  </thead>\n",
       "  <tbody>\n",
       "    <tr>\n",
       "      <th>0</th>\n",
       "      <td>0</td>\n",
       "      <td>You Can Smell Hillary’s Fear Daniel Greenfield...</td>\n",
       "    </tr>\n",
       "    <tr>\n",
       "      <th>1</th>\n",
       "      <td>0</td>\n",
       "      <td>Watch The Exact Moment Paul Ryan Committed Pol...</td>\n",
       "    </tr>\n",
       "    <tr>\n",
       "      <th>2</th>\n",
       "      <td>1</td>\n",
       "      <td>Kerry to go to Paris in gesture of sympathy U....</td>\n",
       "    </tr>\n",
       "    <tr>\n",
       "      <th>3</th>\n",
       "      <td>0</td>\n",
       "      <td>Bernie supporters on Twitter erupt in anger ag...</td>\n",
       "    </tr>\n",
       "    <tr>\n",
       "      <th>4</th>\n",
       "      <td>1</td>\n",
       "      <td>The Battle of New York: Why This Primary Matte...</td>\n",
       "    </tr>\n",
       "  </tbody>\n",
       "</table>\n",
       "</div>"
      ],
      "text/plain": [
       "   label_REAL                                                txt\n",
       "0           0  You Can Smell Hillary’s Fear Daniel Greenfield...\n",
       "1           0  Watch The Exact Moment Paul Ryan Committed Pol...\n",
       "2           1  Kerry to go to Paris in gesture of sympathy U....\n",
       "3           0  Bernie supporters on Twitter erupt in anger ag...\n",
       "4           1  The Battle of New York: Why This Primary Matte..."
      ]
     },
     "execution_count": 5,
     "metadata": {},
     "output_type": "execute_result"
    }
   ],
   "source": [
    "df['txt'] = df['title'] + \" \" + df['text']\n",
    "df = df.drop(columns = ['title', 'text','subject','date'])\n",
    "df = df.loc[~df['txt'].isna()]\n",
    "df.head()"
   ]
  },
  {
   "cell_type": "code",
   "execution_count": 250,
   "metadata": {},
   "outputs": [
    {
     "data": {
      "image/png": "[encoded data removed]",
      "text/plain": [
       "<Figure size 720x576 with 2 Axes>"
      ]
     },
     "metadata": {},
     "output_type": "display_data"
    }
   ],
   "source": [
    "fig,(ax1,ax2)=plt.subplots(1,2,figsize=(10,8))\n",
    "\n",
    "text_len = df[df.label_REAL==0]['txt'].str.split().map(lambda x: len(x))\n",
    "ax1.hist(text_len, bins = 20)\n",
    "ax1.set_title('Fake news')\n",
    "\n",
    "text_len = df[df.label_REAL==1]['txt'].str.split().map(lambda x: len(x))\n",
    "ax2.hist(text_len, bins = 20)\n",
    "ax2.set_title('Real news')\n",
    "\n",
    "fig.suptitle('Number of words in texts', y=0)\n",
    "fig.show()"
   ]
  },
  {
   "cell_type": "code",
   "execution_count": 62,
   "metadata": {},
   "outputs": [
    {
     "name": "stderr",
     "output_type": "stream",
     "text": [
      "No handles with labels found to put in legend.\n"
     ]
    },
    {
     "data": {
      "text/plain": [
       "<matplotlib.legend.Legend at 0x2938641bbe0>"
      ]
     },
     "execution_count": 62,
     "metadata": {},
     "output_type": "execute_result"
    },
    {
     "data": {
      "image/png": "[encoded data removed]",
      "text/plain": [
       "<Figure size 432x288 with 1 Axes>"
      ]
     },
     "metadata": {},
     "output_type": "display_data"
    }
   ],
   "source": [
    "df[df.label_REAL==0]['txt'].str.split().map(lambda x: len(x)).hist(bins=30) #blue\n",
    "df[df.label_REAL==1]['txt'].str.split().map(lambda x: len(x)).hist(bins=30) #orange"
   ]
  },
  {
   "cell_type": "code",
   "execution_count": 46,
   "metadata": {},
   "outputs": [
    {
     "data": {
      "text/plain": [
       "<matplotlib.axes._subplots.AxesSubplot at 0x293869dbbb0>"
      ]
     },
     "execution_count": 46,
     "metadata": {},
     "output_type": "execute_result"
    },
    {
     "data": {
      "image/png": "[encoded data removed]",
      "text/plain": [
       "<Figure size 432x288 with 1 Axes>"
      ]
     },
     "metadata": {},
     "output_type": "display_data"
    }
   ],
   "source": [
    "#other method, without bins\n",
    "seq_len_fake = [len(i.split()) for i in df[df.label_REAL==0]['txt']]\n",
    "seq_len_real = [len(i.split()) for i in df[df.label_REAL==1]['txt']]\n",
    "pd.Series(seq_len_fake).hist() #blue\n",
    "pd.Series(seq_len_real).hist() #real\n",
    "\n",
    "plt.legend(loc='upper right',bbox_to_anchor=(1.5,1))"
   ]
  },
  {
   "cell_type": "markdown",
   "metadata": {},
   "source": [
    "# Split train-test"
   ]
  },
  {
   "cell_type": "code",
   "execution_count": 6,
   "metadata": {},
   "outputs": [],
   "source": [
    "X = df.txt\n",
    "y = df.label_REAL"
   ]
  },
  {
   "cell_type": "code",
   "execution_count": 7,
   "metadata": {},
   "outputs": [],
   "source": [
    "from sklearn.model_selection import train_test_split\n",
    "X_train, X_test, y_train, y_test = train_test_split(X,y, test_size=0.3, random_state=0)"
   ]
  },
  {
   "cell_type": "markdown",
   "metadata": {},
   "source": [
    "# Preprocessing - 1st approach (tfidf)"
   ]
  },
  {
   "cell_type": "code",
   "execution_count": 12,
   "metadata": {},
   "outputs": [],
   "source": [
    "from sklearn.feature_extraction.text import TfidfVectorizer"
   ]
  },
  {
   "cell_type": "code",
   "execution_count": 2,
   "metadata": {},
   "outputs": [
    {
     "ename": "NameError",
     "evalue": "name 'X_train' is not defined",
     "output_type": "error",
     "traceback": [
      "\u001b[1;31m---------------------------------------------------------------------------\u001b[0m",
      "\u001b[1;31mNameError\u001b[0m                                 Traceback (most recent call last)",
      "\u001b[1;32m<ipython-input-2-56ae6f1f086b>\u001b[0m in \u001b[0;36m<module>\u001b[1;34m\u001b[0m\n\u001b[0;32m      4\u001b[0m \u001b[0mtfidf_vectorizer\u001b[0m \u001b[1;33m=\u001b[0m \u001b[0mTfidfVectorizer\u001b[0m\u001b[1;33m(\u001b[0m\u001b[0mstrip_accents\u001b[0m\u001b[1;33m=\u001b[0m\u001b[0mascii\u001b[0m\u001b[1;33m,\u001b[0m \u001b[0mstop_words\u001b[0m\u001b[1;33m=\u001b[0m\u001b[1;34m'english'\u001b[0m\u001b[1;33m,\u001b[0m \u001b[0mmax_df\u001b[0m\u001b[1;33m=\u001b[0m\u001b[1;36m0.7\u001b[0m\u001b[1;33m)\u001b[0m\u001b[1;33m\u001b[0m\u001b[1;33m\u001b[0m\u001b[0m\n\u001b[0;32m      5\u001b[0m \u001b[1;33m\u001b[0m\u001b[0m\n\u001b[1;32m----> 6\u001b[1;33m \u001b[0mX_tfidf_train\u001b[0m \u001b[1;33m=\u001b[0m \u001b[0mtfidf_vectorizer\u001b[0m\u001b[1;33m.\u001b[0m\u001b[0mfit_transform\u001b[0m\u001b[1;33m(\u001b[0m\u001b[0mX_train\u001b[0m\u001b[1;33m)\u001b[0m\u001b[1;33m\u001b[0m\u001b[1;33m\u001b[0m\u001b[0m\n\u001b[0m\u001b[0;32m      7\u001b[0m \u001b[0mX_tfidf_test\u001b[0m \u001b[1;33m=\u001b[0m \u001b[0mtfidf_vectorizer\u001b[0m\u001b[1;33m.\u001b[0m\u001b[0mtransform\u001b[0m\u001b[1;33m(\u001b[0m\u001b[0mX_test\u001b[0m\u001b[1;33m)\u001b[0m\u001b[1;33m\u001b[0m\u001b[1;33m\u001b[0m\u001b[0m\n",
      "\u001b[1;31mNameError\u001b[0m: name 'X_train' is not defined"
     ]
    }
   ],
   "source": [
    "### tf-idf\n",
    "tfidf_vectorizer = TfidfVectorizer(strip_accents=ascii, stop_words='english', max_df=0.7)\n",
    "\n",
    "X_tfidf_train = tfidf_vectorizer.fit_transform(X_train) \n",
    "X_tfidf_test = tfidf_vectorizer.transform(X_test)"
   ]
  },
  {
   "cell_type": "markdown",
   "metadata": {},
   "source": [
    "# Preprocessing - 2nd approach (tfidf n-grams=1,3)"
   ]
  },
  {
   "cell_type": "code",
   "execution_count": 8,
   "metadata": {},
   "outputs": [],
   "source": [
    "### tf-idf with n-grams\n",
    "tfidf_vectorizer2 = TfidfVectorizer(ngram_range=(1, 3),stop_words='english', max_df=0.7)\n",
    "\n",
    "X_tfidf_train2 = tfidf_vectorizer.fit_transform(X_train) \n",
    "X_tfidf_test2 = tfidf_vectorizer.transform(X_test)"
   ]
  },
  {
   "cell_type": "markdown",
   "metadata": {},
   "source": [
    "# Modelling"
   ]
  },
  {
   "cell_type": "markdown",
   "metadata": {},
   "source": [
    "## passiveAggressive "
   ]
  },
  {
   "cell_type": "code",
   "execution_count": 14,
   "metadata": {},
   "outputs": [],
   "source": [
    "from sklearn.linear_model import PassiveAggressiveClassifier"
   ]
  },
  {
   "cell_type": "markdown",
   "metadata": {},
   "source": [
    "### 1. tf-idf"
   ]
  },
  {
   "cell_type": "code",
   "execution_count": 19,
   "metadata": {},
   "outputs": [
    {
     "data": {
      "text/plain": [
       "array([[7823,  165],\n",
       "       [ 172, 7139]], dtype=int64)"
      ]
     },
     "metadata": {},
     "output_type": "display_data"
    },
    {
     "name": "stdout",
     "output_type": "stream",
     "text": [
      "Accuracy is 0.978\n",
      "Precision is 0.9774\n",
      "Recall is 0.9765\n",
      "F1 is 0.9769\n"
     ]
    }
   ],
   "source": [
    "clf = PassiveAggressiveClassifier(n_iter_no_change=100)\n",
    "clf.fit(X_tfidf_train, y_train)\n",
    "y_pred = clf.predict(X_tfidf_test)\n",
    "\n",
    "cm = confusion_matrix(y_test, y_pred)\n",
    "display(cm)\n",
    "print('Accuracy is', accuracy_score(y_test, y_pred).round(4))\n",
    "print('Precision is', precision_score(y_test, y_pred).round(4))\n",
    "print('Recall is', recall_score(y_test, y_pred).round(4))\n",
    "print('F1 is', f1_score(y_test, y_pred).round(4))"
   ]
  },
  {
   "cell_type": "code",
   "execution_count": 17,
   "metadata": {
    "scrolled": true
   },
   "outputs": [
    {
     "data": {
      "text/plain": [
       "<matplotlib.axes._subplots.AxesSubplot at 0x16e8301c5e0>"
      ]
     },
     "execution_count": 17,
     "metadata": {},
     "output_type": "execute_result"
    },
    {
     "data": {
      "image/png": "[encoded data removed]",
      "text/plain": [
       "<Figure size 432x288 with 2 Axes>"
      ]
     },
     "metadata": {},
     "output_type": "display_data"
    }
   ],
   "source": [
    "cm = confusion_matrix(y_test, y_pred)\n",
    "cm_matrix = pd.DataFrame(data=cm, columns=['Actual Pos', 'Actual Neg'], \n",
    "                                 index=['Predict Pos', 'Predict Neg'])\n",
    "\n",
    "sns.heatmap(cm_matrix, annot=True, fmt='d', cmap='YlGnBu')"
   ]
  },
  {
   "cell_type": "markdown",
   "metadata": {},
   "source": [
    "### 2. tf-idf n-grams "
   ]
  },
  {
   "cell_type": "code",
   "execution_count": 259,
   "metadata": {},
   "outputs": [
    {
     "data": {
      "text/plain": [
       "array([[7337,  651],\n",
       "       [ 792, 6519]], dtype=int64)"
      ]
     },
     "metadata": {},
     "output_type": "display_data"
    },
    {
     "name": "stdout",
     "output_type": "stream",
     "text": [
      "Accuracy is 0.9722\n",
      "Precision is 0.9755\n",
      "Recall is 0.9659\n",
      "F1 is 0.9707\n"
     ]
    }
   ],
   "source": [
    "clf = PassiveAggressiveClassifier(n_iter_no_change=50)\n",
    "clf.fit(X_tfidf_train2, y_train)\n",
    "y_pred2 = clf.predict(X_tfidf_test2)\n",
    "\n",
    "display(cm)\n",
    "print('Accuracy is', accuracy_score(y_test, y_pred).round(4))\n",
    "print('Precision is', precision_score(y_test, y_pred).round(4))\n",
    "print('Recall is', recall_score(y_test, y_pred).round(4))\n",
    "print('F1 is', f1_score(y_test, y_pred).round(4))"
   ]
  },
  {
   "cell_type": "markdown",
   "metadata": {},
   "source": [
    "## Decision tree"
   ]
  },
  {
   "cell_type": "code",
   "execution_count": 40,
   "metadata": {},
   "outputs": [],
   "source": [
    "from sklearn.tree import DecisionTreeClassifier"
   ]
  },
  {
   "cell_type": "markdown",
   "metadata": {},
   "source": [
    "### 1. tf-idf"
   ]
  },
  {
   "cell_type": "code",
   "execution_count": 260,
   "metadata": {},
   "outputs": [
    {
     "name": "stdout",
     "output_type": "stream",
     "text": [
      "Accuracy is 0.951\n",
      "Precision is 0.9573\n",
      "Recall is 0.9393\n",
      "F1 is 0.9482\n"
     ]
    }
   ],
   "source": [
    "dtc = DecisionTreeClassifier(criterion='entropy')\n",
    "dtc.fit(X_tfidf_train, y_train)\n",
    "y_pred=dtc.predict(X_tfidf_test)\n",
    "\n",
    "print('Accuracy is', accuracy_score(y_test, y_pred).round(4))\n",
    "print('Precision is', precision_score(y_test, y_pred).round(4))\n",
    "print('Recall is', recall_score(y_test, y_pred).round(4))\n",
    "print('F1 is', f1_score(y_test, y_pred).round(4))"
   ]
  },
  {
   "cell_type": "markdown",
   "metadata": {},
   "source": [
    "### 2. tf-idf n-grams"
   ]
  },
  {
   "cell_type": "code",
   "execution_count": 261,
   "metadata": {},
   "outputs": [
    {
     "name": "stdout",
     "output_type": "stream",
     "text": [
      "Accuracy is 0.951\n",
      "Precision is 0.9573\n",
      "Recall is 0.9393\n",
      "F1 is 0.9482\n"
     ]
    }
   ],
   "source": [
    "dtc.fit(X_tfidf_train2, y_train)\n",
    "y_pred2=dtc.predict(X_tfidf_test2)\n",
    "\n",
    "print('Accuracy is', accuracy_score(y_test, y_pred).round(4))\n",
    "print('Precision is', precision_score(y_test, y_pred).round(4))\n",
    "print('Recall is', recall_score(y_test, y_pred).round(4))\n",
    "print('F1 is', f1_score(y_test, y_pred).round(4))"
   ]
  },
  {
   "cell_type": "markdown",
   "metadata": {},
   "source": [
    "## Naive Bayes"
   ]
  },
  {
   "cell_type": "code",
   "execution_count": 47,
   "metadata": {},
   "outputs": [],
   "source": [
    "from sklearn.naive_bayes import MultinomialNB"
   ]
  },
  {
   "cell_type": "markdown",
   "metadata": {},
   "source": [
    "### 1. tf-idf"
   ]
  },
  {
   "cell_type": "code",
   "execution_count": 262,
   "metadata": {},
   "outputs": [
    {
     "name": "stdout",
     "output_type": "stream",
     "text": [
      "Accuracy is 0.9057\n",
      "Precision is 0.9092\n",
      "Recall is 0.8917\n",
      "F1 is 0.9004\n"
     ]
    }
   ],
   "source": [
    "classifier=MultinomialNB()\n",
    "classifier.fit(X_tfidf_train, y_train)\n",
    "y_pred = classifier.predict(X_tfidf_test)\n",
    "\n",
    "print('Accuracy is', accuracy_score(y_test, y_pred).round(4))\n",
    "print('Precision is', precision_score(y_test, y_pred).round(4))\n",
    "print('Recall is', recall_score(y_test, y_pred).round(4))\n",
    "print('F1 is', f1_score(y_test, y_pred).round(4))"
   ]
  },
  {
   "cell_type": "markdown",
   "metadata": {},
   "source": [
    "### 2. tf-idf n-grams"
   ]
  },
  {
   "cell_type": "code",
   "execution_count": 263,
   "metadata": {},
   "outputs": [
    {
     "name": "stdout",
     "output_type": "stream",
     "text": [
      "Accuracy is 0.9057\n",
      "Precision is 0.9092\n",
      "Recall is 0.8917\n",
      "F1 is 0.9004\n"
     ]
    }
   ],
   "source": [
    "classifier=MultinomialNB()\n",
    "classifier.fit(X_tfidf_train2, y_train)\n",
    "y_pred2 = classifier.predict(X_tfidf_test2)\n",
    "\n",
    "print('Accuracy is', accuracy_score(y_test, y_pred).round(4))\n",
    "print('Precision is', precision_score(y_test, y_pred).round(4))\n",
    "print('Recall is', recall_score(y_test, y_pred).round(4))\n",
    "print('F1 is', f1_score(y_test, y_pred).round(4))"
   ]
  },
  {
   "cell_type": "markdown",
   "metadata": {},
   "source": [
    "## random forest"
   ]
  },
  {
   "cell_type": "code",
   "execution_count": 19,
   "metadata": {},
   "outputs": [],
   "source": [
    "from sklearn.ensemble import RandomForestClassifier"
   ]
  },
  {
   "cell_type": "code",
   "execution_count": 20,
   "metadata": {},
   "outputs": [
    {
     "name": "stdout",
     "output_type": "stream",
     "text": [
      "Accuracy is 0.9645\n",
      "Precision is 0.9717\n",
      "Recall is 0.9535\n",
      "F1 is 0.9625\n"
     ]
    }
   ],
   "source": [
    "rf = RandomForestClassifier()\n",
    "rf.fit(X_tfidf_train,y_train)\n",
    "y_pred = rf.predict(X_tfidf_test)\n",
    "\n",
    "print('Accuracy is', accuracy_score(y_test, y_pred).round(4))\n",
    "print('Precision is', precision_score(y_test, y_pred).round(4))\n",
    "print('Recall is', recall_score(y_test, y_pred).round(4))\n",
    "print('F1 is', f1_score(y_test, y_pred).round(4))"
   ]
  },
  {
   "cell_type": "markdown",
   "metadata": {},
   "source": [
    "# SVM (too long)"
   ]
  },
  {
   "cell_type": "code",
   "execution_count": 21,
   "metadata": {},
   "outputs": [],
   "source": [
    "from sklearn.svm import SVC"
   ]
  },
  {
   "cell_type": "code",
   "execution_count": null,
   "metadata": {},
   "outputs": [],
   "source": [
    "SVM = SVC(kernel = 'linear')\n",
    "SVMClassifier = SVM.fit(X_tfidf_train, y_train)\n",
    "y_pred = SVMClassifier.predict(X_tfidf_test)\n",
    "\n",
    "print('Accuracy is', accuracy_score(y_test, y_pred).round(4))\n",
    "print('Precision is', precision_score(y_test, y_pred).round(4))\n",
    "print('Recall is', recall_score(y_test, y_pred).round(4))\n",
    "print('F1 is', f1_score(y_test, y_pred).round(4))"
   ]
  },
  {
   "cell_type": "markdown",
   "metadata": {},
   "source": [
    "# SGD Classifier"
   ]
  },
  {
   "cell_type": "code",
   "execution_count": 23,
   "metadata": {},
   "outputs": [],
   "source": [
    "from sklearn.linear_model import SGDClassifier"
   ]
  },
  {
   "cell_type": "code",
   "execution_count": 24,
   "metadata": {},
   "outputs": [],
   "source": [
    "SGD = SGDClassifier(loss = 'modified_huber')\n",
    "SGDC = SGD.fit(X_tfidf_train, y_train)\n",
    "y_pred = SGDC.predict(X_tfidf_test)"
   ]
  },
  {
   "cell_type": "code",
   "execution_count": 25,
   "metadata": {},
   "outputs": [
    {
     "name": "stdout",
     "output_type": "stream",
     "text": [
      "Accuracy is 0.9759\n",
      "Precision is 0.9763\n",
      "Recall is 0.9733\n",
      "F1 is 0.9748\n"
     ]
    }
   ],
   "source": [
    "print('Accuracy is', accuracy_score(y_test, y_pred).round(4))\n",
    "print('Precision is', precision_score(y_test, y_pred).round(4))\n",
    "print('Recall is', recall_score(y_test, y_pred).round(4))\n",
    "print('F1 is', f1_score(y_test, y_pred).round(4))"
   ]
  },
  {
   "cell_type": "markdown",
   "metadata": {},
   "source": [
    "## TFIDF and PassiveAggressive classifier features selection"
   ]
  },
  {
   "cell_type": "code",
   "execution_count": 22,
   "metadata": {},
   "outputs": [
    {
     "data": {
      "text/plain": [
       "array([[7830,  158],\n",
       "       [ 166, 7145]], dtype=int64)"
      ]
     },
     "metadata": {},
     "output_type": "display_data"
    },
    {
     "name": "stdout",
     "output_type": "stream",
     "text": [
      "Precision is 0.9784\n"
     ]
    }
   ],
   "source": [
    "tfidf_vectorizer = TfidfVectorizer(strip_accents=ascii, stop_words='english', max_df=0.7)\n",
    "X_tfidf_train = tfidf_vectorizer.fit_transform(X_train) \n",
    "X_tfidf_test = tfidf_vectorizer.transform(X_test)\n",
    "\n",
    "clf = PassiveAggressiveClassifier(n_iter_no_change=100)\n",
    "clf.fit(X_tfidf_train, y_train)\n",
    "y_pred = clf.predict(X_tfidf_test)\n",
    "\n",
    "display(confusion_matrix(y_test, y_pred))\n",
    "print('Precision is', precision_score(y_test, y_pred).round(4))"
   ]
  },
  {
   "cell_type": "code",
   "execution_count": 30,
   "metadata": {},
   "outputs": [
    {
     "data": {
      "text/plain": [
       "array([[7805,  183],\n",
       "       [ 228, 7083]], dtype=int64)"
      ]
     },
     "metadata": {},
     "output_type": "display_data"
    },
    {
     "name": "stdout",
     "output_type": "stream",
     "text": [
      "Precision is 0.9748\n"
     ]
    }
   ],
   "source": [
    "tfidf_vectorizer2 = TfidfVectorizer(stop_words='english')\n",
    "X_tfidf_train2 = tfidf_vectorizer2.fit_transform(X_train) \n",
    "X_tfidf_test2 = tfidf_vectorizer2.transform(X_test)\n",
    "\n",
    "clf.fit(X_tfidf_train2, y_train)\n",
    "y_pred2 = clf.predict(X_tfidf_test2)\n",
    "\n",
    "display(confusion_matrix(y_test, y_pred2))\n",
    "print('Precision is', precision_score(y_test, y_pred2).round(4))"
   ]
  },
  {
   "cell_type": "code",
   "execution_count": 31,
   "metadata": {},
   "outputs": [
    {
     "data": {
      "text/plain": [
       "array([[7831,  157],\n",
       "       [ 168, 7143]], dtype=int64)"
      ]
     },
     "metadata": {},
     "output_type": "display_data"
    },
    {
     "name": "stdout",
     "output_type": "stream",
     "text": [
      "Precision is 0.9785\n"
     ]
    }
   ],
   "source": [
    "tfidf_vectorizer3 = TfidfVectorizer(strip_accents=ascii, stop_words='english')\n",
    "X_tfidf_train3 = tfidf_vectorizer3.fit_transform(X_train) \n",
    "X_tfidf_test3 = tfidf_vectorizer3.transform(X_test)\n",
    "\n",
    "clf.fit(X_tfidf_train3, y_train)\n",
    "y_pred3 = clf.predict(X_tfidf_test3)\n",
    "\n",
    "display(confusion_matrix(y_test, y_pred3))\n",
    "print('Precision is', precision_score(y_test, y_pred3).round(4))"
   ]
  },
  {
   "cell_type": "code",
   "execution_count": 33,
   "metadata": {},
   "outputs": [
    {
     "data": {
      "text/plain": [
       "array([[7446,  542],\n",
       "       [ 390, 6921]], dtype=int64)"
      ]
     },
     "metadata": {},
     "output_type": "display_data"
    },
    {
     "name": "stdout",
     "output_type": "stream",
     "text": [
      "Precision is 0.9274\n"
     ]
    }
   ],
   "source": [
    "tfidf_vectorizer5 = TfidfVectorizer(strip_accents=ascii, stop_words='english', min_df=0.1, max_df=0.9)\n",
    "X_tfidf_train5 = tfidf_vectorizer5.fit_transform(X_train) \n",
    "X_tfidf_test5 = tfidf_vectorizer5.transform(X_test)\n",
    "\n",
    "clf.fit(X_tfidf_train5, y_train)\n",
    "y_pred5 = clf.predict(X_tfidf_test5)\n",
    "\n",
    "display(confusion_matrix(y_test, y_pred5))\n",
    "print('Precision is', precision_score(y_test, y_pred5).round(4))"
   ]
  },
  {
   "cell_type": "markdown",
   "metadata": {},
   "source": [
    "### Best prediction"
   ]
  },
  {
   "cell_type": "code",
   "execution_count": 59,
   "metadata": {},
   "outputs": [
    {
     "data": {
      "text/plain": [
       "array([[7835,  153],\n",
       "       [ 163, 7148]], dtype=int64)"
      ]
     },
     "metadata": {},
     "output_type": "display_data"
    },
    {
     "name": "stdout",
     "output_type": "stream",
     "text": [
      "Accuracy is 0.9793\n",
      "Precision is 0.979\n",
      "Recall is 0.9777\n",
      "F1 is 0.9784\n"
     ]
    }
   ],
   "source": [
    "clf = PassiveAggressiveClassifier(n_iter_no_change=100)\n",
    "tfidf_vectorizer4 = TfidfVectorizer(strip_accents=ascii, stop_words='english', max_df=0.9)\n",
    "X_tfidf_train4 = tfidf_vectorizer4.fit_transform(X_train) \n",
    "X_tfidf_test4 = tfidf_vectorizer4.transform(X_test)\n",
    "\n",
    "clf.fit(X_tfidf_train4, y_train)\n",
    "y_pred4 = clf.predict(X_tfidf_test4)\n",
    "\n",
    "display(confusion_matrix(y_test, y_pred4))\n",
    "print('Accuracy is', accuracy_score(y_test, y_pred4).round(4))\n",
    "print('Precision is', precision_score(y_test, y_pred4).round(4))\n",
    "print('Recall is', recall_score(y_test, y_pred4).round(4))\n",
    "print('F1 is', f1_score(y_test, y_pred4).round(4))"
   ]
  },
  {
   "cell_type": "code",
   "execution_count": 60,
   "metadata": {},
   "outputs": [
    {
     "data": {
      "text/plain": [
       "<matplotlib.axes._subplots.AxesSubplot at 0x293b82b3ee0>"
      ]
     },
     "execution_count": 60,
     "metadata": {},
     "output_type": "execute_result"
    },
    {
     "data": {
      "image/png": "[encoded data removed]",
      "text/plain": [
       "<Figure size 432x288 with 2 Axes>"
      ]
     },
     "metadata": {},
     "output_type": "display_data"
    }
   ],
   "source": [
    "cm = confusion_matrix(y_test, y_pred4)\n",
    "cm_matrix = pd.DataFrame(data=cm, columns=['Actual Pos', 'Actual Neg'], \n",
    "                                 index=['Predict Pos', 'Predict Neg'])\n",
    "\n",
    "sns.heatmap(cm_matrix, annot=True, fmt='d', cmap='YlGnBu')"
   ]
  },
  {
   "cell_type": "code",
   "execution_count": 55,
   "metadata": {
    "scrolled": false
   },
   "outputs": [
    {
     "data": {
      "text/plain": [
       "[('dallas', 30220),\n",
       " ('maidan', 66949),\n",
       " ('staged', 107263),\n",
       " ('snipers', 105469),\n",
       " ('designed', 32471),\n",
       " ('inflict', 54805),\n",
       " ('u2018strategy', 119086),\n",
       " ('tension', 111794),\n",
       " ('u2019', 119433),\n",
       " ('daily', 30160),\n",
       " ('shooter', 103505),\n",
       " ('21st', 3825),\n",
       " ('century', 23293),\n",
       " ('wirelast', 135302),\n",
       " ('night', 78116)]"
      ]
     },
     "execution_count": 55,
     "metadata": {},
     "output_type": "execute_result"
    }
   ],
   "source": [
    "tfidf_items = tfidf_vectorizer4.vocabulary_.items()\n",
    "list(tfidf_items)[:15]"
   ]
  },
  {
   "cell_type": "markdown",
   "metadata": {},
   "source": [
    "# Most important features for Real & Fake"
   ]
  },
  {
   "cell_type": "code",
   "execution_count": 17,
   "metadata": {},
   "outputs": [
    {
     "data": {
      "text/plain": [
       "(24365, 2)"
      ]
     },
     "execution_count": 17,
     "metadata": {},
     "output_type": "execute_result"
    }
   ],
   "source": [
    "df_real = df.loc[df.label_REAL==1]\n",
    "df_fake = df.loc[df.label_REAL==0]\n",
    "df_real.shape"
   ]
  },
  {
   "cell_type": "code",
   "execution_count": 130,
   "metadata": {},
   "outputs": [],
   "source": [
    "dic = tfidf_real.vocabulary_\n",
    "dic = sorted(dic.items(), key=lambda x:x[1], reverse=False)\n",
    "sortdict = dict(dic)\n",
    "print(sortdict)"
   ]
  },
  {
   "cell_type": "code",
   "execution_count": 32,
   "metadata": {},
   "outputs": [],
   "source": [
    "tfidf_fake = TfidfVectorizer(strip_accents=ascii, stop_words='english', max_df=0.7)\n",
    "X_tfidf_fake_train = tfidf_fake.fit_transform(X_train) \n",
    "X_tfidf_fake_test = tfidf_fake.transform(X_test)"
   ]
  },
  {
   "cell_type": "code",
   "execution_count": 18,
   "metadata": {},
   "outputs": [
    {
     "name": "stdout",
     "output_type": "stream",
     "text": [
      "0 -8.895581977168096 featured\n",
      "0 -8.717739454343928 image\n",
      "0 -8.199266503844072 breaking\n",
      "0 -7.308251126771576 video\n",
      "0 -7.15256096100099 read\n",
      "0 -7.147876847292254 nwearing\n",
      "0 -5.980972318304913 getty\n",
      "0 -5.672918636637412 watch\n",
      "0 -5.447582316840695 nothers\n",
      "0 -5.442220967940975 hillary\n"
     ]
    }
   ],
   "source": [
    "#top 30 fake news\n",
    "topn_class1=sorted(zip(clf.coef_[0], tfidf_vectorizer4.get_feature_names()))[:10]\n",
    "for coef, feat in topn_class1:\n",
    "        print(clf.classes_[0], coef, feat)"
   ]
  },
  {
   "cell_type": "code",
   "execution_count": 19,
   "metadata": {},
   "outputs": [
    {
     "name": "stdout",
     "output_type": "stream",
     "text": [
      "1 3.7578891603894453 washington\n",
      "1 3.774398666439714 monday\n",
      "1 3.9933094348773013 tuesday\n",
      "1 4.108487656881986 factbox\n",
      "1 4.49734690478202 thursday\n",
      "1 4.59561244310981 xa0the\n",
      "1 7.052631691355194 nbut\n",
      "1 7.349453408585424 xa0\n",
      "1 7.38968890740779 said\n",
      "1 25.44645006035117 reuters\n"
     ]
    }
   ],
   "source": [
    "#top 30 real news\n",
    "topn_class2=sorted(zip(clf.coef_[0], tfidf_vectorizer4.get_feature_names()))[-10:]\n",
    "for coef, feat in topn_class2:\n",
    "        print(clf.classes_[1], coef, feat)"
   ]
  },
  {
   "cell_type": "code",
   "execution_count": 146,
   "metadata": {
    "scrolled": true
   },
   "outputs": [
    {
     "name": "stdout",
     "output_type": "stream",
     "text": [
      "0 -8.758666841968838 featured\n",
      "0 -8.582790942878637 image\n",
      "0 -8.23763629974966 breaking\n",
      "0 -7.209746417521291 video\n",
      "0 -7.1929940812639 read\n",
      "0 -7.081565221704481 nwearing\n",
      "0 -5.956205996383033 getty\n",
      "0 -5.745642103493524 watch\n",
      "0 -5.449278070570245 hillary\n",
      "0 -5.377934252232653 ipsos\n",
      "0 -5.30180119751959 nothers\n",
      "0 -4.870707139664385 u201c\n",
      "0 -4.6725622894696 com\n",
      "0 -4.643606017056696 neven\n",
      "0 -4.471121128948189 october\n",
      "0 -4.284619452185391 just\n",
      "0 -4.253637420942676 breitbart\n",
      "0 -4.160897057460708 pic\n",
      "0 -4.11141018392776 u2026\n",
      "0 -4.036556884570469 entire\n",
      "0 -4.003923143602376 flickr\n",
      "0 -3.8882005088203417 photo\n",
      "0 -3.851508061597044 mr\n",
      "0 -3.839295794195911 wfb\n",
      "0 -3.802374496667736 2016\n",
      "0 -3.7472316154173453 nation\n",
      "0 -3.731594936349467 https\n",
      "0 -3.707608382136202 statesofthenation\n",
      "0 -3.5979787987244403 ap\n",
      "0 -3.5927061530925117 images\n",
      "\n",
      "1 25.507878117854734 reuters\n",
      "1 7.408257834416797 said\n",
      "1 7.152852727363315 xa0\n",
      "1 6.879067088642821 nbut\n",
      "1 4.777451158816453 thursday\n",
      "1 4.498842022114984 xa0the\n",
      "1 4.320603222169065 factbox\n",
      "1 4.0698036605270556 tuesday\n",
      "1 3.876693725188236 monday\n",
      "1 3.840119954733524 washington\n",
      "1 3.6507768931205358 nthat\n",
      "1 3.6496935017253467 friday\n",
      "1 3.4682988335248197 wednesday\n",
      "1 3.440592604217255 saying\n",
      "1 3.2692874636708056 u2019s\n",
      "1 3.2172804873654264 nov\n",
      "1 3.2131147427562654 et\n",
      "1 3.0607597974321132 long\n",
      "1 3.0331832940549464 u2014\n",
      "1 2.9040344297921603 nwhat\n",
      "1 2.8801321922563665 bucket\n",
      "1 2.879906612789722 xa0and\n",
      "1 2.818100314400022 showed\n",
      "1 2.766044968770933 rezaian\n",
      "1 2.6616918294248917 nobama\n",
      "1 2.651192606293408 suspected\n",
      "1 2.618524311383193 u201ci\n",
      "1 2.594296100278133 contributed\n",
      "1 2.579674682228441 xa0a\n",
      "1 2.5370265598342936 sept\n"
     ]
    }
   ],
   "source": [
    "#top n vectors for fake and real news\n",
    "def most_informative_feature_for_binary_classification(vectorizer, classifier, n=100):\n",
    "    \"\"\"\n",
    "    See: https://stackoverflow.com/a/26980472\n",
    "    Identify most important features if given a vectorizer and binary classifier. Set n to the number\n",
    "    of weighted features you would like to show. (Note: current implementation merely prints and does not \n",
    "    return top classes.)\n",
    "    \"\"\"\n",
    "    class_labels = classifier.classes_\n",
    "    feature_names = vectorizer.get_feature_names()\n",
    "    topn_class1 = sorted(zip(classifier.coef_[0], feature_names))[:n]\n",
    "    topn_class2 = sorted(zip(classifier.coef_[0], feature_names))[-n:]\n",
    "\n",
    "    for coef, feat in topn_class1:\n",
    "        print(class_labels[0], coef, feat)\n",
    "\n",
    "    print()\n",
    "\n",
    "    for coef, feat in reversed(topn_class2):\n",
    "        print(class_labels[1], coef, feat)\n",
    "        \n",
    "most_informative_feature_for_binary_classification(tfidf_vectorizer4, clf, n=30)"
   ]
  },
  {
   "cell_type": "markdown",
   "metadata": {},
   "source": [
    "# Predictions on scraped data"
   ]
  },
  {
   "cell_type": "code",
   "execution_count": 20,
   "metadata": {},
   "outputs": [],
   "source": [
    "df_infowars = pd.read_csv(r'C:\\Users\\lilie\\GitHubProjects\\IronEstelle\\Fake_News\\data\\df_infowars.csv')\n",
    "df_reuters = pd.read_csv(r'C:\\Users\\lilie\\GitHubProjects\\IronEstelle\\Fake_News\\data\\df_reuters.csv')"
   ]
  },
  {
   "cell_type": "code",
   "execution_count": 21,
   "metadata": {},
   "outputs": [
    {
     "name": "stdout",
     "output_type": "stream",
     "text": [
      "(113, 2)\n",
      "(102, 2)\n"
     ]
    }
   ],
   "source": [
    "print(df_infowars.shape)\n",
    "print(df_reuters.shape)"
   ]
  },
  {
   "cell_type": "code",
   "execution_count": 22,
   "metadata": {
    "scrolled": true
   },
   "outputs": [
    {
     "data": {
      "text/html": [
       "<div>\n",
       "<style scoped>\n",
       "    .dataframe tbody tr th:only-of-type {\n",
       "        vertical-align: middle;\n",
       "    }\n",
       "\n",
       "    .dataframe tbody tr th {\n",
       "        vertical-align: top;\n",
       "    }\n",
       "\n",
       "    .dataframe thead th {\n",
       "        text-align: right;\n",
       "    }\n",
       "</style>\n",
       "<table border=\"1\" class=\"dataframe\">\n",
       "  <thead>\n",
       "    <tr style=\"text-align: right;\">\n",
       "      <th></th>\n",
       "      <th>txt</th>\n",
       "    </tr>\n",
       "  </thead>\n",
       "  <tbody>\n",
       "    <tr>\n",
       "      <th>0</th>\n",
       "      <td>Watch Live: New Fauci Emails Contain Damning D...</td>\n",
       "    </tr>\n",
       "    <tr>\n",
       "      <th>1</th>\n",
       "      <td>Scientist At Center Of Lab Leak Controversy Pu...</td>\n",
       "    </tr>\n",
       "    <tr>\n",
       "      <th>2</th>\n",
       "      <td>Poll: Majority Of Americans Believe COVID Came...</td>\n",
       "    </tr>\n",
       "    <tr>\n",
       "      <th>3</th>\n",
       "      <td>German Study Finds Lockdown ‘Had No Effect’ on...</td>\n",
       "    </tr>\n",
       "    <tr>\n",
       "      <th>4</th>\n",
       "      <td>50-Year-Old Mother Charged With ‘Transphobic H...</td>\n",
       "    </tr>\n",
       "  </tbody>\n",
       "</table>\n",
       "</div>"
      ],
      "text/plain": [
       "                                                 txt\n",
       "0  Watch Live: New Fauci Emails Contain Damning D...\n",
       "1  Scientist At Center Of Lab Leak Controversy Pu...\n",
       "2  Poll: Majority Of Americans Believe COVID Came...\n",
       "3  German Study Finds Lockdown ‘Had No Effect’ on...\n",
       "4  50-Year-Old Mother Charged With ‘Transphobic H..."
      ]
     },
     "execution_count": 22,
     "metadata": {},
     "output_type": "execute_result"
    }
   ],
   "source": [
    "df_infowars['txt'] = df_infowars['title'] + \" \" + df_infowars['text']\n",
    "df_infowars = df_infowars.drop(columns = ['title', 'text'])\n",
    "df_infowars = df_infowars.loc[~df_infowars['txt'].isna()]\n",
    "df_infowars.head()"
   ]
  },
  {
   "cell_type": "code",
   "execution_count": 23,
   "metadata": {
    "scrolled": true
   },
   "outputs": [
    {
     "data": {
      "text/html": [
       "<div>\n",
       "<style scoped>\n",
       "    .dataframe tbody tr th:only-of-type {\n",
       "        vertical-align: middle;\n",
       "    }\n",
       "\n",
       "    .dataframe tbody tr th {\n",
       "        vertical-align: top;\n",
       "    }\n",
       "\n",
       "    .dataframe thead th {\n",
       "        text-align: right;\n",
       "    }\n",
       "</style>\n",
       "<table border=\"1\" class=\"dataframe\">\n",
       "  <thead>\n",
       "    <tr style=\"text-align: right;\">\n",
       "      <th></th>\n",
       "      <th>txt</th>\n",
       "    </tr>\n",
       "  </thead>\n",
       "  <tbody>\n",
       "    <tr>\n",
       "      <th>0</th>\n",
       "      <td>Mexican rulers' lower house majority to shrink...</td>\n",
       "    </tr>\n",
       "    <tr>\n",
       "      <th>1</th>\n",
       "      <td>China administered total of 777.88 mln doses o...</td>\n",
       "    </tr>\n",
       "    <tr>\n",
       "      <th>2</th>\n",
       "      <td>Thailand starts long awaited COVID-19 vaccinat...</td>\n",
       "    </tr>\n",
       "    <tr>\n",
       "      <th>3</th>\n",
       "      <td>Afghan schoolgirl determined to return to scho...</td>\n",
       "    </tr>\n",
       "    <tr>\n",
       "      <th>4</th>\n",
       "      <td>Swiss to vote on whether to become first Europ...</td>\n",
       "    </tr>\n",
       "  </tbody>\n",
       "</table>\n",
       "</div>"
      ],
      "text/plain": [
       "                                                 txt\n",
       "0  Mexican rulers' lower house majority to shrink...\n",
       "1  China administered total of 777.88 mln doses o...\n",
       "2  Thailand starts long awaited COVID-19 vaccinat...\n",
       "3  Afghan schoolgirl determined to return to scho...\n",
       "4  Swiss to vote on whether to become first Europ..."
      ]
     },
     "execution_count": 23,
     "metadata": {},
     "output_type": "execute_result"
    }
   ],
   "source": [
    "df_reuters['txt'] = df_reuters['title'] + \" \" + df_reuters['text']\n",
    "df_reuters = df_reuters.drop(columns = ['title', 'text'])\n",
    "df_reuters = df_reuters.loc[~df_reuters['txt'].isna()]\n",
    "df_reuters.head()"
   ]
  },
  {
   "cell_type": "code",
   "execution_count": null,
   "metadata": {},
   "outputs": [],
   "source": [
    "del df_infowars['Unnamed: 0']"
   ]
  },
  {
   "cell_type": "code",
   "execution_count": 24,
   "metadata": {},
   "outputs": [],
   "source": [
    "df_reuters['label_REAL']=1\n",
    "df_infowars['label_REAL']=0"
   ]
  },
  {
   "cell_type": "code",
   "execution_count": 25,
   "metadata": {},
   "outputs": [
    {
     "data": {
      "text/html": [
       "<div>\n",
       "<style scoped>\n",
       "    .dataframe tbody tr th:only-of-type {\n",
       "        vertical-align: middle;\n",
       "    }\n",
       "\n",
       "    .dataframe tbody tr th {\n",
       "        vertical-align: top;\n",
       "    }\n",
       "\n",
       "    .dataframe thead th {\n",
       "        text-align: right;\n",
       "    }\n",
       "</style>\n",
       "<table border=\"1\" class=\"dataframe\">\n",
       "  <thead>\n",
       "    <tr style=\"text-align: right;\">\n",
       "      <th></th>\n",
       "      <th>txt</th>\n",
       "      <th>label_REAL</th>\n",
       "    </tr>\n",
       "  </thead>\n",
       "  <tbody>\n",
       "    <tr>\n",
       "      <th>0</th>\n",
       "      <td>Top Japanese virologist warns of risks of Toky...</td>\n",
       "      <td>1</td>\n",
       "    </tr>\n",
       "    <tr>\n",
       "      <th>1</th>\n",
       "      <td>Muslim Neighborhoods in British Towns are ‘No-...</td>\n",
       "      <td>0</td>\n",
       "    </tr>\n",
       "    <tr>\n",
       "      <th>2</th>\n",
       "      <td>Milan in the ‘Throes of Total Decay’ as Migran...</td>\n",
       "      <td>0</td>\n",
       "    </tr>\n",
       "    <tr>\n",
       "      <th>3</th>\n",
       "      <td>Resigned to a nuclear deal revival, Gulf engag...</td>\n",
       "      <td>1</td>\n",
       "    </tr>\n",
       "    <tr>\n",
       "      <th>4</th>\n",
       "      <td>Wife of 'El Chapo' to plead guilty to helping ...</td>\n",
       "      <td>1</td>\n",
       "    </tr>\n",
       "  </tbody>\n",
       "</table>\n",
       "</div>"
      ],
      "text/plain": [
       "                                                 txt  label_REAL\n",
       "0  Top Japanese virologist warns of risks of Toky...           1\n",
       "1  Muslim Neighborhoods in British Towns are ‘No-...           0\n",
       "2  Milan in the ‘Throes of Total Decay’ as Migran...           0\n",
       "3  Resigned to a nuclear deal revival, Gulf engag...           1\n",
       "4  Wife of 'El Chapo' to plead guilty to helping ...           1"
      ]
     },
     "execution_count": 25,
     "metadata": {},
     "output_type": "execute_result"
    }
   ],
   "source": [
    "from sklearn.utils import shuffle\n",
    "df_scraped =  pd.concat([df_reuters, df_infowars], axis = 0)\n",
    "\n",
    "df_scraped = shuffle(df_scraped).reset_index(drop=True)\n",
    "df_scraped.head()"
   ]
  },
  {
   "cell_type": "markdown",
   "metadata": {},
   "source": [
    "## pred"
   ]
  },
  {
   "cell_type": "code",
   "execution_count": 26,
   "metadata": {},
   "outputs": [],
   "source": [
    "X_test_scraped = df_scraped.txt\n",
    "y_test_scraped = df_scraped.label_REAL"
   ]
  },
  {
   "cell_type": "code",
   "execution_count": 185,
   "metadata": {},
   "outputs": [
    {
     "data": {
      "text/plain": [
       "0      AMC stock soars over 20% as Reddit-fueled rall...\n",
       "1      Sheriff Leaves Democrat Party Over ‘Relentless...\n",
       "2      Watch Live: Nobel Prize Winner Warns Covid Inj...\n",
       "3      China says U.S. senators visiting Taiwan on mi...\n",
       "4      Thrilled to have you: UAE welcomes American Je...\n",
       "                             ...                        \n",
       "209    Stanford Epidemiologist: Fauci’s ‘Credibility ...\n",
       "210    Three killed in Russian COVID-19 ward blaze, o...\n",
       "211    ‘Neither legal nor constitutional’: Virginia t...\n",
       "212    U.S. reunites only seven immigrant children wi...\n",
       "213    Officials Resign After Censoring Vet’s Memoria...\n",
       "Name: txt, Length: 214, dtype: object"
      ]
     },
     "execution_count": 185,
     "metadata": {},
     "output_type": "execute_result"
    }
   ],
   "source": [
    "X_test_scraped"
   ]
  },
  {
   "cell_type": "code",
   "execution_count": 27,
   "metadata": {},
   "outputs": [
    {
     "data": {
      "text/plain": [
       "array([[74, 38],\n",
       "       [ 6, 96]], dtype=int64)"
      ]
     },
     "metadata": {},
     "output_type": "display_data"
    },
    {
     "name": "stdout",
     "output_type": "stream",
     "text": [
      "Accuracy is 0.7944\n",
      "Precision is 0.7164\n",
      "Recall is 0.9412\n",
      "F1 is 0.8136\n"
     ]
    }
   ],
   "source": [
    "#pour rappel\n",
    "#tfidf_vectorizer4 = TfidfVectorizer(strip_accents=ascii, stop_words='english', max_df=0.9)\n",
    "#X_tfidf_train4 = tfidf_vectorizer4.fit_transform(X_train) \n",
    "\n",
    "X_test_scraped_tfidf = tfidf_vectorizer4.transform(X_test_scraped)\n",
    "#clf.fit(X_tfidf_train4, y_train)\n",
    "\n",
    "y_pred_scraped = clf.predict(X_test_scraped_tfidf)\n",
    "\n",
    "display(confusion_matrix(y_test_scraped, y_pred_scraped))\n",
    "print('Accuracy is', accuracy_score(y_test_scraped, y_pred_scraped).round(4))\n",
    "print('Precision is', precision_score(y_test_scraped, y_pred_scraped).round(4))\n",
    "print('Recall is', recall_score(y_test_scraped, y_pred_scraped).round(4))\n",
    "print('F1 is', f1_score(y_test_scraped, y_pred_scraped).round(4))"
   ]
  },
  {
   "cell_type": "code",
   "execution_count": 28,
   "metadata": {
    "scrolled": true
   },
   "outputs": [
    {
     "data": {
      "text/plain": [
       "<matplotlib.axes._subplots.AxesSubplot at 0x293855690d0>"
      ]
     },
     "execution_count": 28,
     "metadata": {},
     "output_type": "execute_result"
    },
    {
     "data": {
      "image/png": "[encoded data removed]",
      "text/plain": [
       "<Figure size 432x288 with 2 Axes>"
      ]
     },
     "metadata": {},
     "output_type": "display_data"
    }
   ],
   "source": [
    "cm = confusion_matrix(y_test_scraped, y_pred_scraped)\n",
    "cm_matrix = pd.DataFrame(data=cm, columns=['Actual Pos', 'Actual Neg'], \n",
    "                                 index=['Predict Pos', 'Predict Neg'])\n",
    "\n",
    "sns.heatmap(cm_matrix, annot=True, fmt='d', cmap='YlGnBu')"
   ]
  },
  {
   "cell_type": "code",
   "execution_count": 29,
   "metadata": {},
   "outputs": [],
   "source": [
    "df_X_test_scraped = pd.DataFrame(X_test_scraped)\n",
    "df_y_test_scraped = pd.DataFrame(y_test_scraped)\n",
    "df_y_pred_scraped = pd.DataFrame(y_pred_scraped)"
   ]
  },
  {
   "cell_type": "code",
   "execution_count": 30,
   "metadata": {},
   "outputs": [],
   "source": [
    "df_X_test_scraped['label'] = df_y_test_scraped\n",
    "df_X_test_scraped['predictions']= df_y_pred_scraped"
   ]
  },
  {
   "cell_type": "code",
   "execution_count": 31,
   "metadata": {},
   "outputs": [
    {
     "data": {
      "text/html": [
       "<div>\n",
       "<style scoped>\n",
       "    .dataframe tbody tr th:only-of-type {\n",
       "        vertical-align: middle;\n",
       "    }\n",
       "\n",
       "    .dataframe tbody tr th {\n",
       "        vertical-align: top;\n",
       "    }\n",
       "\n",
       "    .dataframe thead th {\n",
       "        text-align: right;\n",
       "    }\n",
       "</style>\n",
       "<table border=\"1\" class=\"dataframe\">\n",
       "  <thead>\n",
       "    <tr style=\"text-align: right;\">\n",
       "      <th></th>\n",
       "      <th>txt</th>\n",
       "      <th>label</th>\n",
       "      <th>predictions</th>\n",
       "    </tr>\n",
       "  </thead>\n",
       "  <tbody>\n",
       "    <tr>\n",
       "      <th>0</th>\n",
       "      <td>Top Japanese virologist warns of risks of Toky...</td>\n",
       "      <td>1</td>\n",
       "      <td>1</td>\n",
       "    </tr>\n",
       "    <tr>\n",
       "      <th>1</th>\n",
       "      <td>Muslim Neighborhoods in British Towns are ‘No-...</td>\n",
       "      <td>0</td>\n",
       "      <td>0</td>\n",
       "    </tr>\n",
       "    <tr>\n",
       "      <th>2</th>\n",
       "      <td>Milan in the ‘Throes of Total Decay’ as Migran...</td>\n",
       "      <td>0</td>\n",
       "      <td>0</td>\n",
       "    </tr>\n",
       "    <tr>\n",
       "      <th>3</th>\n",
       "      <td>Resigned to a nuclear deal revival, Gulf engag...</td>\n",
       "      <td>1</td>\n",
       "      <td>1</td>\n",
       "    </tr>\n",
       "    <tr>\n",
       "      <th>4</th>\n",
       "      <td>Wife of 'El Chapo' to plead guilty to helping ...</td>\n",
       "      <td>1</td>\n",
       "      <td>1</td>\n",
       "    </tr>\n",
       "    <tr>\n",
       "      <th>...</th>\n",
       "      <td>...</td>\n",
       "      <td>...</td>\n",
       "      <td>...</td>\n",
       "    </tr>\n",
       "    <tr>\n",
       "      <th>209</th>\n",
       "      <td>Migrants Crossing English Channel in Designer ...</td>\n",
       "      <td>0</td>\n",
       "      <td>0</td>\n",
       "    </tr>\n",
       "    <tr>\n",
       "      <th>210</th>\n",
       "      <td>Thousands of nurses go on strike in New Zealan...</td>\n",
       "      <td>1</td>\n",
       "      <td>0</td>\n",
       "    </tr>\n",
       "    <tr>\n",
       "      <th>211</th>\n",
       "      <td>England’s Lockdown Could Continue Despite Deat...</td>\n",
       "      <td>0</td>\n",
       "      <td>1</td>\n",
       "    </tr>\n",
       "    <tr>\n",
       "      <th>212</th>\n",
       "      <td>German Study Finds Lockdown ‘Had No Effect’ on...</td>\n",
       "      <td>0</td>\n",
       "      <td>1</td>\n",
       "    </tr>\n",
       "    <tr>\n",
       "      <th>213</th>\n",
       "      <td>Women falling behind in India’s COVID-19 vacci...</td>\n",
       "      <td>1</td>\n",
       "      <td>1</td>\n",
       "    </tr>\n",
       "  </tbody>\n",
       "</table>\n",
       "<p>214 rows × 3 columns</p>\n",
       "</div>"
      ],
      "text/plain": [
       "                                                   txt  label  predictions\n",
       "0    Top Japanese virologist warns of risks of Toky...      1            1\n",
       "1    Muslim Neighborhoods in British Towns are ‘No-...      0            0\n",
       "2    Milan in the ‘Throes of Total Decay’ as Migran...      0            0\n",
       "3    Resigned to a nuclear deal revival, Gulf engag...      1            1\n",
       "4    Wife of 'El Chapo' to plead guilty to helping ...      1            1\n",
       "..                                                 ...    ...          ...\n",
       "209  Migrants Crossing English Channel in Designer ...      0            0\n",
       "210  Thousands of nurses go on strike in New Zealan...      1            0\n",
       "211  England’s Lockdown Could Continue Despite Deat...      0            1\n",
       "212  German Study Finds Lockdown ‘Had No Effect’ on...      0            1\n",
       "213  Women falling behind in India’s COVID-19 vacci...      1            1\n",
       "\n",
       "[214 rows x 3 columns]"
      ]
     },
     "execution_count": 31,
     "metadata": {},
     "output_type": "execute_result"
    }
   ],
   "source": [
    "df_X_test_scraped"
   ]
  },
  {
   "cell_type": "code",
   "execution_count": 32,
   "metadata": {},
   "outputs": [],
   "source": [
    "df_X_test_scraped.to_csv(r'C:\\Users\\lilie\\GitHubProjects\\IronEstelle\\Fake_News\\data\\pred.csv', index = False)"
   ]
  },
  {
   "cell_type": "code",
   "execution_count": 33,
   "metadata": {},
   "outputs": [
    {
     "data": {
      "text/html": [
       "<div>\n",
       "<style scoped>\n",
       "    .dataframe tbody tr th:only-of-type {\n",
       "        vertical-align: middle;\n",
       "    }\n",
       "\n",
       "    .dataframe tbody tr th {\n",
       "        vertical-align: top;\n",
       "    }\n",
       "\n",
       "    .dataframe thead th {\n",
       "        text-align: right;\n",
       "    }\n",
       "</style>\n",
       "<table border=\"1\" class=\"dataframe\">\n",
       "  <thead>\n",
       "    <tr style=\"text-align: right;\">\n",
       "      <th></th>\n",
       "      <th>txt</th>\n",
       "      <th>label</th>\n",
       "      <th>predictions</th>\n",
       "    </tr>\n",
       "  </thead>\n",
       "  <tbody>\n",
       "    <tr>\n",
       "      <th>79</th>\n",
       "      <td>Head of Austrian state holdings group, stung b...</td>\n",
       "      <td>1</td>\n",
       "      <td>0</td>\n",
       "    </tr>\n",
       "    <tr>\n",
       "      <th>98</th>\n",
       "      <td>In vigil remembering Canadian Muslim family, a...</td>\n",
       "      <td>1</td>\n",
       "      <td>0</td>\n",
       "    </tr>\n",
       "    <tr>\n",
       "      <th>122</th>\n",
       "      <td>Israel says Gaza tower that housed AP doubled ...</td>\n",
       "      <td>1</td>\n",
       "      <td>0</td>\n",
       "    </tr>\n",
       "    <tr>\n",
       "      <th>150</th>\n",
       "      <td>Fujimori in lead in first official Peruvian pr...</td>\n",
       "      <td>1</td>\n",
       "      <td>0</td>\n",
       "    </tr>\n",
       "    <tr>\n",
       "      <th>183</th>\n",
       "      <td>French lecturer reaches for stars with astrona...</td>\n",
       "      <td>1</td>\n",
       "      <td>0</td>\n",
       "    </tr>\n",
       "    <tr>\n",
       "      <th>210</th>\n",
       "      <td>Thousands of nurses go on strike in New Zealan...</td>\n",
       "      <td>1</td>\n",
       "      <td>0</td>\n",
       "    </tr>\n",
       "  </tbody>\n",
       "</table>\n",
       "</div>"
      ],
      "text/plain": [
       "                                                   txt  label  predictions\n",
       "79   Head of Austrian state holdings group, stung b...      1            0\n",
       "98   In vigil remembering Canadian Muslim family, a...      1            0\n",
       "122  Israel says Gaza tower that housed AP doubled ...      1            0\n",
       "150  Fujimori in lead in first official Peruvian pr...      1            0\n",
       "183  French lecturer reaches for stars with astrona...      1            0\n",
       "210  Thousands of nurses go on strike in New Zealan...      1            0"
      ]
     },
     "execution_count": 33,
     "metadata": {},
     "output_type": "execute_result"
    }
   ],
   "source": [
    "real = df_X_test_scraped.loc[df_X_test_scraped.label==1]\n",
    "FPreal = real.loc[real.predictions==0]\n",
    "FPreal"
   ]
  },
  {
   "cell_type": "code",
   "execution_count": 34,
   "metadata": {},
   "outputs": [
    {
     "data": {
      "text/html": [
       "<div>\n",
       "<style scoped>\n",
       "    .dataframe tbody tr th:only-of-type {\n",
       "        vertical-align: middle;\n",
       "    }\n",
       "\n",
       "    .dataframe tbody tr th {\n",
       "        vertical-align: top;\n",
       "    }\n",
       "\n",
       "    .dataframe thead th {\n",
       "        text-align: right;\n",
       "    }\n",
       "</style>\n",
       "<table border=\"1\" class=\"dataframe\">\n",
       "  <thead>\n",
       "    <tr style=\"text-align: right;\">\n",
       "      <th></th>\n",
       "      <th>txt</th>\n",
       "      <th>label</th>\n",
       "      <th>predictions</th>\n",
       "    </tr>\n",
       "  </thead>\n",
       "  <tbody>\n",
       "    <tr>\n",
       "      <th>6</th>\n",
       "      <td>England Cricketer Gets International Ban For E...</td>\n",
       "      <td>0</td>\n",
       "      <td>1</td>\n",
       "    </tr>\n",
       "    <tr>\n",
       "      <th>21</th>\n",
       "      <td>Video: A Vindicated Rand Paul Decimates Fauci ...</td>\n",
       "      <td>0</td>\n",
       "      <td>1</td>\n",
       "    </tr>\n",
       "    <tr>\n",
       "      <th>29</th>\n",
       "      <td>Malaysian Police Use Heat Drones to Check Temp...</td>\n",
       "      <td>0</td>\n",
       "      <td>1</td>\n",
       "    </tr>\n",
       "    <tr>\n",
       "      <th>33</th>\n",
       "      <td>‘OK Boomer’ Bernie E-Girl Brags About $2 Milli...</td>\n",
       "      <td>0</td>\n",
       "      <td>1</td>\n",
       "    </tr>\n",
       "    <tr>\n",
       "      <th>38</th>\n",
       "      <td>NASA’s Juno to Get a Close Look at Jupiter’s M...</td>\n",
       "      <td>0</td>\n",
       "      <td>1</td>\n",
       "    </tr>\n",
       "    <tr>\n",
       "      <th>47</th>\n",
       "      <td>G7 Finance Ministers Reach ‘Historic Agreement...</td>\n",
       "      <td>0</td>\n",
       "      <td>1</td>\n",
       "    </tr>\n",
       "    <tr>\n",
       "      <th>49</th>\n",
       "      <td>50-Year-Old Mother Charged With ‘Transphobic H...</td>\n",
       "      <td>0</td>\n",
       "      <td>1</td>\n",
       "    </tr>\n",
       "    <tr>\n",
       "      <th>50</th>\n",
       "      <td>World Economic Forum Pushes MIT Program that A...</td>\n",
       "      <td>0</td>\n",
       "      <td>1</td>\n",
       "    </tr>\n",
       "    <tr>\n",
       "      <th>51</th>\n",
       "      <td>Video: Rand Paul Says He’s Getting Daily DEATH...</td>\n",
       "      <td>0</td>\n",
       "      <td>1</td>\n",
       "    </tr>\n",
       "    <tr>\n",
       "      <th>53</th>\n",
       "      <td>Joe Biden Neglects D-Day; Tweets About Tulsa R...</td>\n",
       "      <td>0</td>\n",
       "      <td>1</td>\n",
       "    </tr>\n",
       "    <tr>\n",
       "      <th>54</th>\n",
       "      <td>Northeast Power Prices Surge as Heat Wave Forc...</td>\n",
       "      <td>0</td>\n",
       "      <td>1</td>\n",
       "    </tr>\n",
       "    <tr>\n",
       "      <th>61</th>\n",
       "      <td>Yet Another Scientific Study Concludes COVID I...</td>\n",
       "      <td>0</td>\n",
       "      <td>1</td>\n",
       "    </tr>\n",
       "    <tr>\n",
       "      <th>62</th>\n",
       "      <td>Jack Dorsey Confronted By Laura Loomer Conserv...</td>\n",
       "      <td>0</td>\n",
       "      <td>1</td>\n",
       "    </tr>\n",
       "    <tr>\n",
       "      <th>67</th>\n",
       "      <td>Cricketing Authorities Considering Exposing An...</td>\n",
       "      <td>0</td>\n",
       "      <td>1</td>\n",
       "    </tr>\n",
       "    <tr>\n",
       "      <th>71</th>\n",
       "      <td>Poll: Majority Of Americans Believe COVID Came...</td>\n",
       "      <td>0</td>\n",
       "      <td>1</td>\n",
       "    </tr>\n",
       "    <tr>\n",
       "      <th>118</th>\n",
       "      <td>Artist Sells “Invisible Sculpture” That’s Lite...</td>\n",
       "      <td>0</td>\n",
       "      <td>1</td>\n",
       "    </tr>\n",
       "    <tr>\n",
       "      <th>127</th>\n",
       "      <td>Pastor Jesse Lee Peterson Calls For U.S. To Ce...</td>\n",
       "      <td>0</td>\n",
       "      <td>1</td>\n",
       "    </tr>\n",
       "    <tr>\n",
       "      <th>138</th>\n",
       "      <td>New York Politicians Have No Idea How to Fix t...</td>\n",
       "      <td>0</td>\n",
       "      <td>1</td>\n",
       "    </tr>\n",
       "    <tr>\n",
       "      <th>141</th>\n",
       "      <td>Soaring Used Car Prices May Result In “Shockin...</td>\n",
       "      <td>0</td>\n",
       "      <td>1</td>\n",
       "    </tr>\n",
       "    <tr>\n",
       "      <th>144</th>\n",
       "      <td>Russia’s $186 Billion Sovereign Wealth Fund Du...</td>\n",
       "      <td>0</td>\n",
       "      <td>1</td>\n",
       "    </tr>\n",
       "    <tr>\n",
       "      <th>148</th>\n",
       "      <td>Scientist At Center Of Lab Leak Controversy Pu...</td>\n",
       "      <td>0</td>\n",
       "      <td>1</td>\n",
       "    </tr>\n",
       "    <tr>\n",
       "      <th>157</th>\n",
       "      <td>Peaceful Capitol Protester Threatened With 20 ...</td>\n",
       "      <td>0</td>\n",
       "      <td>1</td>\n",
       "    </tr>\n",
       "    <tr>\n",
       "      <th>168</th>\n",
       "      <td>EU looked at ‘importing 70 million Africans’ b...</td>\n",
       "      <td>0</td>\n",
       "      <td>1</td>\n",
       "    </tr>\n",
       "    <tr>\n",
       "      <th>169</th>\n",
       "      <td>Medical Journal Describes “Whiteness” as a Par...</td>\n",
       "      <td>0</td>\n",
       "      <td>1</td>\n",
       "    </tr>\n",
       "    <tr>\n",
       "      <th>170</th>\n",
       "      <td>Pence Emerges: Trump and I May Never “See Eye ...</td>\n",
       "      <td>0</td>\n",
       "      <td>1</td>\n",
       "    </tr>\n",
       "    <tr>\n",
       "      <th>180</th>\n",
       "      <td>Scientist Who Told Fauci COVID ‘Potentially En...</td>\n",
       "      <td>0</td>\n",
       "      <td>1</td>\n",
       "    </tr>\n",
       "    <tr>\n",
       "      <th>182</th>\n",
       "      <td>Trump Responds After Facebook Confirms At Leas...</td>\n",
       "      <td>0</td>\n",
       "      <td>1</td>\n",
       "    </tr>\n",
       "    <tr>\n",
       "      <th>185</th>\n",
       "      <td>China’s vast foreign reserves grow to $3.22 TR...</td>\n",
       "      <td>0</td>\n",
       "      <td>1</td>\n",
       "    </tr>\n",
       "    <tr>\n",
       "      <th>189</th>\n",
       "      <td>‘No Trust’: Top Republican Kevin McCarthy Call...</td>\n",
       "      <td>0</td>\n",
       "      <td>1</td>\n",
       "    </tr>\n",
       "    <tr>\n",
       "      <th>193</th>\n",
       "      <td>CVS Pharmacists Using Bar Codes on Right Hand:...</td>\n",
       "      <td>0</td>\n",
       "      <td>1</td>\n",
       "    </tr>\n",
       "    <tr>\n",
       "      <th>196</th>\n",
       "      <td>World Economic Forum pushes MIT program that a...</td>\n",
       "      <td>0</td>\n",
       "      <td>1</td>\n",
       "    </tr>\n",
       "    <tr>\n",
       "      <th>200</th>\n",
       "      <td>NATO Chief Says Org Does NOT See China as Adve...</td>\n",
       "      <td>0</td>\n",
       "      <td>1</td>\n",
       "    </tr>\n",
       "    <tr>\n",
       "      <th>201</th>\n",
       "      <td>Trump Promises to Retake White House ‘Sooner T...</td>\n",
       "      <td>0</td>\n",
       "      <td>1</td>\n",
       "    </tr>\n",
       "    <tr>\n",
       "      <th>205</th>\n",
       "      <td>Pharmacist Who Sabotaged COVID Vaccines After ...</td>\n",
       "      <td>0</td>\n",
       "      <td>1</td>\n",
       "    </tr>\n",
       "    <tr>\n",
       "      <th>206</th>\n",
       "      <td>Scientist At Center Of Lab Leak Controversy Pu...</td>\n",
       "      <td>0</td>\n",
       "      <td>1</td>\n",
       "    </tr>\n",
       "    <tr>\n",
       "      <th>208</th>\n",
       "      <td>Twitter bans Naomi Wolf Feminist author and jo...</td>\n",
       "      <td>0</td>\n",
       "      <td>1</td>\n",
       "    </tr>\n",
       "    <tr>\n",
       "      <th>211</th>\n",
       "      <td>England’s Lockdown Could Continue Despite Deat...</td>\n",
       "      <td>0</td>\n",
       "      <td>1</td>\n",
       "    </tr>\n",
       "    <tr>\n",
       "      <th>212</th>\n",
       "      <td>German Study Finds Lockdown ‘Had No Effect’ on...</td>\n",
       "      <td>0</td>\n",
       "      <td>1</td>\n",
       "    </tr>\n",
       "  </tbody>\n",
       "</table>\n",
       "</div>"
      ],
      "text/plain": [
       "                                                   txt  label  predictions\n",
       "6    England Cricketer Gets International Ban For E...      0            1\n",
       "21   Video: A Vindicated Rand Paul Decimates Fauci ...      0            1\n",
       "29   Malaysian Police Use Heat Drones to Check Temp...      0            1\n",
       "33   ‘OK Boomer’ Bernie E-Girl Brags About $2 Milli...      0            1\n",
       "38   NASA’s Juno to Get a Close Look at Jupiter’s M...      0            1\n",
       "47   G7 Finance Ministers Reach ‘Historic Agreement...      0            1\n",
       "49   50-Year-Old Mother Charged With ‘Transphobic H...      0            1\n",
       "50   World Economic Forum Pushes MIT Program that A...      0            1\n",
       "51   Video: Rand Paul Says He’s Getting Daily DEATH...      0            1\n",
       "53   Joe Biden Neglects D-Day; Tweets About Tulsa R...      0            1\n",
       "54   Northeast Power Prices Surge as Heat Wave Forc...      0            1\n",
       "61   Yet Another Scientific Study Concludes COVID I...      0            1\n",
       "62   Jack Dorsey Confronted By Laura Loomer Conserv...      0            1\n",
       "67   Cricketing Authorities Considering Exposing An...      0            1\n",
       "71   Poll: Majority Of Americans Believe COVID Came...      0            1\n",
       "118  Artist Sells “Invisible Sculpture” That’s Lite...      0            1\n",
       "127  Pastor Jesse Lee Peterson Calls For U.S. To Ce...      0            1\n",
       "138  New York Politicians Have No Idea How to Fix t...      0            1\n",
       "141  Soaring Used Car Prices May Result In “Shockin...      0            1\n",
       "144  Russia’s $186 Billion Sovereign Wealth Fund Du...      0            1\n",
       "148  Scientist At Center Of Lab Leak Controversy Pu...      0            1\n",
       "157  Peaceful Capitol Protester Threatened With 20 ...      0            1\n",
       "168  EU looked at ‘importing 70 million Africans’ b...      0            1\n",
       "169  Medical Journal Describes “Whiteness” as a Par...      0            1\n",
       "170  Pence Emerges: Trump and I May Never “See Eye ...      0            1\n",
       "180  Scientist Who Told Fauci COVID ‘Potentially En...      0            1\n",
       "182  Trump Responds After Facebook Confirms At Leas...      0            1\n",
       "185  China’s vast foreign reserves grow to $3.22 TR...      0            1\n",
       "189  ‘No Trust’: Top Republican Kevin McCarthy Call...      0            1\n",
       "193  CVS Pharmacists Using Bar Codes on Right Hand:...      0            1\n",
       "196  World Economic Forum pushes MIT program that a...      0            1\n",
       "200  NATO Chief Says Org Does NOT See China as Adve...      0            1\n",
       "201  Trump Promises to Retake White House ‘Sooner T...      0            1\n",
       "205  Pharmacist Who Sabotaged COVID Vaccines After ...      0            1\n",
       "206  Scientist At Center Of Lab Leak Controversy Pu...      0            1\n",
       "208  Twitter bans Naomi Wolf Feminist author and jo...      0            1\n",
       "211  England’s Lockdown Could Continue Despite Deat...      0            1\n",
       "212  German Study Finds Lockdown ‘Had No Effect’ on...      0            1"
      ]
     },
     "execution_count": 34,
     "metadata": {},
     "output_type": "execute_result"
    }
   ],
   "source": [
    "fake = df_X_test_scraped.loc[df_X_test_scraped.label==0]\n",
    "FNfake=fake.loc[fake.predictions==1]\n",
    "FNfake"
   ]
  },
  {
   "cell_type": "code",
   "execution_count": 84,
   "metadata": {},
   "outputs": [
    {
     "name": "stdout",
     "output_type": "stream",
     "text": [
      "total real = 102 \n",
      "Total False Positive = 6 ( 5.9 %)\n",
      "total fake = 112 \n",
      "Total False Negative = 38 ( 33.9 %)\n"
     ]
    }
   ],
   "source": [
    "print(\"total real =\", real.shape[0],\n",
    "      \"\\nTotal False Positive =\", FPreal.shape[0],\"(\",round(FPreal.shape[0]*100/real.shape[0],1),\"%)\")\n",
    "\n",
    "print(\"total fake =\", fake.shape[0],\n",
    "      \"\\nTotal False Negative =\", FNfake.shape[0],\"(\",round(FNfake.shape[0]*100/fake.shape[0],1),\"%)\")"
   ]
  },
  {
   "cell_type": "code",
   "execution_count": 36,
   "metadata": {},
   "outputs": [
    {
     "data": {
      "text/plain": [
       "<matplotlib.axes._subplots.AxesSubplot at 0x293866133d0>"
      ]
     },
     "execution_count": 36,
     "metadata": {},
     "output_type": "execute_result"
    },
    {
     "data": {
      "image/png": "[encoded data removed]",
      "text/plain": [
       "<Figure size 432x288 with 1 Axes>"
      ]
     },
     "metadata": {},
     "output_type": "display_data"
    }
   ],
   "source": [
    "real['txt'].str.split().map(lambda x: len(x)).hist() "
   ]
  },
  {
   "cell_type": "code",
   "execution_count": 37,
   "metadata": {},
   "outputs": [
    {
     "data": {
      "text/plain": [
       "<matplotlib.axes._subplots.AxesSubplot at 0x293863e6160>"
      ]
     },
     "execution_count": 37,
     "metadata": {},
     "output_type": "execute_result"
    },
    {
     "data": {
      "image/png": "[encoded data removed]",
      "text/plain": [
       "<Figure size 432x288 with 1 Axes>"
      ]
     },
     "metadata": {},
     "output_type": "display_data"
    }
   ],
   "source": [
    "fake['txt'].str.split().map(lambda x: len(x)).hist()"
   ]
  },
  {
   "cell_type": "code",
   "execution_count": 49,
   "metadata": {},
   "outputs": [
    {
     "data": {
      "text/plain": [
       "<matplotlib.axes._subplots.AxesSubplot at 0x29385b547f0>"
      ]
     },
     "execution_count": 49,
     "metadata": {},
     "output_type": "execute_result"
    },
    {
     "data": {
      "image/png": "[encoded data removed]",
      "text/plain": [
       "<Figure size 432x288 with 1 Axes>"
      ]
     },
     "metadata": {},
     "output_type": "display_data"
    }
   ],
   "source": [
    "seq_len_fake_pred = [len(i.split()) for i in FNfake['txt']]\n",
    "pd.Series(seq_len_fake_pred).hist(bins = 30)"
   ]
  }
 ],
 "metadata": {
  "kernelspec": {
   "display_name": "Python 3",
   "language": "python",
   "name": "python3"
  },
  "language_info": {
   "codemirror_mode": {
    "name": "ipython",
    "version": 3
   },
   "file_extension": ".py",
   "mimetype": "text/x-python",
   "name": "python",
   "nbconvert_exporter": "python",
   "pygments_lexer": "ipython3",
   "version": "3.8.3"
  }
 },
 "nbformat": 4,
 "nbformat_minor": 4
}
